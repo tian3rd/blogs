{
 "metadata": {
  "language_info": {
   "codemirror_mode": {
    "name": "ipython",
    "version": 3
   },
   "file_extension": ".py",
   "mimetype": "text/x-python",
   "name": "python",
   "nbconvert_exporter": "python",
   "pygments_lexer": "ipython3",
   "version": "3.9.2-final"
  },
  "orig_nbformat": 2,
  "kernelspec": {
   "name": "python392jvsc74a57bd0aee8b7b246df8f9039afb4144a1f6fd8d2ca17a180786b69acc140d282b71a49",
   "display_name": "Python 3.9.2 64-bit"
  },
  "metadata": {
   "interpreter": {
    "hash": "aee8b7b246df8f9039afb4144a1f6fd8d2ca17a180786b69acc140d282b71a49"
   }
  }
 },
 "nbformat": 4,
 "nbformat_minor": 2,
 "cells": [
  {
   "source": [
    "# Basics\n"
   ],
   "cell_type": "markdown",
   "metadata": {}
  },
  {
   "cell_type": "code",
   "execution_count": 1,
   "metadata": {},
   "outputs": [],
   "source": [
    "import torch"
   ]
  },
  {
   "source": [
    "## 0. Documentation and help"
   ],
   "cell_type": "markdown",
   "metadata": {}
  },
  {
   "cell_type": "code",
   "execution_count": 2,
   "metadata": {},
   "outputs": [
    {
     "output_type": "stream",
     "name": "stdout",
     "text": [
      "['AbsTransform', 'AffineTransform', 'Bernoulli', 'Beta', 'Binomial', 'CatTransform', 'Categorical', 'Cauchy', 'Chi2', 'ComposeTransform', 'ContinuousBernoulli', 'CorrCholeskyTransform', 'Dirichlet', 'Distribution', 'ExpTransform', 'Exponential', 'ExponentialFamily', 'FisherSnedecor', 'Gamma', 'Geometric', 'Gumbel', 'HalfCauchy', 'HalfNormal', 'Independent', 'IndependentTransform', 'Kumaraswamy', 'LKJCholesky', 'Laplace', 'LogNormal', 'LogisticNormal', 'LowRankMultivariateNormal', 'LowerCholeskyTransform', 'MixtureSameFamily', 'Multinomial', 'MultivariateNormal', 'NegativeBinomial', 'Normal', 'OneHotCategorical', 'OneHotCategoricalStraightThrough', 'Pareto', 'Poisson', 'PowerTransform', 'RelaxedBernoulli', 'RelaxedOneHotCategorical', 'ReshapeTransform', 'SigmoidTransform', 'SoftmaxTransform', 'StackTransform', 'StickBreakingTransform', 'StudentT', 'TanhTransform', 'Transform', 'TransformedDistribution', 'Uniform', 'VonMises', 'Weibull', '__all__', '__builtins__', '__cached__', '__doc__', '__file__', '__loader__', '__name__', '__package__', '__path__', '__spec__', 'bernoulli', 'beta', 'biject_to', 'binomial', 'categorical', 'cauchy', 'chi2', 'constraint_registry', 'constraints', 'continuous_bernoulli', 'dirichlet', 'distribution', 'exp_family', 'exponential', 'fishersnedecor', 'gamma', 'geometric', 'gumbel', 'half_cauchy', 'half_normal', 'identity_transform', 'independent', 'kl', 'kl_divergence', 'kumaraswamy', 'laplace', 'lkj_cholesky', 'log_normal', 'logistic_normal', 'lowrank_multivariate_normal', 'mixture_same_family', 'multinomial', 'multivariate_normal', 'negative_binomial', 'normal', 'one_hot_categorical', 'pareto', 'poisson', 'register_kl', 'relaxed_bernoulli', 'relaxed_categorical', 'studentT', 'transform_to', 'transformed_distribution', 'transforms', 'uniform', 'utils', 'von_mises', 'weibull']\n"
     ]
    }
   ],
   "source": [
    "print(dir(torch.distributions))"
   ]
  },
  {
   "source": [
    "> In this repo, #@save is a special notation meaning the method/class/cmds are already in package d2l(`pip3 install -U d2l`), which can be called directly, e.g., d2l.mkdir_if_not_exist(path)"
   ],
   "cell_type": "markdown",
   "metadata": {}
  },
  {
   "cell_type": "code",
   "execution_count": 3,
   "metadata": {},
   "outputs": [
    {
     "output_type": "stream",
     "name": "stdout",
     "text": [
      "Help on built-in function ones:\n\nones(...)\n    ones(*size, *, out=None, dtype=None, layout=torch.strided, device=None, requires_grad=False) -> Tensor\n    \n    Returns a tensor filled with the scalar value `1`, with the shape defined\n    by the variable argument :attr:`size`.\n    \n    Args:\n        size (int...): a sequence of integers defining the shape of the output tensor.\n            Can be a variable number of arguments or a collection like a list or tuple.\n    \n    Keyword arguments:\n        out (Tensor, optional): the output tensor.\n        dtype (:class:`torch.dtype`, optional): the desired data type of returned tensor.\n            Default: if ``None``, uses a global default (see :func:`torch.set_default_tensor_type`).\n        layout (:class:`torch.layout`, optional): the desired layout of returned Tensor.\n            Default: ``torch.strided``.\n        device (:class:`torch.device`, optional): the desired device of returned tensor.\n            Default: if ``None``, uses the current device for the default tensor type\n            (see :func:`torch.set_default_tensor_type`). :attr:`device` will be the CPU\n            for CPU tensor types and the current CUDA device for CUDA tensor types.\n        requires_grad (bool, optional): If autograd should record operations on the\n            returned tensor. Default: ``False``.\n    \n    Example::\n    \n        >>> torch.ones(2, 3)\n        tensor([[ 1.,  1.,  1.],\n                [ 1.,  1.,  1.]])\n    \n        >>> torch.ones(5)\n        tensor([ 1.,  1.,  1.,  1.,  1.])\n\n"
     ]
    }
   ],
   "source": [
    "help(torch.ones)"
   ]
  },
  {
   "cell_type": "code",
   "execution_count": 4,
   "metadata": {},
   "outputs": [
    {
     "output_type": "stream",
     "text": [
      "\u001b[0;31mDocstring:\u001b[0m\n",
      "zeros(*size, *, out=None, dtype=None, layout=torch.strided, device=None, requires_grad=False) -> Tensor\n",
      "\n",
      "Returns a tensor filled with the scalar value `0`, with the shape defined\n",
      "by the variable argument :attr:`size`.\n",
      "\n",
      "Args:\n",
      "    size (int...): a sequence of integers defining the shape of the output tensor.\n",
      "        Can be a variable number of arguments or a collection like a list or tuple.\n",
      "\n",
      "Keyword args:\n",
      "    out (Tensor, optional): the output tensor.\n",
      "    dtype (:class:`torch.dtype`, optional): the desired data type of returned tensor.\n",
      "        Default: if ``None``, uses a global default (see :func:`torch.set_default_tensor_type`).\n",
      "    layout (:class:`torch.layout`, optional): the desired layout of returned Tensor.\n",
      "        Default: ``torch.strided``.\n",
      "    device (:class:`torch.device`, optional): the desired device of returned tensor.\n",
      "        Default: if ``None``, uses the current device for the default tensor type\n",
      "        (see :func:`torch.set_default_tensor_type`). :attr:`device` will be the CPU\n",
      "        for CPU tensor types and the current CUDA device for CUDA tensor types.\n",
      "    requires_grad (bool, optional): If autograd should record operations on the\n",
      "        returned tensor. Default: ``False``.\n",
      "\n",
      "Example::\n",
      "\n",
      "    >>> torch.zeros(2, 3)\n",
      "    tensor([[ 0.,  0.,  0.],\n",
      "            [ 0.,  0.,  0.]])\n",
      "\n",
      "    >>> torch.zeros(5)\n",
      "    tensor([ 0.,  0.,  0.,  0.,  0.])\n",
      "\u001b[0;31mType:\u001b[0m      builtin_function_or_method\n"
     ],
     "name": "stdout"
    }
   ],
   "source": [
    "torch.zeros?"
   ]
  },
  {
   "source": [
    "[jupyter notebook cheat sheet(pdf)](https://www.edureka.co/blog/wp-content/uploads/2018/10/Jupyter_Notebook_CheatSheet_Edureka.pdf)"
   ],
   "cell_type": "markdown",
   "metadata": {}
  },
  {
   "source": [
    "## 1. Data operations"
   ],
   "cell_type": "markdown",
   "metadata": {}
  },
  {
   "cell_type": "code",
   "execution_count": 5,
   "metadata": {},
   "outputs": [
    {
     "output_type": "execute_result",
     "data": {
      "text/plain": [
       "tensor([ 0,  1,  2,  3,  4,  5,  6,  7,  8,  9, 10, 11])"
      ]
     },
     "metadata": {},
     "execution_count": 5
    }
   ],
   "source": [
    "x = torch.arange(12)\n",
    "x"
   ]
  },
  {
   "cell_type": "code",
   "execution_count": 6,
   "metadata": {},
   "outputs": [
    {
     "output_type": "execute_result",
     "data": {
      "text/plain": [
       "torch.Size([12])"
      ]
     },
     "metadata": {},
     "execution_count": 6
    }
   ],
   "source": [
    "x.shape"
   ]
  },
  {
   "cell_type": "code",
   "execution_count": 7,
   "metadata": {},
   "outputs": [
    {
     "output_type": "execute_result",
     "data": {
      "text/plain": [
       "12"
      ]
     },
     "metadata": {},
     "execution_count": 7
    }
   ],
   "source": [
    "# total number of tensor size\n",
    "x.numel()"
   ]
  },
  {
   "cell_type": "code",
   "execution_count": 8,
   "metadata": {},
   "outputs": [
    {
     "output_type": "execute_result",
     "data": {
      "text/plain": [
       "tensor([[ 0,  1,  2,  3],\n",
       "        [ 4,  5,  6,  7],\n",
       "        [ 8,  9, 10, 11]])"
      ]
     },
     "metadata": {},
     "execution_count": 8
    }
   ],
   "source": [
    "X = x.reshape(3, 4)\n",
    "X"
   ]
  },
  {
   "cell_type": "code",
   "execution_count": 9,
   "metadata": {},
   "outputs": [
    {
     "output_type": "execute_result",
     "data": {
      "text/plain": [
       "tensor([[[0., 0., 0., 0.],\n",
       "         [0., 0., 0., 0.],\n",
       "         [0., 0., 0., 0.]],\n",
       "\n",
       "        [[0., 0., 0., 0.],\n",
       "         [0., 0., 0., 0.],\n",
       "         [0., 0., 0., 0.]]])"
      ]
     },
     "metadata": {},
     "execution_count": 9
    }
   ],
   "source": [
    "torch.zeros((2, 3, 4))"
   ]
  },
  {
   "cell_type": "code",
   "execution_count": 10,
   "metadata": {},
   "outputs": [
    {
     "output_type": "execute_result",
     "data": {
      "text/plain": [
       "tensor([[[1., 1., 1., 1.],\n",
       "         [1., 1., 1., 1.],\n",
       "         [1., 1., 1., 1.]],\n",
       "\n",
       "        [[1., 1., 1., 1.],\n",
       "         [1., 1., 1., 1.],\n",
       "         [1., 1., 1., 1.]]])"
      ]
     },
     "metadata": {},
     "execution_count": 10
    }
   ],
   "source": [
    "torch.ones((2, 3, 4))"
   ]
  },
  {
   "cell_type": "code",
   "execution_count": 11,
   "metadata": {},
   "outputs": [
    {
     "output_type": "execute_result",
     "data": {
      "text/plain": [
       "tensor([[-1.2935,  2.2440, -0.6060, -0.3583],\n",
       "        [ 0.2627, -0.0069, -1.2665,  0.2597],\n",
       "        [ 0.2813, -1.0947, -0.4783, -0.2805]])"
      ]
     },
     "metadata": {},
     "execution_count": 11
    }
   ],
   "source": [
    "# random element from gaussian distribution of mu, sigma = 0, 1\n",
    "torch.randn(3, 4)"
   ]
  },
  {
   "cell_type": "code",
   "execution_count": 12,
   "metadata": {},
   "outputs": [
    {
     "output_type": "execute_result",
     "data": {
      "text/plain": [
       "tensor([[2, 1, 4, 3],\n",
       "        [1, 2, 3, 4],\n",
       "        [4, 3, 2, 1]])"
      ]
     },
     "metadata": {},
     "execution_count": 12
    }
   ],
   "source": [
    "# convert python list to tensor\n",
    "torch.tensor([[2, 1, 4, 3], [1, 2, 3, 4], [4, 3, 2, 1]])"
   ]
  },
  {
   "source": [
    "x = torch.tensor([1., 2, 4, 8])\n",
    "y = torch.tensor([2, 2, 2, 2])\n",
    "x + y, x - y, x * y, x / y, x**y"
   ],
   "cell_type": "code",
   "metadata": {},
   "execution_count": 13,
   "outputs": [
    {
     "output_type": "execute_result",
     "data": {
      "text/plain": [
       "(tensor([ 3.,  4.,  6., 10.]),\n",
       " tensor([-1.,  0.,  2.,  6.]),\n",
       " tensor([ 2.,  4.,  8., 16.]),\n",
       " tensor([0.5000, 1.0000, 2.0000, 4.0000]),\n",
       " tensor([ 1.,  4., 16., 64.]))"
      ]
     },
     "metadata": {},
     "execution_count": 13
    }
   ]
  },
  {
   "cell_type": "code",
   "execution_count": 14,
   "metadata": {},
   "outputs": [
    {
     "output_type": "execute_result",
     "data": {
      "text/plain": [
       "tensor([2.7183e+00, 7.3891e+00, 5.4598e+01, 2.9810e+03])"
      ]
     },
     "metadata": {},
     "execution_count": 14
    }
   ],
   "source": [
    "torch.exp(x)"
   ]
  },
  {
   "cell_type": "code",
   "execution_count": 15,
   "metadata": {},
   "outputs": [
    {
     "output_type": "execute_result",
     "data": {
      "text/plain": [
       "(tensor([[ 0.,  1.,  2.,  3.],\n",
       "         [ 4.,  5.,  6.,  7.],\n",
       "         [ 8.,  9., 10., 11.],\n",
       "         [ 2.,  1.,  4.,  3.],\n",
       "         [ 1.,  2.,  3.,  4.],\n",
       "         [ 4.,  3.,  2.,  1.]]),\n",
       " tensor([[ 0.,  1.,  2.,  3.,  2.,  1.,  4.,  3.],\n",
       "         [ 4.,  5.,  6.,  7.,  1.,  2.,  3.,  4.],\n",
       "         [ 8.,  9., 10., 11.,  4.,  3.,  2.,  1.]]))"
      ]
     },
     "metadata": {},
     "execution_count": 15
    }
   ],
   "source": [
    "X = torch.arange(12, dtype=torch.float32).reshape((3, 4))\n",
    "Y = torch.tensor([[2., 1, 4, 3], [1, 2, 3, 4], [4, 3, 2, 1]])\n",
    "# dim 0 is vertical, dim 1 is horizonal\n",
    "torch.cat((X, Y), dim=0), torch.cat((X, Y), dim=1)"
   ]
  },
  {
   "cell_type": "code",
   "execution_count": 16,
   "metadata": {},
   "outputs": [
    {
     "output_type": "execute_result",
     "data": {
      "text/plain": [
       "tensor([[False,  True, False,  True],\n",
       "        [False, False, False, False],\n",
       "        [False, False, False, False]])"
      ]
     },
     "metadata": {},
     "execution_count": 16
    }
   ],
   "source": [
    "X == Y"
   ]
  },
  {
   "cell_type": "code",
   "execution_count": 17,
   "metadata": {},
   "outputs": [
    {
     "output_type": "execute_result",
     "data": {
      "text/plain": [
       "tensor(66.)"
      ]
     },
     "metadata": {},
     "execution_count": 17
    }
   ],
   "source": [
    "X.sum()"
   ]
  },
  {
   "cell_type": "code",
   "execution_count": 18,
   "metadata": {},
   "outputs": [
    {
     "output_type": "execute_result",
     "data": {
      "text/plain": [
       "(tensor([[0],\n",
       "         [1],\n",
       "         [2]]),\n",
       " tensor([[0, 1]]))"
      ]
     },
     "metadata": {},
     "execution_count": 18
    }
   ],
   "source": [
    "## broadcasting mechanism\n",
    "a = torch.arange(3).reshape((3, 1))\n",
    "b = torch.arange(2).reshape((1, 2))\n",
    "a, b"
   ]
  },
  {
   "cell_type": "code",
   "execution_count": 19,
   "metadata": {},
   "outputs": [
    {
     "output_type": "execute_result",
     "data": {
      "text/plain": [
       "tensor([[0, 1],\n",
       "        [1, 2],\n",
       "        [2, 3]])"
      ]
     },
     "metadata": {},
     "execution_count": 19
    }
   ],
   "source": [
    "a + b"
   ]
  },
  {
   "cell_type": "code",
   "execution_count": 20,
   "metadata": {},
   "outputs": [
    {
     "output_type": "execute_result",
     "data": {
      "text/plain": [
       "(tensor([ 8.,  9., 10., 11.]),\n",
       " tensor([[ 4.,  5.,  6.,  7.],\n",
       "         [ 8.,  9., 10., 11.]]))"
      ]
     },
     "metadata": {},
     "execution_count": 20
    }
   ],
   "source": [
    "X[-1], X[1:3]"
   ]
  },
  {
   "cell_type": "code",
   "execution_count": 21,
   "metadata": {},
   "outputs": [
    {
     "output_type": "execute_result",
     "data": {
      "text/plain": [
       "tensor([[ 0.,  1.,  2.,  3.],\n",
       "        [ 4.,  5.,  9.,  7.],\n",
       "        [ 8.,  9., 10., 11.]])"
      ]
     },
     "metadata": {},
     "execution_count": 21
    }
   ],
   "source": [
    "X[1, 2] = 9\n",
    "X"
   ]
  },
  {
   "cell_type": "code",
   "execution_count": 22,
   "metadata": {},
   "outputs": [
    {
     "output_type": "execute_result",
     "data": {
      "text/plain": [
       "tensor([[12., 12., 12., 12.],\n",
       "        [12., 12., 12., 12.],\n",
       "        [ 8.,  9., 10., 11.]])"
      ]
     },
     "metadata": {},
     "execution_count": 22
    }
   ],
   "source": [
    "X[0:2, :] = 12\n",
    "X"
   ]
  },
  {
   "cell_type": "code",
   "execution_count": 23,
   "metadata": {},
   "outputs": [
    {
     "output_type": "execute_result",
     "data": {
      "text/plain": [
       "False"
      ]
     },
     "metadata": {},
     "execution_count": 23
    }
   ],
   "source": [
    "## change in place\n",
    "before = id(Y)\n",
    "Y = Y + X\n",
    "id(Y) == before"
   ]
  },
  {
   "cell_type": "code",
   "execution_count": 24,
   "metadata": {},
   "outputs": [
    {
     "output_type": "stream",
     "name": "stdout",
     "text": [
      "id(Z):  4979566016\nid(Z):  4979566016\n"
     ]
    }
   ],
   "source": [
    "# use slicing \n",
    "Z = torch.zeros_like(Y)\n",
    "print('id(Z): ', id(Z))\n",
    "Z[:] = X + Y\n",
    "print('id(Z): ', id(Z))"
   ]
  },
  {
   "cell_type": "code",
   "execution_count": 25,
   "metadata": {},
   "outputs": [
    {
     "output_type": "stream",
     "name": "stdout",
     "text": [
      "['_Processor', '_WIN32_CLIENT_RELEASES', '_WIN32_SERVER_RELEASES', '__builtins__', '__cached__', '__copyright__', '__doc__', '__file__', '__loader__', '__name__', '__package__', '__spec__', '__version__', '_comparable_version', '_component_re', '_default_architecture', '_follow_symlinks', '_get_machine_win32', '_ironpython26_sys_version_parser', '_ironpython_sys_version_parser', '_java_getprop', '_libc_search', '_mac_ver_xml', '_node', '_norm_version', '_platform', '_platform_cache', '_pypy_sys_version_parser', '_sys_version', '_sys_version_cache', '_sys_version_parser', '_syscmd_file', '_syscmd_ver', '_uname_cache', '_unknown_as_blank', '_ver_output', '_ver_stages', 'architecture', 'collections', 'functools', 'itertools', 'java_ver', 'libc_ver', 'mac_ver', 'machine', 'node', 'os', 'platform', 'processor', 'python_branch', 'python_build', 'python_compiler', 'python_implementation', 'python_revision', 'python_version', 'python_version_tuple', 're', 'release', 'subprocess', 'sys', 'system', 'system_alias', 'uname', 'uname_result', 'version', 'win32_edition', 'win32_is_iot', 'win32_ver']\n"
     ]
    }
   ],
   "source": [
    "# get os info\n",
    "import platform\n",
    "print(dir(platform))"
   ]
  },
  {
   "cell_type": "code",
   "execution_count": 26,
   "metadata": {},
   "outputs": [
    {
     "output_type": "stream",
     "name": "stdout",
     "text": [
      "======================================== System Information ========================================\n"
     ]
    },
    {
     "output_type": "execute_result",
     "data": {
      "text/plain": [
       "(uname_result(system='Darwin', node='PhiMac.local', release='19.6.0', version='Darwin Kernel Version 19.6.0: Tue Nov 10 00:10:30 PST 2020; root:xnu-6153.141.10~1/RELEASE_X86_64', machine='x86_64'),\n",
       " 'i386')"
      ]
     },
     "metadata": {},
     "execution_count": 26
    }
   ],
   "source": [
    "print(\"=\"*40, \"System Information\", \"=\"*40)\n",
    "platform.uname(), platform.processor()"
   ]
  },
  {
   "cell_type": "code",
   "execution_count": 27,
   "metadata": {},
   "outputs": [
    {
     "output_type": "execute_result",
     "data": {
      "text/plain": [
       "(numpy.ndarray, torch.Tensor)"
      ]
     },
     "metadata": {},
     "execution_count": 27
    }
   ],
   "source": [
    "# numpy <-> tensor\n",
    "A = X.numpy()\n",
    "B = torch.tensor(A)\n",
    "type(A), type(B)"
   ]
  },
  {
   "cell_type": "code",
   "execution_count": 28,
   "metadata": {},
   "outputs": [
    {
     "output_type": "execute_result",
     "data": {
      "text/plain": [
       "(tensor([3.5000]), 3.5, 3.5, 3)"
      ]
     },
     "metadata": {},
     "execution_count": 28
    }
   ],
   "source": [
    "# convert to scalar\n",
    "a = torch.tensor([3.5])\n",
    "a, a.item(), float(a), int(a)"
   ]
  },
  {
   "cell_type": "code",
   "execution_count": 29,
   "metadata": {},
   "outputs": [
    {
     "output_type": "stream",
     "text": [
      "\u001b[0;31mDocstring:\u001b[0m\n",
      "item() -> number\n",
      "\n",
      "Returns the value of this tensor as a standard Python number. This only works\n",
      "for tensors with one element. For other cases, see :meth:`~Tensor.tolist`.\n",
      "\n",
      "This operation is not differentiable.\n",
      "\n",
      "Example::\n",
      "\n",
      "    >>> x = torch.tensor([1.0])\n",
      "    >>> x.item()\n",
      "    1.0\n",
      "\u001b[0;31mType:\u001b[0m      builtin_function_or_method\n"
     ],
     "name": "stdout"
    }
   ],
   "source": [
    "a.item?"
   ]
  },
  {
   "source": [
    "## 2 Data Preprocessing"
   ],
   "cell_type": "markdown",
   "metadata": {}
  },
  {
   "cell_type": "code",
   "execution_count": 30,
   "metadata": {},
   "outputs": [],
   "source": [
    "import os\n",
    "# make dir in the upper folder\n",
    "os.makedirs(os.path.join('..', 'data'), exist_ok=True)\n",
    "data_file = os.path.join('..', 'data', 'house_tiny.csv')\n",
    "with open(data_file, 'w') as f:\n",
    "    f.write('NumRooms, Alley, Price\\n')\n",
    "    # NaN: not a number; NA: not applicable\n",
    "    f.write('NA,Pave,127500\\n')\n",
    "    f.write('2,NA,106000\\n')\n",
    "    f.write('4,NA,178100\\n')\n",
    "    f.write('NA,NA,140000\\n')"
   ]
  },
  {
   "cell_type": "code",
   "execution_count": 31,
   "metadata": {},
   "outputs": [
    {
     "output_type": "stream",
     "name": "stdout",
     "text": [
      "   NumRooms  Alley   Price\n0       NaN   Pave  127500\n1       2.0    NaN  106000\n2       4.0    NaN  178100\n3       NaN    NaN  140000\n"
     ]
    }
   ],
   "source": [
    "import pandas as pd\n",
    "# data as pd DataFrame\n",
    "data = pd.read_csv(data_file)\n",
    "print(data)"
   ]
  },
  {
   "cell_type": "code",
   "execution_count": 32,
   "metadata": {},
   "outputs": [
    {
     "output_type": "stream",
     "name": "stdout",
     "text": [
      "   NumRooms  Alley\n0       3.0   Pave\n1       2.0    NaN\n2       4.0    NaN\n3       3.0    NaN\n"
     ]
    }
   ],
   "source": [
    "# if outputs = data.iloc[:, 2:] that will create a N*1 DataFrame instead of a N, DataFrame\n",
    "inputs, outputs = data.iloc[:, 0:2], data.iloc[:, 2]\n",
    "# fillna\n",
    "inputs = inputs.fillna(inputs.mean())\n",
    "print(inputs)"
   ]
  },
  {
   "cell_type": "code",
   "execution_count": 33,
   "metadata": {},
   "outputs": [
    {
     "output_type": "stream",
     "name": "stdout",
     "text": [
      "   NumRooms   Alley_Pave   Alley_nan\n0       3.0            1           0\n1       2.0            0           1\n2       4.0            0           1\n3       3.0            0           1\n"
     ]
    }
   ],
   "source": [
    "inputs = pd.get_dummies(inputs, dummy_na=True)\n",
    "print(inputs)"
   ]
  },
  {
   "cell_type": "code",
   "execution_count": 34,
   "metadata": {},
   "outputs": [
    {
     "output_type": "execute_result",
     "data": {
      "text/plain": [
       "(tensor([[3., 1., 0.],\n",
       "         [2., 0., 1.],\n",
       "         [4., 0., 1.],\n",
       "         [3., 0., 1.]], dtype=torch.float64),\n",
       " tensor([127500, 106000, 178100, 140000]))"
      ]
     },
     "metadata": {},
     "execution_count": 34
    }
   ],
   "source": [
    "X, y = torch.tensor(inputs.values), torch.tensor(outputs.values)\n",
    "X, y"
   ]
  },
  {
   "source": [
    "## 3. Linear Algebra"
   ],
   "cell_type": "markdown",
   "metadata": {}
  },
  {
   "cell_type": "code",
   "execution_count": 35,
   "metadata": {},
   "outputs": [
    {
     "output_type": "stream",
     "name": "stdout",
     "text": [
      "id(x):  5011449088\n"
     ]
    },
    {
     "output_type": "execute_result",
     "data": {
      "text/plain": [
       "(tensor([5.]), tensor([6.]), tensor([1.5000]), tensor([9.]))"
      ]
     },
     "metadata": {},
     "execution_count": 35
    }
   ],
   "source": [
    "# scalar\n",
    "x = torch.tensor([3.])\n",
    "print('id(x): ', id(x))\n",
    "y = torch.tensor([2.])\n",
    "x + y, x * y, x / y, x**y"
   ]
  },
  {
   "cell_type": "code",
   "execution_count": 36,
   "metadata": {},
   "outputs": [
    {
     "output_type": "stream",
     "name": "stdout",
     "text": [
      "id(x):  5011464448\n"
     ]
    },
    {
     "output_type": "execute_result",
     "data": {
      "text/plain": [
       "tensor([0, 1, 2, 3])"
      ]
     },
     "metadata": {},
     "execution_count": 36
    }
   ],
   "source": [
    "# vectors\n",
    "x = torch.arange(4)\n",
    "print('id(x): ', id(x))\n",
    "x"
   ]
  },
  {
   "cell_type": "code",
   "execution_count": 37,
   "metadata": {},
   "outputs": [
    {
     "output_type": "execute_result",
     "data": {
      "text/plain": [
       "tensor(3)"
      ]
     },
     "metadata": {},
     "execution_count": 37
    }
   ],
   "source": [
    "x[3]"
   ]
  },
  {
   "cell_type": "code",
   "execution_count": 38,
   "metadata": {},
   "outputs": [
    {
     "output_type": "execute_result",
     "data": {
      "text/plain": [
       "4"
      ]
     },
     "metadata": {},
     "execution_count": 38
    }
   ],
   "source": [
    "len(x)"
   ]
  },
  {
   "cell_type": "code",
   "execution_count": 39,
   "metadata": {},
   "outputs": [
    {
     "output_type": "execute_result",
     "data": {
      "text/plain": [
       "4"
      ]
     },
     "metadata": {},
     "execution_count": 39
    }
   ],
   "source": [
    "x.numel()"
   ]
  },
  {
   "cell_type": "code",
   "execution_count": 40,
   "metadata": {},
   "outputs": [
    {
     "output_type": "execute_result",
     "data": {
      "text/plain": [
       "torch.Size([4])"
      ]
     },
     "metadata": {},
     "execution_count": 40
    }
   ],
   "source": [
    "x.shape"
   ]
  },
  {
   "cell_type": "code",
   "execution_count": 41,
   "metadata": {},
   "outputs": [
    {
     "output_type": "execute_result",
     "data": {
      "text/plain": [
       "tensor([[ 0,  1,  2,  3],\n",
       "        [ 4,  5,  6,  7],\n",
       "        [ 8,  9, 10, 11],\n",
       "        [12, 13, 14, 15],\n",
       "        [16, 17, 18, 19]])"
      ]
     },
     "metadata": {},
     "execution_count": 41
    }
   ],
   "source": [
    "A = torch.arange(20).reshape(5, 4)\n",
    "A"
   ]
  },
  {
   "cell_type": "code",
   "execution_count": 42,
   "metadata": {},
   "outputs": [
    {
     "output_type": "execute_result",
     "data": {
      "text/plain": [
       "tensor([[ 0,  4,  8, 12, 16],\n",
       "        [ 1,  5,  9, 13, 17],\n",
       "        [ 2,  6, 10, 14, 18],\n",
       "        [ 3,  7, 11, 15, 19]])"
      ]
     },
     "metadata": {},
     "execution_count": 42
    }
   ],
   "source": [
    "A.T"
   ]
  },
  {
   "cell_type": "code",
   "execution_count": 43,
   "metadata": {},
   "outputs": [
    {
     "output_type": "execute_result",
     "data": {
      "text/plain": [
       "tensor([[1, 2, 3],\n",
       "        [2, 0, 4],\n",
       "        [3, 4, 5]])"
      ]
     },
     "metadata": {},
     "execution_count": 43
    }
   ],
   "source": [
    "B = torch.tensor([[1,2,3], [2,0,4], [3,4,5]])\n",
    "B"
   ]
  },
  {
   "cell_type": "code",
   "execution_count": 44,
   "metadata": {},
   "outputs": [
    {
     "output_type": "execute_result",
     "data": {
      "text/plain": [
       "tensor([[True, True, True],\n",
       "        [True, True, True],\n",
       "        [True, True, True]])"
      ]
     },
     "metadata": {},
     "execution_count": 44
    }
   ],
   "source": [
    "B == B.T"
   ]
  },
  {
   "cell_type": "code",
   "execution_count": 45,
   "metadata": {},
   "outputs": [
    {
     "output_type": "execute_result",
     "data": {
      "text/plain": [
       "tensor([[[ 0,  1,  2,  3],\n",
       "         [ 4,  5,  6,  7],\n",
       "         [ 8,  9, 10, 11]],\n",
       "\n",
       "        [[12, 13, 14, 15],\n",
       "         [16, 17, 18, 19],\n",
       "         [20, 21, 22, 23]]])"
      ]
     },
     "metadata": {},
     "execution_count": 45
    }
   ],
   "source": [
    "X = torch.arange(24).reshape(2,3,4)\n",
    "X"
   ]
  },
  {
   "cell_type": "code",
   "execution_count": 46,
   "metadata": {},
   "outputs": [
    {
     "output_type": "stream",
     "name": "stdout",
     "text": [
      "id(A): 5011499520, id(B): 5011504064\n"
     ]
    },
    {
     "output_type": "execute_result",
     "data": {
      "text/plain": [
       "(tensor([[ 0.,  1.,  2.,  3.],\n",
       "         [ 4.,  5.,  6.,  7.],\n",
       "         [ 8.,  9., 10., 11.],\n",
       "         [12., 13., 14., 15.],\n",
       "         [16., 17., 18., 19.]]),\n",
       " tensor([[ 0.,  2.,  4.,  6.],\n",
       "         [ 8., 10., 12., 14.],\n",
       "         [16., 18., 20., 22.],\n",
       "         [24., 26., 28., 30.],\n",
       "         [32., 34., 36., 38.]]))"
      ]
     },
     "metadata": {},
     "execution_count": 46
    }
   ],
   "source": [
    "A = torch.arange(20, dtype=torch.float32).reshape(5, 4)\n",
    "# alloc new memory for B\n",
    "B = A.clone()\n",
    "print('id(A): %d, id(B): %d' %(id(A), id(B)))\n",
    "A, A+B"
   ]
  },
  {
   "cell_type": "code",
   "execution_count": 47,
   "metadata": {},
   "outputs": [
    {
     "output_type": "execute_result",
     "data": {
      "text/plain": [
       "tensor([[  0.,   1.,   4.,   9.],\n",
       "        [ 16.,  25.,  36.,  49.],\n",
       "        [ 64.,  81., 100., 121.],\n",
       "        [144., 169., 196., 225.],\n",
       "        [256., 289., 324., 361.]])"
      ]
     },
     "metadata": {},
     "execution_count": 47
    }
   ],
   "source": [
    "# Hadamard product ⊙ \n",
    "A * B"
   ]
  },
  {
   "cell_type": "code",
   "execution_count": 48,
   "metadata": {},
   "outputs": [
    {
     "output_type": "execute_result",
     "data": {
      "text/plain": [
       "(tensor([[[ 2,  3,  4,  5],\n",
       "          [ 6,  7,  8,  9],\n",
       "          [10, 11, 12, 13]],\n",
       " \n",
       "         [[14, 15, 16, 17],\n",
       "          [18, 19, 20, 21],\n",
       "          [22, 23, 24, 25]]]),\n",
       " torch.Size([2, 3, 4]))"
      ]
     },
     "metadata": {},
     "execution_count": 48
    }
   ],
   "source": [
    "a = 2\n",
    "X = torch.arange(24).reshape(2,3,4)\n",
    "a + X, (a*X).shape"
   ]
  },
  {
   "cell_type": "code",
   "execution_count": 49,
   "metadata": {},
   "outputs": [
    {
     "output_type": "execute_result",
     "data": {
      "text/plain": [
       "(tensor([0., 1., 2., 3.]), tensor(6.))"
      ]
     },
     "metadata": {},
     "execution_count": 49
    }
   ],
   "source": [
    "# sum\n",
    "x = torch.arange(4, dtype=torch.float32)\n",
    "x, x.sum()"
   ]
  },
  {
   "cell_type": "code",
   "execution_count": 50,
   "metadata": {},
   "outputs": [
    {
     "output_type": "stream",
     "text": [
      "\u001b[0;31mSignature:\u001b[0m \u001b[0msum\u001b[0m\u001b[0;34m(\u001b[0m\u001b[0miterable\u001b[0m\u001b[0;34m,\u001b[0m \u001b[0;34m/\u001b[0m\u001b[0;34m,\u001b[0m \u001b[0mstart\u001b[0m\u001b[0;34m=\u001b[0m\u001b[0;36m0\u001b[0m\u001b[0;34m)\u001b[0m\u001b[0;34m\u001b[0m\u001b[0;34m\u001b[0m\u001b[0m\n",
      "\u001b[0;31mDocstring:\u001b[0m\n",
      "Return the sum of a 'start' value (default: 0) plus an iterable of numbers\n",
      "\n",
      "When the iterable is empty, return the start value.\n",
      "This function is intended specifically for use with numeric values and may\n",
      "reject non-numeric types.\n",
      "\u001b[0;31mType:\u001b[0m      builtin_function_or_method\n"
     ],
     "name": "stdout"
    }
   ],
   "source": [
    "torch.tensor().sum?"
   ]
  },
  {
   "cell_type": "code",
   "execution_count": 51,
   "metadata": {},
   "outputs": [
    {
     "output_type": "execute_result",
     "data": {
      "text/plain": [
       "(torch.Size([5, 4]), tensor(190.))"
      ]
     },
     "metadata": {},
     "execution_count": 51
    }
   ],
   "source": [
    "A.shape, A.sum()"
   ]
  },
  {
   "cell_type": "code",
   "execution_count": 52,
   "metadata": {},
   "outputs": [
    {
     "output_type": "execute_result",
     "data": {
      "text/plain": [
       "(tensor([40., 45., 50., 55.]), torch.Size([4]))"
      ]
     },
     "metadata": {},
     "execution_count": 52
    }
   ],
   "source": [
    "A_sum_axis0 = A.sum(axis=0)\n",
    "A_sum_axis1 = A.sum(axis=1)\n",
    "A_sum_axis0, A_sum_axis0.shape"
   ]
  },
  {
   "cell_type": "code",
   "execution_count": 53,
   "metadata": {},
   "outputs": [
    {
     "output_type": "execute_result",
     "data": {
      "text/plain": [
       "(tensor([ 6., 22., 38., 54., 70.]), torch.Size([5]))"
      ]
     },
     "metadata": {},
     "execution_count": 53
    }
   ],
   "source": [
    "A_sum_axis1, A_sum_axis1.shape"
   ]
  },
  {
   "cell_type": "code",
   "execution_count": 54,
   "metadata": {},
   "outputs": [
    {
     "output_type": "execute_result",
     "data": {
      "text/plain": [
       "True"
      ]
     },
     "metadata": {},
     "execution_count": 54
    }
   ],
   "source": [
    "(A.sum() == A.sum(axis=[0, 1])).item()"
   ]
  },
  {
   "cell_type": "code",
   "execution_count": 55,
   "metadata": {},
   "outputs": [
    {
     "output_type": "execute_result",
     "data": {
      "text/plain": [
       "(tensor(9.5000), tensor(9.5000))"
      ]
     },
     "metadata": {},
     "execution_count": 55
    }
   ],
   "source": [
    "A.mean(), A.sum()/A.numel()"
   ]
  },
  {
   "cell_type": "code",
   "execution_count": 56,
   "metadata": {},
   "outputs": [
    {
     "output_type": "execute_result",
     "data": {
      "text/plain": [
       "(tensor([ 8.,  9., 10., 11.]), tensor([ 8.,  9., 10., 11.]))"
      ]
     },
     "metadata": {},
     "execution_count": 56
    }
   ],
   "source": [
    "A.mean(axis=0), A.sum(axis=0)/A.shape[0]"
   ]
  },
  {
   "cell_type": "code",
   "execution_count": 57,
   "metadata": {},
   "outputs": [
    {
     "output_type": "execute_result",
     "data": {
      "text/plain": [
       "tensor([[ 6.],\n",
       "        [22.],\n",
       "        [38.],\n",
       "        [54.],\n",
       "        [70.]])"
      ]
     },
     "metadata": {},
     "execution_count": 57
    }
   ],
   "source": [
    "# keep the dimension info\n",
    "sum_A = A.sum(axis=1, keepdims=True)\n",
    "sum_A"
   ]
  },
  {
   "cell_type": "code",
   "execution_count": 58,
   "metadata": {},
   "outputs": [
    {
     "output_type": "execute_result",
     "data": {
      "text/plain": [
       "(tensor([[0.0000, 0.1667, 0.3333, 0.5000],\n",
       "         [0.1818, 0.2273, 0.2727, 0.3182],\n",
       "         [0.2105, 0.2368, 0.2632, 0.2895],\n",
       "         [0.2222, 0.2407, 0.2593, 0.2778],\n",
       "         [0.2286, 0.2429, 0.2571, 0.2714]]),\n",
       " tensor([[1.],\n",
       "         [1.],\n",
       "         [1.],\n",
       "         [1.],\n",
       "         [1.]]))"
      ]
     },
     "metadata": {},
     "execution_count": 58
    }
   ],
   "source": [
    "# use broadcast\n",
    "C = A / sum_A\n",
    "C, C.sum(axis=1, keepdims=True)"
   ]
  },
  {
   "cell_type": "code",
   "execution_count": 59,
   "metadata": {},
   "outputs": [
    {
     "output_type": "stream",
     "name": "stdout",
     "text": [
      "tensor([[ 0.,  1.,  2.,  3.],\n        [ 4.,  5.,  6.,  7.],\n        [ 8.,  9., 10., 11.],\n        [12., 13., 14., 15.],\n        [16., 17., 18., 19.]])\n"
     ]
    },
    {
     "output_type": "execute_result",
     "data": {
      "text/plain": [
       "tensor([[ 0.,  1.,  2.,  3.],\n",
       "        [ 4.,  6.,  8., 10.],\n",
       "        [12., 15., 18., 21.],\n",
       "        [24., 28., 32., 36.],\n",
       "        [40., 45., 50., 55.]])"
      ]
     },
     "metadata": {},
     "execution_count": 59
    }
   ],
   "source": [
    "# cumulative sum\n",
    "print(A)\n",
    "A.cumsum(axis=0)"
   ]
  },
  {
   "cell_type": "code",
   "execution_count": 60,
   "metadata": {},
   "outputs": [
    {
     "output_type": "execute_result",
     "data": {
      "text/plain": [
       "(tensor([0., 1., 2., 3.]), tensor([1., 1., 1., 1.]), tensor(6.))"
      ]
     },
     "metadata": {},
     "execution_count": 60
    }
   ],
   "source": [
    "y = torch.ones(4, dtype=torch.float32)\n",
    "x, y, torch.dot(x, y)"
   ]
  },
  {
   "cell_type": "code",
   "execution_count": 61,
   "metadata": {},
   "outputs": [
    {
     "output_type": "execute_result",
     "data": {
      "text/plain": [
       "tensor(6.)"
      ]
     },
     "metadata": {},
     "execution_count": 61
    }
   ],
   "source": [
    "torch.sum(x * y)"
   ]
  },
  {
   "cell_type": "code",
   "execution_count": 62,
   "metadata": {},
   "outputs": [
    {
     "output_type": "execute_result",
     "data": {
      "text/plain": [
       "(torch.Size([5, 4]), torch.Size([4]), tensor([ 14.,  38.,  62.,  86., 110.]))"
      ]
     },
     "metadata": {},
     "execution_count": 62
    },
    {
     "output_type": "stream",
     "text": [
      "\u001b[0;31mDocstring:\u001b[0m\n",
      "mv(input, vec, *, out=None) -> Tensor\n",
      "\n",
      "Performs a matrix-vector product of the matrix :attr:`input` and the vector\n",
      ":attr:`vec`.\n",
      "\n",
      "If :attr:`input` is a :math:`(n \\times m)` tensor, :attr:`vec` is a 1-D tensor of\n",
      "size :math:`m`, :attr:`out` will be 1-D of size :math:`n`.\n",
      "\n",
      ".. note:: This function does not :ref:`broadcast <broadcasting-semantics>`.\n",
      "\n",
      "Args:\n",
      "    input (Tensor): matrix to be multiplied\n",
      "    vec (Tensor): vector to be multiplied\n",
      "\n",
      "Keyword args:\n",
      "    out (Tensor, optional): the output tensor.\n",
      "\n",
      "Example::\n",
      "\n",
      "    >>> mat = torch.randn(2, 3)\n",
      "    >>> vec = torch.randn(3)\n",
      "    >>> torch.mv(mat, vec)\n",
      "    tensor([ 1.0404, -0.6361])\n",
      "\u001b[0;31mType:\u001b[0m      builtin_function_or_method\n"
     ],
     "name": "stdout"
    }
   ],
   "source": [
    "torch.mv?\n",
    "A.shape, x.shape, torch.mv(A, x)"
   ]
  },
  {
   "cell_type": "code",
   "execution_count": 63,
   "metadata": {},
   "outputs": [
    {
     "output_type": "execute_result",
     "data": {
      "text/plain": [
       "tensor([[ 6.,  6.,  6.],\n",
       "        [22., 22., 22.],\n",
       "        [38., 38., 38.],\n",
       "        [54., 54., 54.],\n",
       "        [70., 70., 70.]])"
      ]
     },
     "metadata": {},
     "execution_count": 63
    },
    {
     "output_type": "stream",
     "text": [
      "\u001b[0;31mDocstring:\u001b[0m\n",
      "mm(input, mat2, *, out=None) -> Tensor\n",
      "\n",
      "Performs a matrix multiplication of the matrices :attr:`input` and :attr:`mat2`.\n",
      "\n",
      "If :attr:`input` is a :math:`(n \\times m)` tensor, :attr:`mat2` is a\n",
      ":math:`(m \\times p)` tensor, :attr:`out` will be a :math:`(n \\times p)` tensor.\n",
      "\n",
      ".. note:: This function does not :ref:`broadcast <broadcasting-semantics>`.\n",
      "          For broadcasting matrix products, see :func:`torch.matmul`.\n",
      "\n",
      "Supports strided and sparse 2-D tensors as inputs, autograd with\n",
      "respect to strided inputs.\n",
      "\n",
      "This operator supports :ref:`TensorFloat32<tf32_on_ampere>`.\n",
      "\n",
      "Args:\n",
      "    input (Tensor): the first matrix to be matrix multiplied\n",
      "    mat2 (Tensor): the second matrix to be matrix multiplied\n",
      "\n",
      "Keyword args:\n",
      "    out (Tensor, optional): the output tensor.\n",
      "\n",
      "Example::\n",
      "\n",
      "    >>> mat1 = torch.randn(2, 3)\n",
      "    >>> mat2 = torch.randn(3, 3)\n",
      "    >>> torch.mm(mat1, mat2)\n",
      "    tensor([[ 0.4851,  0.5037, -0.3633],\n",
      "            [-0.0760, -3.6705,  2.4784]])\n",
      "\u001b[0;31mType:\u001b[0m      builtin_function_or_method\n"
     ],
     "name": "stdout"
    }
   ],
   "source": [
    "torch.mm?\n",
    "B = torch.ones(4, 3)\n",
    "torch.mm(A, B)"
   ]
  },
  {
   "cell_type": "code",
   "execution_count": 64,
   "metadata": {},
   "outputs": [
    {
     "output_type": "execute_result",
     "data": {
      "text/plain": [
       "tensor(5.)"
      ]
     },
     "metadata": {},
     "execution_count": 64
    }
   ],
   "source": [
    "u = torch.tensor([3., 4.])\n",
    "torch.norm(u)"
   ]
  },
  {
   "cell_type": "code",
   "execution_count": 65,
   "metadata": {},
   "outputs": [
    {
     "output_type": "execute_result",
     "data": {
      "text/plain": [
       "tensor(7.)"
      ]
     },
     "metadata": {},
     "execution_count": 65
    }
   ],
   "source": [
    "# L1 norm\n",
    "torch.abs(u).sum()"
   ]
  },
  {
   "cell_type": "code",
   "execution_count": 66,
   "metadata": {},
   "outputs": [
    {
     "output_type": "execute_result",
     "data": {
      "text/plain": [
       "tensor(6.)"
      ]
     },
     "metadata": {},
     "execution_count": 66
    }
   ],
   "source": [
    "# Frobenius norm / L2 norm\n",
    "torch.norm(torch.ones(4, 9))"
   ]
  },
  {
   "source": [
    "## 4. Differentiation and derivatives\n"
   ],
   "cell_type": "markdown",
   "metadata": {}
  },
  {
   "cell_type": "code",
   "execution_count": 67,
   "metadata": {},
   "outputs": [],
   "source": [
    "# magic func\n",
    "%matplotlib inline\n",
    "import numpy as np\n",
    "from IPython import display\n",
    "from d2l import torch as d2l\n",
    "\n",
    "def f(x):\n",
    "    return 3 * x**2 - 4 * x"
   ]
  },
  {
   "cell_type": "code",
   "execution_count": 68,
   "metadata": {},
   "outputs": [
    {
     "output_type": "stream",
     "name": "stdout",
     "text": [
      "h=0.10000, numerical limit=2.30000\nh=0.01000, numerical limit=2.03000\nh=0.00100, numerical limit=2.00300\nh=0.00010, numerical limit=2.00030\nh=0.00001, numerical limit=2.00003\n"
     ]
    }
   ],
   "source": [
    "def numerical_lim(f, x, h):\n",
    "    return (f(x + h) - f(x)) / h\n",
    "\n",
    "h = .1\n",
    "for i in range(5):\n",
    "    print(f'h={h:.5f}, numerical limit={numerical_lim(f, 1, h):.5f}')\n",
    "    h *= .1\n"
   ]
  },
  {
   "cell_type": "code",
   "execution_count": 69,
   "metadata": {},
   "outputs": [],
   "source": [
    "#@save\n",
    "def use_svg_display():\n",
    "    display.set_matplotlib_formats('svg')\n",
    "\n",
    "def set_figsize(figsize=(3.5, 2.5)):\n",
    "    use_svg_display()\n",
    "    d2l.plt.rcParams['figure.figsize'] = figsize\n",
    "\n",
    "def set_axes(axes, xlabel, ylabel, xlim, ylim, xscale, yscale, legend):\n",
    "    axes.set_xlabel(xlabel)\n",
    "    axes.set_ylabel(ylabel)\n",
    "    axes.set_xscale(xscale)\n",
    "    axes.set_yscale(yscale)\n",
    "    axes.set_xlim(xlim)\n",
    "    axes.set_ylim(ylim)\n",
    "    if legend:\n",
    "        axes.legend(legend)\n",
    "    axes.grid()\n",
    "\n",
    "def plot(X, Y=None, xlabel=None, ylabel=None, legend=None, xlim=None, ylim=None, xscale='linear', yscale='linear', fmts=('-', 'm--', 'g-.', 'r:'), figsize=(3.5, 2.5), axes=None):\n",
    "    if legend is None:\n",
    "        legend = []\n",
    "    \n",
    "    set_figsize(figsize)\n",
    "    axes = axes if axes else d2l.plt.gca()\n",
    "\n",
    "    # true if X is a one dimensional vector\n",
    "    def has_one_axis(X):\n",
    "        return (hasattr(X, \"ndim\") and X.ndim == 1 or isinstance(X, list) and not hasattr(X[0], \"__len__\"))\n",
    "\n",
    "    if has_one_axis(X):\n",
    "        X = [X]\n",
    "    # \n",
    "    if Y is None:\n",
    "        X, Y = [[]] * len(X), X\n",
    "    elif has_one_axis(Y):\n",
    "        Y = [Y]\n",
    "    # \n",
    "    if len(X) != len(Y):\n",
    "        X = X * len(Y)\n",
    "    # \n",
    "    axes.cla()\n",
    "    for x, y, fmt in zip(X, Y, fmts):\n",
    "        if len(x):\n",
    "            axes.plot(x, y, fmt)\n",
    "        else:\n",
    "            axes.plot(y, fmt)\n",
    "    set_axes(axes, xlabel, ylabel, xlim, ylim, xscale, yscale, legend)"
   ]
  },
  {
   "cell_type": "code",
   "execution_count": 70,
   "metadata": {},
   "outputs": [
    {
     "output_type": "display_data",
     "data": {
      "text/plain": "<Figure size 252x180 with 1 Axes>",
      "image/svg+xml": "<?xml version=\"1.0\" encoding=\"utf-8\" standalone=\"no\"?>\n<!DOCTYPE svg PUBLIC \"-//W3C//DTD SVG 1.1//EN\"\n  \"http://www.w3.org/Graphics/SVG/1.1/DTD/svg11.dtd\">\n<svg height=\"180.65625pt\" version=\"1.1\" viewBox=\"0 0 243.529359 180.65625\" width=\"243.529359pt\" xmlns=\"http://www.w3.org/2000/svg\" xmlns:xlink=\"http://www.w3.org/1999/xlink\">\n <metadata>\n  <rdf:RDF xmlns:cc=\"http://creativecommons.org/ns#\" xmlns:dc=\"http://purl.org/dc/elements/1.1/\" xmlns:rdf=\"http://www.w3.org/1999/02/22-rdf-syntax-ns#\">\n   <cc:Work>\n    <dc:type rdf:resource=\"http://purl.org/dc/dcmitype/StillImage\"/>\n    <dc:date>2021-04-10T08:04:22.439355</dc:date>\n    <dc:format>image/svg+xml</dc:format>\n    <dc:creator>\n     <cc:Agent>\n      <dc:title>Matplotlib v3.4.1, https://matplotlib.org/</dc:title>\n     </cc:Agent>\n    </dc:creator>\n   </cc:Work>\n  </rdf:RDF>\n </metadata>\n <defs>\n  <style type=\"text/css\">*{stroke-linecap:butt;stroke-linejoin:round;}</style>\n </defs>\n <g id=\"figure_1\">\n  <g id=\"patch_1\">\n   <path d=\"M 0 180.65625 \nL 243.529359 180.65625 \nL 243.529359 0 \nL 0 0 \nz\n\" style=\"fill:none;\"/>\n  </g>\n  <g id=\"axes_1\">\n   <g id=\"patch_2\">\n    <path d=\"M 40.603125 143.1 \nL 235.903125 143.1 \nL 235.903125 7.2 \nL 40.603125 7.2 \nz\n\" style=\"fill:#ffffff;\"/>\n   </g>\n   <g id=\"matplotlib.axis_1\">\n    <g id=\"xtick_1\">\n     <g id=\"line2d_1\">\n      <path clip-path=\"url(#p51cb404baf)\" d=\"M 49.480398 143.1 \nL 49.480398 7.2 \n\" style=\"fill:none;stroke:#b0b0b0;stroke-linecap:square;stroke-width:0.8;\"/>\n     </g>\n     <g id=\"line2d_2\">\n      <defs>\n       <path d=\"M 0 0 \nL 0 3.5 \n\" id=\"m46ad3048e7\" style=\"stroke:#000000;stroke-width:0.8;\"/>\n      </defs>\n      <g>\n       <use style=\"stroke:#000000;stroke-width:0.8;\" x=\"49.480398\" xlink:href=\"#m46ad3048e7\" y=\"143.1\"/>\n      </g>\n     </g>\n     <g id=\"text_1\">\n      <!-- 0 -->\n      <g transform=\"translate(46.299148 157.698438)scale(0.1 -0.1)\">\n       <defs>\n        <path d=\"M 2034 4250 \nQ 1547 4250 1301 3770 \nQ 1056 3291 1056 2328 \nQ 1056 1369 1301 889 \nQ 1547 409 2034 409 \nQ 2525 409 2770 889 \nQ 3016 1369 3016 2328 \nQ 3016 3291 2770 3770 \nQ 2525 4250 2034 4250 \nz\nM 2034 4750 \nQ 2819 4750 3233 4129 \nQ 3647 3509 3647 2328 \nQ 3647 1150 3233 529 \nQ 2819 -91 2034 -91 \nQ 1250 -91 836 529 \nQ 422 1150 422 2328 \nQ 422 3509 836 4129 \nQ 1250 4750 2034 4750 \nz\n\" id=\"DejaVuSans-30\" transform=\"scale(0.015625)\"/>\n       </defs>\n       <use xlink:href=\"#DejaVuSans-30\"/>\n      </g>\n     </g>\n    </g>\n    <g id=\"xtick_2\">\n     <g id=\"line2d_3\">\n      <path clip-path=\"url(#p51cb404baf)\" d=\"M 110.702968 143.1 \nL 110.702968 7.2 \n\" style=\"fill:none;stroke:#b0b0b0;stroke-linecap:square;stroke-width:0.8;\"/>\n     </g>\n     <g id=\"line2d_4\">\n      <g>\n       <use style=\"stroke:#000000;stroke-width:0.8;\" x=\"110.702968\" xlink:href=\"#m46ad3048e7\" y=\"143.1\"/>\n      </g>\n     </g>\n     <g id=\"text_2\">\n      <!-- 1 -->\n      <g transform=\"translate(107.521718 157.698438)scale(0.1 -0.1)\">\n       <defs>\n        <path d=\"M 794 531 \nL 1825 531 \nL 1825 4091 \nL 703 3866 \nL 703 4441 \nL 1819 4666 \nL 2450 4666 \nL 2450 531 \nL 3481 531 \nL 3481 0 \nL 794 0 \nL 794 531 \nz\n\" id=\"DejaVuSans-31\" transform=\"scale(0.015625)\"/>\n       </defs>\n       <use xlink:href=\"#DejaVuSans-31\"/>\n      </g>\n     </g>\n    </g>\n    <g id=\"xtick_3\">\n     <g id=\"line2d_5\">\n      <path clip-path=\"url(#p51cb404baf)\" d=\"M 171.925539 143.1 \nL 171.925539 7.2 \n\" style=\"fill:none;stroke:#b0b0b0;stroke-linecap:square;stroke-width:0.8;\"/>\n     </g>\n     <g id=\"line2d_6\">\n      <g>\n       <use style=\"stroke:#000000;stroke-width:0.8;\" x=\"171.925539\" xlink:href=\"#m46ad3048e7\" y=\"143.1\"/>\n      </g>\n     </g>\n     <g id=\"text_3\">\n      <!-- 2 -->\n      <g transform=\"translate(168.744289 157.698438)scale(0.1 -0.1)\">\n       <defs>\n        <path d=\"M 1228 531 \nL 3431 531 \nL 3431 0 \nL 469 0 \nL 469 531 \nQ 828 903 1448 1529 \nQ 2069 2156 2228 2338 \nQ 2531 2678 2651 2914 \nQ 2772 3150 2772 3378 \nQ 2772 3750 2511 3984 \nQ 2250 4219 1831 4219 \nQ 1534 4219 1204 4116 \nQ 875 4013 500 3803 \nL 500 4441 \nQ 881 4594 1212 4672 \nQ 1544 4750 1819 4750 \nQ 2544 4750 2975 4387 \nQ 3406 4025 3406 3419 \nQ 3406 3131 3298 2873 \nQ 3191 2616 2906 2266 \nQ 2828 2175 2409 1742 \nQ 1991 1309 1228 531 \nz\n\" id=\"DejaVuSans-32\" transform=\"scale(0.015625)\"/>\n       </defs>\n       <use xlink:href=\"#DejaVuSans-32\"/>\n      </g>\n     </g>\n    </g>\n    <g id=\"xtick_4\">\n     <g id=\"line2d_7\">\n      <path clip-path=\"url(#p51cb404baf)\" d=\"M 233.148109 143.1 \nL 233.148109 7.2 \n\" style=\"fill:none;stroke:#b0b0b0;stroke-linecap:square;stroke-width:0.8;\"/>\n     </g>\n     <g id=\"line2d_8\">\n      <g>\n       <use style=\"stroke:#000000;stroke-width:0.8;\" x=\"233.148109\" xlink:href=\"#m46ad3048e7\" y=\"143.1\"/>\n      </g>\n     </g>\n     <g id=\"text_4\">\n      <!-- 3 -->\n      <g transform=\"translate(229.966859 157.698438)scale(0.1 -0.1)\">\n       <defs>\n        <path d=\"M 2597 2516 \nQ 3050 2419 3304 2112 \nQ 3559 1806 3559 1356 \nQ 3559 666 3084 287 \nQ 2609 -91 1734 -91 \nQ 1441 -91 1130 -33 \nQ 819 25 488 141 \nL 488 750 \nQ 750 597 1062 519 \nQ 1375 441 1716 441 \nQ 2309 441 2620 675 \nQ 2931 909 2931 1356 \nQ 2931 1769 2642 2001 \nQ 2353 2234 1838 2234 \nL 1294 2234 \nL 1294 2753 \nL 1863 2753 \nQ 2328 2753 2575 2939 \nQ 2822 3125 2822 3475 \nQ 2822 3834 2567 4026 \nQ 2313 4219 1838 4219 \nQ 1578 4219 1281 4162 \nQ 984 4106 628 3988 \nL 628 4550 \nQ 988 4650 1302 4700 \nQ 1616 4750 1894 4750 \nQ 2613 4750 3031 4423 \nQ 3450 4097 3450 3541 \nQ 3450 3153 3228 2886 \nQ 3006 2619 2597 2516 \nz\n\" id=\"DejaVuSans-33\" transform=\"scale(0.015625)\"/>\n       </defs>\n       <use xlink:href=\"#DejaVuSans-33\"/>\n      </g>\n     </g>\n    </g>\n    <g id=\"text_5\">\n     <!-- x -->\n     <g transform=\"translate(135.29375 171.376563)scale(0.1 -0.1)\">\n      <defs>\n       <path d=\"M 3513 3500 \nL 2247 1797 \nL 3578 0 \nL 2900 0 \nL 1881 1375 \nL 863 0 \nL 184 0 \nL 1544 1831 \nL 300 3500 \nL 978 3500 \nL 1906 2253 \nL 2834 3500 \nL 3513 3500 \nz\n\" id=\"DejaVuSans-78\" transform=\"scale(0.015625)\"/>\n      </defs>\n      <use xlink:href=\"#DejaVuSans-78\"/>\n     </g>\n    </g>\n   </g>\n   <g id=\"matplotlib.axis_2\">\n    <g id=\"ytick_1\">\n     <g id=\"line2d_9\">\n      <path clip-path=\"url(#p51cb404baf)\" d=\"M 40.603125 114.635514 \nL 235.903125 114.635514 \n\" style=\"fill:none;stroke:#b0b0b0;stroke-linecap:square;stroke-width:0.8;\"/>\n     </g>\n     <g id=\"line2d_10\">\n      <defs>\n       <path d=\"M 0 0 \nL -3.5 0 \n\" id=\"me4cf081423\" style=\"stroke:#000000;stroke-width:0.8;\"/>\n      </defs>\n      <g>\n       <use style=\"stroke:#000000;stroke-width:0.8;\" x=\"40.603125\" xlink:href=\"#me4cf081423\" y=\"114.635514\"/>\n      </g>\n     </g>\n     <g id=\"text_6\">\n      <!-- 0 -->\n      <g transform=\"translate(27.240625 118.434732)scale(0.1 -0.1)\">\n       <use xlink:href=\"#DejaVuSans-30\"/>\n      </g>\n     </g>\n    </g>\n    <g id=\"ytick_2\">\n     <g id=\"line2d_11\">\n      <path clip-path=\"url(#p51cb404baf)\" d=\"M 40.603125 77.490157 \nL 235.903125 77.490157 \n\" style=\"fill:none;stroke:#b0b0b0;stroke-linecap:square;stroke-width:0.8;\"/>\n     </g>\n     <g id=\"line2d_12\">\n      <g>\n       <use style=\"stroke:#000000;stroke-width:0.8;\" x=\"40.603125\" xlink:href=\"#me4cf081423\" y=\"77.490157\"/>\n      </g>\n     </g>\n     <g id=\"text_7\">\n      <!-- 5 -->\n      <g transform=\"translate(27.240625 81.289376)scale(0.1 -0.1)\">\n       <defs>\n        <path d=\"M 691 4666 \nL 3169 4666 \nL 3169 4134 \nL 1269 4134 \nL 1269 2991 \nQ 1406 3038 1543 3061 \nQ 1681 3084 1819 3084 \nQ 2600 3084 3056 2656 \nQ 3513 2228 3513 1497 \nQ 3513 744 3044 326 \nQ 2575 -91 1722 -91 \nQ 1428 -91 1123 -41 \nQ 819 9 494 109 \nL 494 744 \nQ 775 591 1075 516 \nQ 1375 441 1709 441 \nQ 2250 441 2565 725 \nQ 2881 1009 2881 1497 \nQ 2881 1984 2565 2268 \nQ 2250 2553 1709 2553 \nQ 1456 2553 1204 2497 \nQ 953 2441 691 2322 \nL 691 4666 \nz\n\" id=\"DejaVuSans-35\" transform=\"scale(0.015625)\"/>\n       </defs>\n       <use xlink:href=\"#DejaVuSans-35\"/>\n      </g>\n     </g>\n    </g>\n    <g id=\"ytick_3\">\n     <g id=\"line2d_13\">\n      <path clip-path=\"url(#p51cb404baf)\" d=\"M 40.603125 40.344801 \nL 235.903125 40.344801 \n\" style=\"fill:none;stroke:#b0b0b0;stroke-linecap:square;stroke-width:0.8;\"/>\n     </g>\n     <g id=\"line2d_14\">\n      <g>\n       <use style=\"stroke:#000000;stroke-width:0.8;\" x=\"40.603125\" xlink:href=\"#me4cf081423\" y=\"40.344801\"/>\n      </g>\n     </g>\n     <g id=\"text_8\">\n      <!-- 10 -->\n      <g transform=\"translate(20.878125 44.14402)scale(0.1 -0.1)\">\n       <use xlink:href=\"#DejaVuSans-31\"/>\n       <use x=\"63.623047\" xlink:href=\"#DejaVuSans-30\"/>\n      </g>\n     </g>\n    </g>\n    <g id=\"text_9\">\n     <!-- f(x) -->\n     <g transform=\"translate(14.798437 83.771094)rotate(-90)scale(0.1 -0.1)\">\n      <defs>\n       <path d=\"M 2375 4863 \nL 2375 4384 \nL 1825 4384 \nQ 1516 4384 1395 4259 \nQ 1275 4134 1275 3809 \nL 1275 3500 \nL 2222 3500 \nL 2222 3053 \nL 1275 3053 \nL 1275 0 \nL 697 0 \nL 697 3053 \nL 147 3053 \nL 147 3500 \nL 697 3500 \nL 697 3744 \nQ 697 4328 969 4595 \nQ 1241 4863 1831 4863 \nL 2375 4863 \nz\n\" id=\"DejaVuSans-66\" transform=\"scale(0.015625)\"/>\n       <path d=\"M 1984 4856 \nQ 1566 4138 1362 3434 \nQ 1159 2731 1159 2009 \nQ 1159 1288 1364 580 \nQ 1569 -128 1984 -844 \nL 1484 -844 \nQ 1016 -109 783 600 \nQ 550 1309 550 2009 \nQ 550 2706 781 3412 \nQ 1013 4119 1484 4856 \nL 1984 4856 \nz\n\" id=\"DejaVuSans-28\" transform=\"scale(0.015625)\"/>\n       <path d=\"M 513 4856 \nL 1013 4856 \nQ 1481 4119 1714 3412 \nQ 1947 2706 1947 2009 \nQ 1947 1309 1714 600 \nQ 1481 -109 1013 -844 \nL 513 -844 \nQ 928 -128 1133 580 \nQ 1338 1288 1338 2009 \nQ 1338 2731 1133 3434 \nQ 928 4138 513 4856 \nz\n\" id=\"DejaVuSans-29\" transform=\"scale(0.015625)\"/>\n      </defs>\n      <use xlink:href=\"#DejaVuSans-66\"/>\n      <use x=\"35.205078\" xlink:href=\"#DejaVuSans-28\"/>\n      <use x=\"74.21875\" xlink:href=\"#DejaVuSans-78\"/>\n      <use x=\"133.398438\" xlink:href=\"#DejaVuSans-29\"/>\n     </g>\n    </g>\n   </g>\n   <g id=\"line2d_15\">\n    <path clip-path=\"url(#p51cb404baf)\" d=\"M 49.480398 114.635514 \nL 55.602655 117.38427 \nL 61.724912 119.687282 \nL 67.847169 121.54455 \nL 73.969426 122.956073 \nL 80.091683 123.921853 \nL 86.21394 124.441888 \nL 92.336197 124.516178 \nL 98.458454 124.144725 \nL 104.580711 123.327527 \nL 110.702968 122.064585 \nL 116.825225 120.355898 \nL 122.947482 118.201468 \nL 129.069739 115.601293 \nL 135.191996 112.555374 \nL 141.314254 109.06371 \nL 147.436511 105.126302 \nL 153.558768 100.74315 \nL 159.681025 95.914254 \nL 165.803282 90.639614 \nL 171.925539 84.919229 \nL 178.047796 78.7531 \nL 184.170053 72.141226 \nL 190.29231 65.083608 \nL 196.414567 57.580247 \nL 202.536824 49.63114 \nL 208.659081 41.23629 \nL 214.781338 32.395695 \nL 220.903595 23.109356 \nL 227.025852 13.377273 \n\" style=\"fill:none;stroke:#1f77b4;stroke-linecap:square;stroke-width:1.5;\"/>\n   </g>\n   <g id=\"line2d_16\">\n    <path clip-path=\"url(#p51cb404baf)\" d=\"M 49.480398 136.922727 \nL 55.602655 135.436913 \nL 61.724912 133.951099 \nL 67.847169 132.465285 \nL 73.969426 130.97947 \nL 80.091683 129.493656 \nL 86.21394 128.007842 \nL 92.336197 126.522028 \nL 98.458454 125.036213 \nL 104.580711 123.550399 \nL 110.702968 122.064585 \nL 116.825225 120.578771 \nL 122.947482 119.092956 \nL 129.069739 117.607142 \nL 135.191996 116.121328 \nL 141.314254 114.635514 \nL 147.436511 113.149699 \nL 153.558768 111.663885 \nL 159.681025 110.178071 \nL 165.803282 108.692257 \nL 171.925539 107.206442 \nL 178.047796 105.720628 \nL 184.170053 104.234814 \nL 190.29231 102.749 \nL 196.414567 101.263185 \nL 202.536824 99.777371 \nL 208.659081 98.291557 \nL 214.781338 96.805743 \nL 220.903595 95.319928 \nL 227.025852 93.834114 \n\" style=\"fill:none;stroke:#bf00bf;stroke-dasharray:5.55,2.4;stroke-dashoffset:0;stroke-width:1.5;\"/>\n   </g>\n   <g id=\"patch_3\">\n    <path d=\"M 40.603125 143.1 \nL 40.603125 7.2 \n\" style=\"fill:none;stroke:#000000;stroke-linecap:square;stroke-linejoin:miter;stroke-width:0.8;\"/>\n   </g>\n   <g id=\"patch_4\">\n    <path d=\"M 235.903125 143.1 \nL 235.903125 7.2 \n\" style=\"fill:none;stroke:#000000;stroke-linecap:square;stroke-linejoin:miter;stroke-width:0.8;\"/>\n   </g>\n   <g id=\"patch_5\">\n    <path d=\"M 40.603125 143.1 \nL 235.903125 143.1 \n\" style=\"fill:none;stroke:#000000;stroke-linecap:square;stroke-linejoin:miter;stroke-width:0.8;\"/>\n   </g>\n   <g id=\"patch_6\">\n    <path d=\"M 40.603125 7.2 \nL 235.903125 7.2 \n\" style=\"fill:none;stroke:#000000;stroke-linecap:square;stroke-linejoin:miter;stroke-width:0.8;\"/>\n   </g>\n   <g id=\"legend_1\">\n    <g id=\"patch_7\">\n     <path d=\"M 47.603125 44.55625 \nL 172.153125 44.55625 \nQ 174.153125 44.55625 174.153125 42.55625 \nL 174.153125 14.2 \nQ 174.153125 12.2 172.153125 12.2 \nL 47.603125 12.2 \nQ 45.603125 12.2 45.603125 14.2 \nL 45.603125 42.55625 \nQ 45.603125 44.55625 47.603125 44.55625 \nz\n\" style=\"fill:#ffffff;opacity:0.8;stroke:#cccccc;stroke-linejoin:miter;\"/>\n    </g>\n    <g id=\"line2d_17\">\n     <path d=\"M 49.603125 20.298437 \nL 69.603125 20.298437 \n\" style=\"fill:none;stroke:#1f77b4;stroke-linecap:square;stroke-width:1.5;\"/>\n    </g>\n    <g id=\"line2d_18\"/>\n    <g id=\"text_10\">\n     <!-- f(x) -->\n     <g transform=\"translate(77.603125 23.798437)scale(0.1 -0.1)\">\n      <use xlink:href=\"#DejaVuSans-66\"/>\n      <use x=\"35.205078\" xlink:href=\"#DejaVuSans-28\"/>\n      <use x=\"74.21875\" xlink:href=\"#DejaVuSans-78\"/>\n      <use x=\"133.398438\" xlink:href=\"#DejaVuSans-29\"/>\n     </g>\n    </g>\n    <g id=\"line2d_19\">\n     <path d=\"M 49.603125 34.976562 \nL 69.603125 34.976562 \n\" style=\"fill:none;stroke:#bf00bf;stroke-dasharray:5.55,2.4;stroke-dashoffset:0;stroke-width:1.5;\"/>\n    </g>\n    <g id=\"line2d_20\"/>\n    <g id=\"text_11\">\n     <!-- Tangent line (x=1) -->\n     <g transform=\"translate(77.603125 38.476562)scale(0.1 -0.1)\">\n      <defs>\n       <path d=\"M -19 4666 \nL 3928 4666 \nL 3928 4134 \nL 2272 4134 \nL 2272 0 \nL 1638 0 \nL 1638 4134 \nL -19 4134 \nL -19 4666 \nz\n\" id=\"DejaVuSans-54\" transform=\"scale(0.015625)\"/>\n       <path d=\"M 2194 1759 \nQ 1497 1759 1228 1600 \nQ 959 1441 959 1056 \nQ 959 750 1161 570 \nQ 1363 391 1709 391 \nQ 2188 391 2477 730 \nQ 2766 1069 2766 1631 \nL 2766 1759 \nL 2194 1759 \nz\nM 3341 1997 \nL 3341 0 \nL 2766 0 \nL 2766 531 \nQ 2569 213 2275 61 \nQ 1981 -91 1556 -91 \nQ 1019 -91 701 211 \nQ 384 513 384 1019 \nQ 384 1609 779 1909 \nQ 1175 2209 1959 2209 \nL 2766 2209 \nL 2766 2266 \nQ 2766 2663 2505 2880 \nQ 2244 3097 1772 3097 \nQ 1472 3097 1187 3025 \nQ 903 2953 641 2809 \nL 641 3341 \nQ 956 3463 1253 3523 \nQ 1550 3584 1831 3584 \nQ 2591 3584 2966 3190 \nQ 3341 2797 3341 1997 \nz\n\" id=\"DejaVuSans-61\" transform=\"scale(0.015625)\"/>\n       <path d=\"M 3513 2113 \nL 3513 0 \nL 2938 0 \nL 2938 2094 \nQ 2938 2591 2744 2837 \nQ 2550 3084 2163 3084 \nQ 1697 3084 1428 2787 \nQ 1159 2491 1159 1978 \nL 1159 0 \nL 581 0 \nL 581 3500 \nL 1159 3500 \nL 1159 2956 \nQ 1366 3272 1645 3428 \nQ 1925 3584 2291 3584 \nQ 2894 3584 3203 3211 \nQ 3513 2838 3513 2113 \nz\n\" id=\"DejaVuSans-6e\" transform=\"scale(0.015625)\"/>\n       <path d=\"M 2906 1791 \nQ 2906 2416 2648 2759 \nQ 2391 3103 1925 3103 \nQ 1463 3103 1205 2759 \nQ 947 2416 947 1791 \nQ 947 1169 1205 825 \nQ 1463 481 1925 481 \nQ 2391 481 2648 825 \nQ 2906 1169 2906 1791 \nz\nM 3481 434 \nQ 3481 -459 3084 -895 \nQ 2688 -1331 1869 -1331 \nQ 1566 -1331 1297 -1286 \nQ 1028 -1241 775 -1147 \nL 775 -588 \nQ 1028 -725 1275 -790 \nQ 1522 -856 1778 -856 \nQ 2344 -856 2625 -561 \nQ 2906 -266 2906 331 \nL 2906 616 \nQ 2728 306 2450 153 \nQ 2172 0 1784 0 \nQ 1141 0 747 490 \nQ 353 981 353 1791 \nQ 353 2603 747 3093 \nQ 1141 3584 1784 3584 \nQ 2172 3584 2450 3431 \nQ 2728 3278 2906 2969 \nL 2906 3500 \nL 3481 3500 \nL 3481 434 \nz\n\" id=\"DejaVuSans-67\" transform=\"scale(0.015625)\"/>\n       <path d=\"M 3597 1894 \nL 3597 1613 \nL 953 1613 \nQ 991 1019 1311 708 \nQ 1631 397 2203 397 \nQ 2534 397 2845 478 \nQ 3156 559 3463 722 \nL 3463 178 \nQ 3153 47 2828 -22 \nQ 2503 -91 2169 -91 \nQ 1331 -91 842 396 \nQ 353 884 353 1716 \nQ 353 2575 817 3079 \nQ 1281 3584 2069 3584 \nQ 2775 3584 3186 3129 \nQ 3597 2675 3597 1894 \nz\nM 3022 2063 \nQ 3016 2534 2758 2815 \nQ 2500 3097 2075 3097 \nQ 1594 3097 1305 2825 \nQ 1016 2553 972 2059 \nL 3022 2063 \nz\n\" id=\"DejaVuSans-65\" transform=\"scale(0.015625)\"/>\n       <path d=\"M 1172 4494 \nL 1172 3500 \nL 2356 3500 \nL 2356 3053 \nL 1172 3053 \nL 1172 1153 \nQ 1172 725 1289 603 \nQ 1406 481 1766 481 \nL 2356 481 \nL 2356 0 \nL 1766 0 \nQ 1100 0 847 248 \nQ 594 497 594 1153 \nL 594 3053 \nL 172 3053 \nL 172 3500 \nL 594 3500 \nL 594 4494 \nL 1172 4494 \nz\n\" id=\"DejaVuSans-74\" transform=\"scale(0.015625)\"/>\n       <path id=\"DejaVuSans-20\" transform=\"scale(0.015625)\"/>\n       <path d=\"M 603 4863 \nL 1178 4863 \nL 1178 0 \nL 603 0 \nL 603 4863 \nz\n\" id=\"DejaVuSans-6c\" transform=\"scale(0.015625)\"/>\n       <path d=\"M 603 3500 \nL 1178 3500 \nL 1178 0 \nL 603 0 \nL 603 3500 \nz\nM 603 4863 \nL 1178 4863 \nL 1178 4134 \nL 603 4134 \nL 603 4863 \nz\n\" id=\"DejaVuSans-69\" transform=\"scale(0.015625)\"/>\n       <path d=\"M 678 2906 \nL 4684 2906 \nL 4684 2381 \nL 678 2381 \nL 678 2906 \nz\nM 678 1631 \nL 4684 1631 \nL 4684 1100 \nL 678 1100 \nL 678 1631 \nz\n\" id=\"DejaVuSans-3d\" transform=\"scale(0.015625)\"/>\n      </defs>\n      <use xlink:href=\"#DejaVuSans-54\"/>\n      <use x=\"44.583984\" xlink:href=\"#DejaVuSans-61\"/>\n      <use x=\"105.863281\" xlink:href=\"#DejaVuSans-6e\"/>\n      <use x=\"169.242188\" xlink:href=\"#DejaVuSans-67\"/>\n      <use x=\"232.71875\" xlink:href=\"#DejaVuSans-65\"/>\n      <use x=\"294.242188\" xlink:href=\"#DejaVuSans-6e\"/>\n      <use x=\"357.621094\" xlink:href=\"#DejaVuSans-74\"/>\n      <use x=\"396.830078\" xlink:href=\"#DejaVuSans-20\"/>\n      <use x=\"428.617188\" xlink:href=\"#DejaVuSans-6c\"/>\n      <use x=\"456.400391\" xlink:href=\"#DejaVuSans-69\"/>\n      <use x=\"484.183594\" xlink:href=\"#DejaVuSans-6e\"/>\n      <use x=\"547.5625\" xlink:href=\"#DejaVuSans-65\"/>\n      <use x=\"609.085938\" xlink:href=\"#DejaVuSans-20\"/>\n      <use x=\"640.873047\" xlink:href=\"#DejaVuSans-28\"/>\n      <use x=\"679.886719\" xlink:href=\"#DejaVuSans-78\"/>\n      <use x=\"739.066406\" xlink:href=\"#DejaVuSans-3d\"/>\n      <use x=\"822.855469\" xlink:href=\"#DejaVuSans-31\"/>\n      <use x=\"886.478516\" xlink:href=\"#DejaVuSans-29\"/>\n     </g>\n    </g>\n   </g>\n  </g>\n </g>\n <defs>\n  <clipPath id=\"p51cb404baf\">\n   <rect height=\"135.9\" width=\"195.3\" x=\"40.603125\" y=\"7.2\"/>\n  </clipPath>\n </defs>\n</svg>\n"
     },
     "metadata": {
      "needs_background": "light"
     }
    }
   ],
   "source": [
    "x = np.arange(0, 3, .1)\n",
    "plot(x, [f(x), 2 * x - 3], 'x', 'f(x)', legend=['f(x)', 'Tangent line (x=1)'])"
   ]
  },
  {
   "cell_type": "code",
   "execution_count": 71,
   "metadata": {},
   "outputs": [
    {
     "output_type": "display_data",
     "data": {
      "text/plain": "<Figure size 252x180 with 1 Axes>",
      "image/svg+xml": "<?xml version=\"1.0\" encoding=\"utf-8\" standalone=\"no\"?>\n<!DOCTYPE svg PUBLIC \"-//W3C//DTD SVG 1.1//EN\"\n  \"http://www.w3.org/Graphics/SVG/1.1/DTD/svg11.dtd\">\n<svg height=\"180.65625pt\" version=\"1.1\" viewBox=\"0 0 251.909047 180.65625\" width=\"251.909047pt\" xmlns=\"http://www.w3.org/2000/svg\" xmlns:xlink=\"http://www.w3.org/1999/xlink\">\n <metadata>\n  <rdf:RDF xmlns:cc=\"http://creativecommons.org/ns#\" xmlns:dc=\"http://purl.org/dc/elements/1.1/\" xmlns:rdf=\"http://www.w3.org/1999/02/22-rdf-syntax-ns#\">\n   <cc:Work>\n    <dc:type rdf:resource=\"http://purl.org/dc/dcmitype/StillImage\"/>\n    <dc:date>2021-04-10T08:04:22.616772</dc:date>\n    <dc:format>image/svg+xml</dc:format>\n    <dc:creator>\n     <cc:Agent>\n      <dc:title>Matplotlib v3.4.1, https://matplotlib.org/</dc:title>\n     </cc:Agent>\n    </dc:creator>\n   </cc:Work>\n  </rdf:RDF>\n </metadata>\n <defs>\n  <style type=\"text/css\">*{stroke-linecap:butt;stroke-linejoin:round;}</style>\n </defs>\n <g id=\"figure_1\">\n  <g id=\"patch_1\">\n   <path d=\"M -0 180.65625 \nL 251.909047 180.65625 \nL 251.909047 0 \nL -0 0 \nz\n\" style=\"fill:none;\"/>\n  </g>\n  <g id=\"axes_1\">\n   <g id=\"patch_2\">\n    <path d=\"M 48.982813 143.1 \nL 244.282813 143.1 \nL 244.282813 7.2 \nL 48.982813 7.2 \nz\n\" style=\"fill:#ffffff;\"/>\n   </g>\n   <g id=\"matplotlib.axis_1\">\n    <g id=\"xtick_1\">\n     <g id=\"line2d_1\">\n      <path clip-path=\"url(#pa3e835705f)\" d=\"M 57.860085 143.1 \nL 57.860085 7.2 \n\" style=\"fill:none;stroke:#b0b0b0;stroke-linecap:square;stroke-width:0.8;\"/>\n     </g>\n     <g id=\"line2d_2\">\n      <defs>\n       <path d=\"M 0 0 \nL 0 3.5 \n\" id=\"m5b5bf63d84\" style=\"stroke:#000000;stroke-width:0.8;\"/>\n      </defs>\n      <g>\n       <use style=\"stroke:#000000;stroke-width:0.8;\" x=\"57.860085\" xlink:href=\"#m5b5bf63d84\" y=\"143.1\"/>\n      </g>\n     </g>\n     <g id=\"text_1\">\n      <!-- 0 -->\n      <g transform=\"translate(54.678835 157.698438)scale(0.1 -0.1)\">\n       <defs>\n        <path d=\"M 2034 4250 \nQ 1547 4250 1301 3770 \nQ 1056 3291 1056 2328 \nQ 1056 1369 1301 889 \nQ 1547 409 2034 409 \nQ 2525 409 2770 889 \nQ 3016 1369 3016 2328 \nQ 3016 3291 2770 3770 \nQ 2525 4250 2034 4250 \nz\nM 2034 4750 \nQ 2819 4750 3233 4129 \nQ 3647 3509 3647 2328 \nQ 3647 1150 3233 529 \nQ 2819 -91 2034 -91 \nQ 1250 -91 836 529 \nQ 422 1150 422 2328 \nQ 422 3509 836 4129 \nQ 1250 4750 2034 4750 \nz\n\" id=\"DejaVuSans-30\" transform=\"scale(0.015625)\"/>\n       </defs>\n       <use xlink:href=\"#DejaVuSans-30\"/>\n      </g>\n     </g>\n    </g>\n    <g id=\"xtick_2\">\n     <g id=\"line2d_3\">\n      <path clip-path=\"url(#pa3e835705f)\" d=\"M 119.082656 143.1 \nL 119.082656 7.2 \n\" style=\"fill:none;stroke:#b0b0b0;stroke-linecap:square;stroke-width:0.8;\"/>\n     </g>\n     <g id=\"line2d_4\">\n      <g>\n       <use style=\"stroke:#000000;stroke-width:0.8;\" x=\"119.082656\" xlink:href=\"#m5b5bf63d84\" y=\"143.1\"/>\n      </g>\n     </g>\n     <g id=\"text_2\">\n      <!-- 1 -->\n      <g transform=\"translate(115.901406 157.698438)scale(0.1 -0.1)\">\n       <defs>\n        <path d=\"M 794 531 \nL 1825 531 \nL 1825 4091 \nL 703 3866 \nL 703 4441 \nL 1819 4666 \nL 2450 4666 \nL 2450 531 \nL 3481 531 \nL 3481 0 \nL 794 0 \nL 794 531 \nz\n\" id=\"DejaVuSans-31\" transform=\"scale(0.015625)\"/>\n       </defs>\n       <use xlink:href=\"#DejaVuSans-31\"/>\n      </g>\n     </g>\n    </g>\n    <g id=\"xtick_3\">\n     <g id=\"line2d_5\">\n      <path clip-path=\"url(#pa3e835705f)\" d=\"M 180.305226 143.1 \nL 180.305226 7.2 \n\" style=\"fill:none;stroke:#b0b0b0;stroke-linecap:square;stroke-width:0.8;\"/>\n     </g>\n     <g id=\"line2d_6\">\n      <g>\n       <use style=\"stroke:#000000;stroke-width:0.8;\" x=\"180.305226\" xlink:href=\"#m5b5bf63d84\" y=\"143.1\"/>\n      </g>\n     </g>\n     <g id=\"text_3\">\n      <!-- 2 -->\n      <g transform=\"translate(177.123976 157.698438)scale(0.1 -0.1)\">\n       <defs>\n        <path d=\"M 1228 531 \nL 3431 531 \nL 3431 0 \nL 469 0 \nL 469 531 \nQ 828 903 1448 1529 \nQ 2069 2156 2228 2338 \nQ 2531 2678 2651 2914 \nQ 2772 3150 2772 3378 \nQ 2772 3750 2511 3984 \nQ 2250 4219 1831 4219 \nQ 1534 4219 1204 4116 \nQ 875 4013 500 3803 \nL 500 4441 \nQ 881 4594 1212 4672 \nQ 1544 4750 1819 4750 \nQ 2544 4750 2975 4387 \nQ 3406 4025 3406 3419 \nQ 3406 3131 3298 2873 \nQ 3191 2616 2906 2266 \nQ 2828 2175 2409 1742 \nQ 1991 1309 1228 531 \nz\n\" id=\"DejaVuSans-32\" transform=\"scale(0.015625)\"/>\n       </defs>\n       <use xlink:href=\"#DejaVuSans-32\"/>\n      </g>\n     </g>\n    </g>\n    <g id=\"xtick_4\">\n     <g id=\"line2d_7\">\n      <path clip-path=\"url(#pa3e835705f)\" d=\"M 241.527797 143.1 \nL 241.527797 7.2 \n\" style=\"fill:none;stroke:#b0b0b0;stroke-linecap:square;stroke-width:0.8;\"/>\n     </g>\n     <g id=\"line2d_8\">\n      <g>\n       <use style=\"stroke:#000000;stroke-width:0.8;\" x=\"241.527797\" xlink:href=\"#m5b5bf63d84\" y=\"143.1\"/>\n      </g>\n     </g>\n     <g id=\"text_4\">\n      <!-- 3 -->\n      <g transform=\"translate(238.346547 157.698438)scale(0.1 -0.1)\">\n       <defs>\n        <path d=\"M 2597 2516 \nQ 3050 2419 3304 2112 \nQ 3559 1806 3559 1356 \nQ 3559 666 3084 287 \nQ 2609 -91 1734 -91 \nQ 1441 -91 1130 -33 \nQ 819 25 488 141 \nL 488 750 \nQ 750 597 1062 519 \nQ 1375 441 1716 441 \nQ 2309 441 2620 675 \nQ 2931 909 2931 1356 \nQ 2931 1769 2642 2001 \nQ 2353 2234 1838 2234 \nL 1294 2234 \nL 1294 2753 \nL 1863 2753 \nQ 2328 2753 2575 2939 \nQ 2822 3125 2822 3475 \nQ 2822 3834 2567 4026 \nQ 2313 4219 1838 4219 \nQ 1578 4219 1281 4162 \nQ 984 4106 628 3988 \nL 628 4550 \nQ 988 4650 1302 4700 \nQ 1616 4750 1894 4750 \nQ 2613 4750 3031 4423 \nQ 3450 4097 3450 3541 \nQ 3450 3153 3228 2886 \nQ 3006 2619 2597 2516 \nz\n\" id=\"DejaVuSans-33\" transform=\"scale(0.015625)\"/>\n       </defs>\n       <use xlink:href=\"#DejaVuSans-33\"/>\n      </g>\n     </g>\n    </g>\n    <g id=\"text_5\">\n     <!-- x -->\n     <g transform=\"translate(143.673438 171.376563)scale(0.1 -0.1)\">\n      <defs>\n       <path d=\"M 3513 3500 \nL 2247 1797 \nL 3578 0 \nL 2900 0 \nL 1881 1375 \nL 863 0 \nL 184 0 \nL 1544 1831 \nL 300 3500 \nL 978 3500 \nL 1906 2253 \nL 2834 3500 \nL 3513 3500 \nz\n\" id=\"DejaVuSans-78\" transform=\"scale(0.015625)\"/>\n      </defs>\n      <use xlink:href=\"#DejaVuSans-78\"/>\n     </g>\n    </g>\n   </g>\n   <g id=\"matplotlib.axis_2\">\n    <g id=\"ytick_1\">\n     <g id=\"line2d_9\">\n      <path clip-path=\"url(#pa3e835705f)\" d=\"M 48.982813 136.926356 \nL 244.282813 136.926356 \n\" style=\"fill:none;stroke:#b0b0b0;stroke-linecap:square;stroke-width:0.8;\"/>\n     </g>\n     <g id=\"line2d_10\">\n      <defs>\n       <path d=\"M 0 0 \nL -3.5 0 \n\" id=\"m1d87a53686\" style=\"stroke:#000000;stroke-width:0.8;\"/>\n      </defs>\n      <g>\n       <use style=\"stroke:#000000;stroke-width:0.8;\" x=\"48.982813\" xlink:href=\"#m1d87a53686\" y=\"136.926356\"/>\n      </g>\n     </g>\n     <g id=\"text_6\">\n      <!-- −10 -->\n      <g transform=\"translate(20.878125 140.725575)scale(0.1 -0.1)\">\n       <defs>\n        <path d=\"M 678 2272 \nL 4684 2272 \nL 4684 1741 \nL 678 1741 \nL 678 2272 \nz\n\" id=\"DejaVuSans-2212\" transform=\"scale(0.015625)\"/>\n       </defs>\n       <use xlink:href=\"#DejaVuSans-2212\"/>\n       <use x=\"83.789062\" xlink:href=\"#DejaVuSans-31\"/>\n       <use x=\"147.412109\" xlink:href=\"#DejaVuSans-30\"/>\n      </g>\n     </g>\n    </g>\n    <g id=\"ytick_2\">\n     <g id=\"line2d_11\">\n      <path clip-path=\"url(#pa3e835705f)\" d=\"M 48.982813 100.635539 \nL 244.282813 100.635539 \n\" style=\"fill:none;stroke:#b0b0b0;stroke-linecap:square;stroke-width:0.8;\"/>\n     </g>\n     <g id=\"line2d_12\">\n      <g>\n       <use style=\"stroke:#000000;stroke-width:0.8;\" x=\"48.982813\" xlink:href=\"#m1d87a53686\" y=\"100.635539\"/>\n      </g>\n     </g>\n     <g id=\"text_7\">\n      <!-- 0 -->\n      <g transform=\"translate(35.620313 104.434758)scale(0.1 -0.1)\">\n       <use xlink:href=\"#DejaVuSans-30\"/>\n      </g>\n     </g>\n    </g>\n    <g id=\"ytick_3\">\n     <g id=\"line2d_13\">\n      <path clip-path=\"url(#pa3e835705f)\" d=\"M 48.982813 64.344722 \nL 244.282813 64.344722 \n\" style=\"fill:none;stroke:#b0b0b0;stroke-linecap:square;stroke-width:0.8;\"/>\n     </g>\n     <g id=\"line2d_14\">\n      <g>\n       <use style=\"stroke:#000000;stroke-width:0.8;\" x=\"48.982813\" xlink:href=\"#m1d87a53686\" y=\"64.344722\"/>\n      </g>\n     </g>\n     <g id=\"text_8\">\n      <!-- 10 -->\n      <g transform=\"translate(29.257813 68.143941)scale(0.1 -0.1)\">\n       <use xlink:href=\"#DejaVuSans-31\"/>\n       <use x=\"63.623047\" xlink:href=\"#DejaVuSans-30\"/>\n      </g>\n     </g>\n    </g>\n    <g id=\"ytick_4\">\n     <g id=\"line2d_15\">\n      <path clip-path=\"url(#pa3e835705f)\" d=\"M 48.982813 28.053905 \nL 244.282813 28.053905 \n\" style=\"fill:none;stroke:#b0b0b0;stroke-linecap:square;stroke-width:0.8;\"/>\n     </g>\n     <g id=\"line2d_16\">\n      <g>\n       <use style=\"stroke:#000000;stroke-width:0.8;\" x=\"48.982813\" xlink:href=\"#m1d87a53686\" y=\"28.053905\"/>\n      </g>\n     </g>\n     <g id=\"text_9\">\n      <!-- 20 -->\n      <g transform=\"translate(29.257813 31.853124)scale(0.1 -0.1)\">\n       <use xlink:href=\"#DejaVuSans-32\"/>\n       <use x=\"63.623047\" xlink:href=\"#DejaVuSans-30\"/>\n      </g>\n     </g>\n    </g>\n    <g id=\"text_10\">\n     <!-- f(x) -->\n     <g transform=\"translate(14.798438 83.771094)rotate(-90)scale(0.1 -0.1)\">\n      <defs>\n       <path d=\"M 2375 4863 \nL 2375 4384 \nL 1825 4384 \nQ 1516 4384 1395 4259 \nQ 1275 4134 1275 3809 \nL 1275 3500 \nL 2222 3500 \nL 2222 3053 \nL 1275 3053 \nL 1275 0 \nL 697 0 \nL 697 3053 \nL 147 3053 \nL 147 3500 \nL 697 3500 \nL 697 3744 \nQ 697 4328 969 4595 \nQ 1241 4863 1831 4863 \nL 2375 4863 \nz\n\" id=\"DejaVuSans-66\" transform=\"scale(0.015625)\"/>\n       <path d=\"M 1984 4856 \nQ 1566 4138 1362 3434 \nQ 1159 2731 1159 2009 \nQ 1159 1288 1364 580 \nQ 1569 -128 1984 -844 \nL 1484 -844 \nQ 1016 -109 783 600 \nQ 550 1309 550 2009 \nQ 550 2706 781 3412 \nQ 1013 4119 1484 4856 \nL 1984 4856 \nz\n\" id=\"DejaVuSans-28\" transform=\"scale(0.015625)\"/>\n       <path d=\"M 513 4856 \nL 1013 4856 \nQ 1481 4119 1714 3412 \nQ 1947 2706 1947 2009 \nQ 1947 1309 1714 600 \nQ 1481 -109 1013 -844 \nL 513 -844 \nQ 928 -128 1133 580 \nQ 1338 1288 1338 2009 \nQ 1338 2731 1133 3434 \nQ 928 4138 513 4856 \nz\n\" id=\"DejaVuSans-29\" transform=\"scale(0.015625)\"/>\n      </defs>\n      <use xlink:href=\"#DejaVuSans-66\"/>\n      <use x=\"35.205078\" xlink:href=\"#DejaVuSans-28\"/>\n      <use x=\"74.21875\" xlink:href=\"#DejaVuSans-78\"/>\n      <use x=\"133.398438\" xlink:href=\"#DejaVuSans-29\"/>\n     </g>\n    </g>\n   </g>\n   <g id=\"line2d_17\">\n    <path clip-path=\"url(#pa3e835705f)\" d=\"M 63.982342 136.922727 \nL 70.104599 118.751915 \nL 76.226856 112.634493 \nL 82.349113 109.475982 \nL 88.47137 107.440067 \nL 94.593628 105.900127 \nL 100.715885 104.575167 \nL 106.838142 103.313802 \nL 112.960399 102.022252 \nL 119.082656 100.635539 \nL 125.204913 99.104397 \nL 131.32717 97.388721 \nL 137.449427 95.454048 \nL 143.571684 93.26954 \nL 149.693941 90.806776 \nL 155.816198 88.038997 \nL 161.938455 84.940615 \nL 168.060712 81.486891 \nL 174.182969 77.653711 \nL 180.305226 73.417426 \nL 186.427483 68.754748 \nL 192.54974 63.64266 \nL 198.671997 58.058364 \nL 204.794255 51.979231 \nL 210.916512 45.38277 \nL 217.038769 38.2466 \nL 223.161026 30.548428 \nL 229.283283 22.266038 \nL 235.40554 13.377273 \n\" style=\"fill:none;stroke:#1f77b4;stroke-linecap:square;stroke-width:1.5;\"/>\n   </g>\n   <g id=\"line2d_18\">\n    <path clip-path=\"url(#pa3e835705f)\" d=\"M 57.860085 115.151866 \nL 63.982342 113.700233 \nL 70.104599 112.248601 \nL 76.226856 110.796968 \nL 82.349113 109.345335 \nL 88.47137 107.893703 \nL 94.593628 106.44207 \nL 100.715885 104.990437 \nL 106.838142 103.538805 \nL 112.960399 102.087172 \nL 119.082656 100.635539 \nL 125.204913 99.183907 \nL 131.32717 97.732274 \nL 137.449427 96.280641 \nL 143.571684 94.829008 \nL 149.693941 93.377376 \nL 155.816198 91.925743 \nL 161.938455 90.47411 \nL 168.060712 89.022478 \nL 174.182969 87.570845 \nL 180.305226 86.119212 \nL 186.427483 84.66758 \nL 192.54974 83.215947 \nL 198.671997 81.764314 \nL 204.794255 80.312682 \nL 210.916512 78.861049 \nL 217.038769 77.409416 \nL 223.161026 75.957784 \nL 229.283283 74.506151 \nL 235.40554 73.054518 \n\" style=\"fill:none;stroke:#bf00bf;stroke-dasharray:5.55,2.4;stroke-dashoffset:0;stroke-width:1.5;\"/>\n   </g>\n   <g id=\"patch_3\">\n    <path d=\"M 48.982813 143.1 \nL 48.982813 7.2 \n\" style=\"fill:none;stroke:#000000;stroke-linecap:square;stroke-linejoin:miter;stroke-width:0.8;\"/>\n   </g>\n   <g id=\"patch_4\">\n    <path d=\"M 244.282813 143.1 \nL 244.282813 7.2 \n\" style=\"fill:none;stroke:#000000;stroke-linecap:square;stroke-linejoin:miter;stroke-width:0.8;\"/>\n   </g>\n   <g id=\"patch_5\">\n    <path d=\"M 48.982813 143.1 \nL 244.282813 143.1 \n\" style=\"fill:none;stroke:#000000;stroke-linecap:square;stroke-linejoin:miter;stroke-width:0.8;\"/>\n   </g>\n   <g id=\"patch_6\">\n    <path d=\"M 48.982813 7.2 \nL 244.282813 7.2 \n\" style=\"fill:none;stroke:#000000;stroke-linecap:square;stroke-linejoin:miter;stroke-width:0.8;\"/>\n   </g>\n   <g id=\"legend_1\">\n    <g id=\"patch_7\">\n     <path d=\"M 55.982813 44.55625 \nL 185.95625 44.55625 \nQ 187.95625 44.55625 187.95625 42.55625 \nL 187.95625 14.2 \nQ 187.95625 12.2 185.95625 12.2 \nL 55.982813 12.2 \nQ 53.982813 12.2 53.982813 14.2 \nL 53.982813 42.55625 \nQ 53.982813 44.55625 55.982813 44.55625 \nz\n\" style=\"fill:#ffffff;opacity:0.8;stroke:#cccccc;stroke-linejoin:miter;\"/>\n    </g>\n    <g id=\"line2d_19\">\n     <path d=\"M 57.982813 20.298437 \nL 77.982813 20.298437 \n\" style=\"fill:none;stroke:#1f77b4;stroke-linecap:square;stroke-width:1.5;\"/>\n    </g>\n    <g id=\"line2d_20\"/>\n    <g id=\"text_11\">\n     <!-- f(x) -->\n     <g transform=\"translate(85.982813 23.798437)scale(0.1 -0.1)\">\n      <use xlink:href=\"#DejaVuSans-66\"/>\n      <use x=\"35.205078\" xlink:href=\"#DejaVuSans-28\"/>\n      <use x=\"74.21875\" xlink:href=\"#DejaVuSans-78\"/>\n      <use x=\"133.398438\" xlink:href=\"#DejaVuSans-29\"/>\n     </g>\n    </g>\n    <g id=\"line2d_21\">\n     <path d=\"M 57.982813 34.976562 \nL 77.982813 34.976562 \n\" style=\"fill:none;stroke:#bf00bf;stroke-dasharray:5.55,2.4;stroke-dashoffset:0;stroke-width:1.5;\"/>\n    </g>\n    <g id=\"line2d_22\"/>\n    <g id=\"text_12\">\n     <!-- Tangent line at x=1 -->\n     <g transform=\"translate(85.982813 38.476562)scale(0.1 -0.1)\">\n      <defs>\n       <path d=\"M -19 4666 \nL 3928 4666 \nL 3928 4134 \nL 2272 4134 \nL 2272 0 \nL 1638 0 \nL 1638 4134 \nL -19 4134 \nL -19 4666 \nz\n\" id=\"DejaVuSans-54\" transform=\"scale(0.015625)\"/>\n       <path d=\"M 2194 1759 \nQ 1497 1759 1228 1600 \nQ 959 1441 959 1056 \nQ 959 750 1161 570 \nQ 1363 391 1709 391 \nQ 2188 391 2477 730 \nQ 2766 1069 2766 1631 \nL 2766 1759 \nL 2194 1759 \nz\nM 3341 1997 \nL 3341 0 \nL 2766 0 \nL 2766 531 \nQ 2569 213 2275 61 \nQ 1981 -91 1556 -91 \nQ 1019 -91 701 211 \nQ 384 513 384 1019 \nQ 384 1609 779 1909 \nQ 1175 2209 1959 2209 \nL 2766 2209 \nL 2766 2266 \nQ 2766 2663 2505 2880 \nQ 2244 3097 1772 3097 \nQ 1472 3097 1187 3025 \nQ 903 2953 641 2809 \nL 641 3341 \nQ 956 3463 1253 3523 \nQ 1550 3584 1831 3584 \nQ 2591 3584 2966 3190 \nQ 3341 2797 3341 1997 \nz\n\" id=\"DejaVuSans-61\" transform=\"scale(0.015625)\"/>\n       <path d=\"M 3513 2113 \nL 3513 0 \nL 2938 0 \nL 2938 2094 \nQ 2938 2591 2744 2837 \nQ 2550 3084 2163 3084 \nQ 1697 3084 1428 2787 \nQ 1159 2491 1159 1978 \nL 1159 0 \nL 581 0 \nL 581 3500 \nL 1159 3500 \nL 1159 2956 \nQ 1366 3272 1645 3428 \nQ 1925 3584 2291 3584 \nQ 2894 3584 3203 3211 \nQ 3513 2838 3513 2113 \nz\n\" id=\"DejaVuSans-6e\" transform=\"scale(0.015625)\"/>\n       <path d=\"M 2906 1791 \nQ 2906 2416 2648 2759 \nQ 2391 3103 1925 3103 \nQ 1463 3103 1205 2759 \nQ 947 2416 947 1791 \nQ 947 1169 1205 825 \nQ 1463 481 1925 481 \nQ 2391 481 2648 825 \nQ 2906 1169 2906 1791 \nz\nM 3481 434 \nQ 3481 -459 3084 -895 \nQ 2688 -1331 1869 -1331 \nQ 1566 -1331 1297 -1286 \nQ 1028 -1241 775 -1147 \nL 775 -588 \nQ 1028 -725 1275 -790 \nQ 1522 -856 1778 -856 \nQ 2344 -856 2625 -561 \nQ 2906 -266 2906 331 \nL 2906 616 \nQ 2728 306 2450 153 \nQ 2172 0 1784 0 \nQ 1141 0 747 490 \nQ 353 981 353 1791 \nQ 353 2603 747 3093 \nQ 1141 3584 1784 3584 \nQ 2172 3584 2450 3431 \nQ 2728 3278 2906 2969 \nL 2906 3500 \nL 3481 3500 \nL 3481 434 \nz\n\" id=\"DejaVuSans-67\" transform=\"scale(0.015625)\"/>\n       <path d=\"M 3597 1894 \nL 3597 1613 \nL 953 1613 \nQ 991 1019 1311 708 \nQ 1631 397 2203 397 \nQ 2534 397 2845 478 \nQ 3156 559 3463 722 \nL 3463 178 \nQ 3153 47 2828 -22 \nQ 2503 -91 2169 -91 \nQ 1331 -91 842 396 \nQ 353 884 353 1716 \nQ 353 2575 817 3079 \nQ 1281 3584 2069 3584 \nQ 2775 3584 3186 3129 \nQ 3597 2675 3597 1894 \nz\nM 3022 2063 \nQ 3016 2534 2758 2815 \nQ 2500 3097 2075 3097 \nQ 1594 3097 1305 2825 \nQ 1016 2553 972 2059 \nL 3022 2063 \nz\n\" id=\"DejaVuSans-65\" transform=\"scale(0.015625)\"/>\n       <path d=\"M 1172 4494 \nL 1172 3500 \nL 2356 3500 \nL 2356 3053 \nL 1172 3053 \nL 1172 1153 \nQ 1172 725 1289 603 \nQ 1406 481 1766 481 \nL 2356 481 \nL 2356 0 \nL 1766 0 \nQ 1100 0 847 248 \nQ 594 497 594 1153 \nL 594 3053 \nL 172 3053 \nL 172 3500 \nL 594 3500 \nL 594 4494 \nL 1172 4494 \nz\n\" id=\"DejaVuSans-74\" transform=\"scale(0.015625)\"/>\n       <path id=\"DejaVuSans-20\" transform=\"scale(0.015625)\"/>\n       <path d=\"M 603 4863 \nL 1178 4863 \nL 1178 0 \nL 603 0 \nL 603 4863 \nz\n\" id=\"DejaVuSans-6c\" transform=\"scale(0.015625)\"/>\n       <path d=\"M 603 3500 \nL 1178 3500 \nL 1178 0 \nL 603 0 \nL 603 3500 \nz\nM 603 4863 \nL 1178 4863 \nL 1178 4134 \nL 603 4134 \nL 603 4863 \nz\n\" id=\"DejaVuSans-69\" transform=\"scale(0.015625)\"/>\n       <path d=\"M 678 2906 \nL 4684 2906 \nL 4684 2381 \nL 678 2381 \nL 678 2906 \nz\nM 678 1631 \nL 4684 1631 \nL 4684 1100 \nL 678 1100 \nL 678 1631 \nz\n\" id=\"DejaVuSans-3d\" transform=\"scale(0.015625)\"/>\n      </defs>\n      <use xlink:href=\"#DejaVuSans-54\"/>\n      <use x=\"44.583984\" xlink:href=\"#DejaVuSans-61\"/>\n      <use x=\"105.863281\" xlink:href=\"#DejaVuSans-6e\"/>\n      <use x=\"169.242188\" xlink:href=\"#DejaVuSans-67\"/>\n      <use x=\"232.71875\" xlink:href=\"#DejaVuSans-65\"/>\n      <use x=\"294.242188\" xlink:href=\"#DejaVuSans-6e\"/>\n      <use x=\"357.621094\" xlink:href=\"#DejaVuSans-74\"/>\n      <use x=\"396.830078\" xlink:href=\"#DejaVuSans-20\"/>\n      <use x=\"428.617188\" xlink:href=\"#DejaVuSans-6c\"/>\n      <use x=\"456.400391\" xlink:href=\"#DejaVuSans-69\"/>\n      <use x=\"484.183594\" xlink:href=\"#DejaVuSans-6e\"/>\n      <use x=\"547.5625\" xlink:href=\"#DejaVuSans-65\"/>\n      <use x=\"609.085938\" xlink:href=\"#DejaVuSans-20\"/>\n      <use x=\"640.873047\" xlink:href=\"#DejaVuSans-61\"/>\n      <use x=\"702.152344\" xlink:href=\"#DejaVuSans-74\"/>\n      <use x=\"741.361328\" xlink:href=\"#DejaVuSans-20\"/>\n      <use x=\"773.148438\" xlink:href=\"#DejaVuSans-78\"/>\n      <use x=\"832.328125\" xlink:href=\"#DejaVuSans-3d\"/>\n      <use x=\"916.117188\" xlink:href=\"#DejaVuSans-31\"/>\n     </g>\n    </g>\n   </g>\n  </g>\n </g>\n <defs>\n  <clipPath id=\"pa3e835705f\">\n   <rect height=\"135.9\" width=\"195.3\" x=\"48.982813\" y=\"7.2\"/>\n  </clipPath>\n </defs>\n</svg>\n"
     },
     "metadata": {
      "needs_background": "light"
     }
    }
   ],
   "source": [
    "# ex1. plot y = f(x) = x**3 - 1/x and its tangent line at x = 1\n",
    "x = np.arange(0, 3, .1)\n",
    "def f2(x): \n",
    "    return x**3 - 1/x\n",
    "plot(x, [f2(x), 4*x-4], 'x', 'f(x)', legend=['f(x)', 'Tangent line at x=1'])"
   ]
  },
  {
   "cell_type": "code",
   "execution_count": 72,
   "metadata": {},
   "outputs": [],
   "source": [
    "# ex3. gradient of y = f(x) = ||x||_2 (L2 norm of vector x)\n",
    "# ans: x.T/||x|| see below with y.backward() and x.grad"
   ]
  },
  {
   "cell_type": "code",
   "execution_count": 73,
   "metadata": {},
   "outputs": [
    {
     "output_type": "execute_result",
     "data": {
      "text/plain": [
       "tensor([0., 1., 2., 3.])"
      ]
     },
     "metadata": {},
     "execution_count": 73
    }
   ],
   "source": [
    "import torch\n",
    "\n",
    "x = torch.arange(4.)\n",
    "x"
   ]
  },
  {
   "cell_type": "code",
   "execution_count": 74,
   "metadata": {},
   "outputs": [],
   "source": [
    "# or x = torch.arange(4., requires_grad=True)\n",
    "x.requires_grad_(True)\n",
    "x.grad"
   ]
  },
  {
   "cell_type": "code",
   "execution_count": 75,
   "metadata": {},
   "outputs": [
    {
     "output_type": "execute_result",
     "data": {
      "text/plain": [
       "tensor(28., grad_fn=<MulBackward0>)"
      ]
     },
     "metadata": {},
     "execution_count": 75
    }
   ],
   "source": [
    "y = 2 * torch.dot(x, x)\n",
    "y"
   ]
  },
  {
   "cell_type": "code",
   "execution_count": 76,
   "metadata": {},
   "outputs": [
    {
     "output_type": "execute_result",
     "data": {
      "text/plain": [
       "tensor([ 0.,  4.,  8., 12.])"
      ]
     },
     "metadata": {},
     "execution_count": 76
    }
   ],
   "source": [
    "y.backward()\n",
    "x.grad"
   ]
  },
  {
   "cell_type": "code",
   "execution_count": 77,
   "metadata": {},
   "outputs": [
    {
     "output_type": "execute_result",
     "data": {
      "text/plain": [
       "tensor([True, True, True, True])"
      ]
     },
     "metadata": {},
     "execution_count": 77
    }
   ],
   "source": [
    "x.grad == 4 * x"
   ]
  },
  {
   "cell_type": "code",
   "execution_count": 78,
   "metadata": {},
   "outputs": [
    {
     "output_type": "execute_result",
     "data": {
      "text/plain": [
       "(tensor(6., grad_fn=<SumBackward0>),\n",
       " tensor([0., 1., 2., 3.], requires_grad=True),\n",
       " tensor([1., 1., 1., 1.]))"
      ]
     },
     "metadata": {},
     "execution_count": 78
    }
   ],
   "source": [
    "# by default, pytorch gradient should be cleared before next calc\n",
    "x.grad.zero_()\n",
    "y = x.sum()\n",
    "y.backward()\n",
    "y, x, x.grad"
   ]
  },
  {
   "cell_type": "code",
   "execution_count": 79,
   "metadata": {},
   "outputs": [
    {
     "output_type": "execute_result",
     "data": {
      "text/plain": [
       "(tensor(3.7417, grad_fn=<CopyBackwards>),\n",
       " tensor([0., 1., 2., 3.], requires_grad=True),\n",
       " tensor([0.0000, 0.2673, 0.5345, 0.8018]))"
      ]
     },
     "metadata": {},
     "execution_count": 79
    }
   ],
   "source": [
    "x.grad.zero_()\n",
    "y = torch.norm(x)\n",
    "y.backward()\n",
    "y, x, x.grad"
   ]
  },
  {
   "cell_type": "code",
   "execution_count": 80,
   "metadata": {},
   "outputs": [
    {
     "output_type": "stream",
     "name": "stdout",
     "text": [
      "tensor([0., 1., 4., 9.], grad_fn=<MulBackward0>)\n"
     ]
    },
    {
     "output_type": "execute_result",
     "data": {
      "text/plain": [
       "tensor([0., 2., 4., 6.])"
      ]
     },
     "metadata": {},
     "execution_count": 80
    }
   ],
   "source": [
    "# when y is a scalar, the derivative of vector x is a vector\n",
    "# when y is a vector, the derivative of vector x is a matrix\n",
    "# when y is a matrix, the derivative of matrix x is a tensor\n",
    "# 对非标量调用‘backward’需要传入一个‘gradient’参数，该参数制定微分函数关于‘self’的梯度。\n",
    "x.grad.zero_()\n",
    "# * results in a tensor of the same dim as x\n",
    "y = x * x\n",
    "print(y)\n",
    "# or y.backward(torch.ones(len(x)))\n",
    "y.sum().backward()\n",
    "x.grad"
   ]
  },
  {
   "source": [
    "Note: 当我们调用向量的反向计算时，我们通常会试图计算一批训练样本中每个组成部分的损失函数的导数，我们的目的不是计算微分矩阵，而是批量中每个样本单独计算的偏导数之和。"
   ],
   "cell_type": "markdown",
   "metadata": {}
  },
  {
   "cell_type": "code",
   "execution_count": 81,
   "metadata": {},
   "outputs": [
    {
     "output_type": "execute_result",
     "data": {
      "text/plain": [
       "tensor([True, True, True, True])"
      ]
     },
     "metadata": {},
     "execution_count": 81
    }
   ],
   "source": [
    "x.grad.zero_()\n",
    "y = x * x \n",
    "u = y.detach()\n",
    "z = u * x\n",
    "\n",
    "z.sum().backward()\n",
    "x.grad == u"
   ]
  },
  {
   "cell_type": "code",
   "execution_count": 82,
   "metadata": {},
   "outputs": [
    {
     "output_type": "execute_result",
     "data": {
      "text/plain": [
       "tensor([True, True, True, True])"
      ]
     },
     "metadata": {},
     "execution_count": 82
    }
   ],
   "source": [
    "x.grad.zero_()\n",
    "y.sum().backward()\n",
    "x.grad == 2 * x"
   ]
  },
  {
   "cell_type": "code",
   "execution_count": 83,
   "metadata": {},
   "outputs": [],
   "source": [
    "def f(a):\n",
    "    b = a * 2\n",
    "    while b.norm() < 1000:\n",
    "        b = b * 2\n",
    "    if b.sum() > 0:\n",
    "        c = b\n",
    "    else:\n",
    "        c = 100 * b\n",
    "    return c"
   ]
  },
  {
   "cell_type": "code",
   "execution_count": 84,
   "metadata": {},
   "outputs": [
    {
     "output_type": "stream",
     "name": "stdout",
     "text": [
      "tensor(-1.0865, requires_grad=True)\n"
     ]
    }
   ],
   "source": [
    "a = torch.randn(size=(), requires_grad=True)\n",
    "print(a)\n",
    "d = f(a)\n",
    "d.backward()"
   ]
  },
  {
   "cell_type": "code",
   "execution_count": 85,
   "metadata": {},
   "outputs": [
    {
     "output_type": "execute_result",
     "data": {
      "text/plain": [
       "tensor(True)"
      ]
     },
     "metadata": {},
     "execution_count": 85
    }
   ],
   "source": [
    "a.grad == d / a"
   ]
  },
  {
   "cell_type": "code",
   "execution_count": 87,
   "metadata": {},
   "outputs": [],
   "source": [
    "# ex5.5\n",
    "def f_sin(x):\n",
    "    return sin(x)\n",
    "def f_d_sin(x, h):\n",
    "    pass\n"
   ]
  },
  {
   "source": [
    "## 6. Probablility"
   ],
   "cell_type": "markdown",
   "metadata": {}
  },
  {
   "cell_type": "code",
   "execution_count": 88,
   "metadata": {},
   "outputs": [],
   "source": [
    "%matplotlib inline\n",
    "import torch\n",
    "from torch.distributions import multinomial\n",
    "from d2l import torch as d2l"
   ]
  },
  {
   "cell_type": "code",
   "execution_count": 91,
   "metadata": {},
   "outputs": [
    {
     "output_type": "execute_result",
     "data": {
      "text/plain": [
       "tensor([0., 0., 0., 0., 0., 1.])"
      ]
     },
     "metadata": {},
     "execution_count": 91
    }
   ],
   "source": [
    "fair_probs = torch.ones([6]) / 6\n",
    "multinomial.Multinomial(1, fair_probs).sample()"
   ]
  },
  {
   "cell_type": "code",
   "execution_count": 92,
   "metadata": {},
   "outputs": [
    {
     "output_type": "execute_result",
     "data": {
      "text/plain": [
       "tensor([2., 3., 0., 3., 2., 0.])"
      ]
     },
     "metadata": {},
     "execution_count": 92
    }
   ],
   "source": [
    "multinomial.Multinomial(10, fair_probs).sample()"
   ]
  },
  {
   "cell_type": "code",
   "execution_count": 94,
   "metadata": {},
   "outputs": [
    {
     "output_type": "execute_result",
     "data": {
      "text/plain": [
       "tensor([0.1720, 0.1520, 0.1740, 0.1640, 0.1490, 0.1890])"
      ]
     },
     "metadata": {},
     "execution_count": 94
    }
   ],
   "source": [
    "counts = multinomial.Multinomial(1000, fair_probs).sample()\n",
    "counts / 1000"
   ]
  },
  {
   "cell_type": "code",
   "execution_count": 100,
   "metadata": {},
   "outputs": [
    {
     "output_type": "execute_result",
     "data": {
      "text/plain": [
       "<matplotlib.legend.Legend at 0x12e7cfa90>"
      ]
     },
     "metadata": {},
     "execution_count": 100
    },
    {
     "output_type": "display_data",
     "data": {
      "text/plain": "<Figure size 432x324 with 1 Axes>",
      "image/svg+xml": "<?xml version=\"1.0\" encoding=\"utf-8\" standalone=\"no\"?>\n<!DOCTYPE svg PUBLIC \"-//W3C//DTD SVG 1.1//EN\"\n  \"http://www.w3.org/Graphics/SVG/1.1/DTD/svg11.dtd\">\n<svg height=\"293.175462pt\" version=\"1.1\" viewBox=\"0 0 392.14375 293.175462\" width=\"392.14375pt\" xmlns=\"http://www.w3.org/2000/svg\" xmlns:xlink=\"http://www.w3.org/1999/xlink\">\n <metadata>\n  <rdf:RDF xmlns:cc=\"http://creativecommons.org/ns#\" xmlns:dc=\"http://purl.org/dc/elements/1.1/\" xmlns:rdf=\"http://www.w3.org/1999/02/22-rdf-syntax-ns#\">\n   <cc:Work>\n    <dc:type rdf:resource=\"http://purl.org/dc/dcmitype/StillImage\"/>\n    <dc:date>2021-04-10T08:24:50.338924</dc:date>\n    <dc:format>image/svg+xml</dc:format>\n    <dc:creator>\n     <cc:Agent>\n      <dc:title>Matplotlib v3.4.1, https://matplotlib.org/</dc:title>\n     </cc:Agent>\n    </dc:creator>\n   </cc:Work>\n  </rdf:RDF>\n </metadata>\n <defs>\n  <style type=\"text/css\">*{stroke-linecap:butt;stroke-linejoin:round;}</style>\n </defs>\n <g id=\"figure_1\">\n  <g id=\"patch_1\">\n   <path d=\"M 0 293.175462 \nL 392.14375 293.175462 \nL 392.14375 0 \nL 0 0 \nz\n\" style=\"fill:none;\"/>\n  </g>\n  <g id=\"axes_1\">\n   <g id=\"patch_2\">\n    <path d=\"M 50.14375 255.619212 \nL 384.94375 255.619212 \nL 384.94375 10.999212 \nL 50.14375 10.999212 \nz\n\" style=\"fill:#ffffff;\"/>\n   </g>\n   <g id=\"matplotlib.axis_1\">\n    <g id=\"xtick_1\">\n     <g id=\"line2d_1\">\n      <defs>\n       <path d=\"M 0 0 \nL 0 3.5 \n\" id=\"m24021cb771\" style=\"stroke:#000000;stroke-width:0.8;\"/>\n      </defs>\n      <g>\n       <use style=\"stroke:#000000;stroke-width:0.8;\" x=\"65.361932\" xlink:href=\"#m24021cb771\" y=\"255.619212\"/>\n      </g>\n     </g>\n     <g id=\"text_1\">\n      <!-- 0 -->\n      <g transform=\"translate(62.180682 270.217649)scale(0.1 -0.1)\">\n       <defs>\n        <path d=\"M 2034 4250 \nQ 1547 4250 1301 3770 \nQ 1056 3291 1056 2328 \nQ 1056 1369 1301 889 \nQ 1547 409 2034 409 \nQ 2525 409 2770 889 \nQ 3016 1369 3016 2328 \nQ 3016 3291 2770 3770 \nQ 2525 4250 2034 4250 \nz\nM 2034 4750 \nQ 2819 4750 3233 4129 \nQ 3647 3509 3647 2328 \nQ 3647 1150 3233 529 \nQ 2819 -91 2034 -91 \nQ 1250 -91 836 529 \nQ 422 1150 422 2328 \nQ 422 3509 836 4129 \nQ 1250 4750 2034 4750 \nz\n\" id=\"DejaVuSans-30\" transform=\"scale(0.015625)\"/>\n       </defs>\n       <use xlink:href=\"#DejaVuSans-30\"/>\n      </g>\n     </g>\n    </g>\n    <g id=\"xtick_2\">\n     <g id=\"line2d_2\">\n      <g>\n       <use style=\"stroke:#000000;stroke-width:0.8;\" x=\"126.356649\" xlink:href=\"#m24021cb771\" y=\"255.619212\"/>\n      </g>\n     </g>\n     <g id=\"text_2\">\n      <!-- 100 -->\n      <g transform=\"translate(116.812899 270.217649)scale(0.1 -0.1)\">\n       <defs>\n        <path d=\"M 794 531 \nL 1825 531 \nL 1825 4091 \nL 703 3866 \nL 703 4441 \nL 1819 4666 \nL 2450 4666 \nL 2450 531 \nL 3481 531 \nL 3481 0 \nL 794 0 \nL 794 531 \nz\n\" id=\"DejaVuSans-31\" transform=\"scale(0.015625)\"/>\n       </defs>\n       <use xlink:href=\"#DejaVuSans-31\"/>\n       <use x=\"63.623047\" xlink:href=\"#DejaVuSans-30\"/>\n       <use x=\"127.246094\" xlink:href=\"#DejaVuSans-30\"/>\n      </g>\n     </g>\n    </g>\n    <g id=\"xtick_3\">\n     <g id=\"line2d_3\">\n      <g>\n       <use style=\"stroke:#000000;stroke-width:0.8;\" x=\"187.351365\" xlink:href=\"#m24021cb771\" y=\"255.619212\"/>\n      </g>\n     </g>\n     <g id=\"text_3\">\n      <!-- 200 -->\n      <g transform=\"translate(177.807615 270.217649)scale(0.1 -0.1)\">\n       <defs>\n        <path d=\"M 1228 531 \nL 3431 531 \nL 3431 0 \nL 469 0 \nL 469 531 \nQ 828 903 1448 1529 \nQ 2069 2156 2228 2338 \nQ 2531 2678 2651 2914 \nQ 2772 3150 2772 3378 \nQ 2772 3750 2511 3984 \nQ 2250 4219 1831 4219 \nQ 1534 4219 1204 4116 \nQ 875 4013 500 3803 \nL 500 4441 \nQ 881 4594 1212 4672 \nQ 1544 4750 1819 4750 \nQ 2544 4750 2975 4387 \nQ 3406 4025 3406 3419 \nQ 3406 3131 3298 2873 \nQ 3191 2616 2906 2266 \nQ 2828 2175 2409 1742 \nQ 1991 1309 1228 531 \nz\n\" id=\"DejaVuSans-32\" transform=\"scale(0.015625)\"/>\n       </defs>\n       <use xlink:href=\"#DejaVuSans-32\"/>\n       <use x=\"63.623047\" xlink:href=\"#DejaVuSans-30\"/>\n       <use x=\"127.246094\" xlink:href=\"#DejaVuSans-30\"/>\n      </g>\n     </g>\n    </g>\n    <g id=\"xtick_4\">\n     <g id=\"line2d_4\">\n      <g>\n       <use style=\"stroke:#000000;stroke-width:0.8;\" x=\"248.346082\" xlink:href=\"#m24021cb771\" y=\"255.619212\"/>\n      </g>\n     </g>\n     <g id=\"text_4\">\n      <!-- 300 -->\n      <g transform=\"translate(238.802332 270.217649)scale(0.1 -0.1)\">\n       <defs>\n        <path d=\"M 2597 2516 \nQ 3050 2419 3304 2112 \nQ 3559 1806 3559 1356 \nQ 3559 666 3084 287 \nQ 2609 -91 1734 -91 \nQ 1441 -91 1130 -33 \nQ 819 25 488 141 \nL 488 750 \nQ 750 597 1062 519 \nQ 1375 441 1716 441 \nQ 2309 441 2620 675 \nQ 2931 909 2931 1356 \nQ 2931 1769 2642 2001 \nQ 2353 2234 1838 2234 \nL 1294 2234 \nL 1294 2753 \nL 1863 2753 \nQ 2328 2753 2575 2939 \nQ 2822 3125 2822 3475 \nQ 2822 3834 2567 4026 \nQ 2313 4219 1838 4219 \nQ 1578 4219 1281 4162 \nQ 984 4106 628 3988 \nL 628 4550 \nQ 988 4650 1302 4700 \nQ 1616 4750 1894 4750 \nQ 2613 4750 3031 4423 \nQ 3450 4097 3450 3541 \nQ 3450 3153 3228 2886 \nQ 3006 2619 2597 2516 \nz\n\" id=\"DejaVuSans-33\" transform=\"scale(0.015625)\"/>\n       </defs>\n       <use xlink:href=\"#DejaVuSans-33\"/>\n       <use x=\"63.623047\" xlink:href=\"#DejaVuSans-30\"/>\n       <use x=\"127.246094\" xlink:href=\"#DejaVuSans-30\"/>\n      </g>\n     </g>\n    </g>\n    <g id=\"xtick_5\">\n     <g id=\"line2d_5\">\n      <g>\n       <use style=\"stroke:#000000;stroke-width:0.8;\" x=\"309.340799\" xlink:href=\"#m24021cb771\" y=\"255.619212\"/>\n      </g>\n     </g>\n     <g id=\"text_5\">\n      <!-- 400 -->\n      <g transform=\"translate(299.797049 270.217649)scale(0.1 -0.1)\">\n       <defs>\n        <path d=\"M 2419 4116 \nL 825 1625 \nL 2419 1625 \nL 2419 4116 \nz\nM 2253 4666 \nL 3047 4666 \nL 3047 1625 \nL 3713 1625 \nL 3713 1100 \nL 3047 1100 \nL 3047 0 \nL 2419 0 \nL 2419 1100 \nL 313 1100 \nL 313 1709 \nL 2253 4666 \nz\n\" id=\"DejaVuSans-34\" transform=\"scale(0.015625)\"/>\n       </defs>\n       <use xlink:href=\"#DejaVuSans-34\"/>\n       <use x=\"63.623047\" xlink:href=\"#DejaVuSans-30\"/>\n       <use x=\"127.246094\" xlink:href=\"#DejaVuSans-30\"/>\n      </g>\n     </g>\n    </g>\n    <g id=\"xtick_6\">\n     <g id=\"line2d_6\">\n      <g>\n       <use style=\"stroke:#000000;stroke-width:0.8;\" x=\"370.335515\" xlink:href=\"#m24021cb771\" y=\"255.619212\"/>\n      </g>\n     </g>\n     <g id=\"text_6\">\n      <!-- 500 -->\n      <g transform=\"translate(360.791765 270.217649)scale(0.1 -0.1)\">\n       <defs>\n        <path d=\"M 691 4666 \nL 3169 4666 \nL 3169 4134 \nL 1269 4134 \nL 1269 2991 \nQ 1406 3038 1543 3061 \nQ 1681 3084 1819 3084 \nQ 2600 3084 3056 2656 \nQ 3513 2228 3513 1497 \nQ 3513 744 3044 326 \nQ 2575 -91 1722 -91 \nQ 1428 -91 1123 -41 \nQ 819 9 494 109 \nL 494 744 \nQ 775 591 1075 516 \nQ 1375 441 1709 441 \nQ 2250 441 2565 725 \nQ 2881 1009 2881 1497 \nQ 2881 1984 2565 2268 \nQ 2250 2553 1709 2553 \nQ 1456 2553 1204 2497 \nQ 953 2441 691 2322 \nL 691 4666 \nz\n\" id=\"DejaVuSans-35\" transform=\"scale(0.015625)\"/>\n       </defs>\n       <use xlink:href=\"#DejaVuSans-35\"/>\n       <use x=\"63.623047\" xlink:href=\"#DejaVuSans-30\"/>\n       <use x=\"127.246094\" xlink:href=\"#DejaVuSans-30\"/>\n      </g>\n     </g>\n    </g>\n    <g id=\"text_7\">\n     <!-- Groups of experiments -->\n     <g transform=\"translate(160.397656 283.895774)scale(0.1 -0.1)\">\n      <defs>\n       <path d=\"M 3809 666 \nL 3809 1919 \nL 2778 1919 \nL 2778 2438 \nL 4434 2438 \nL 4434 434 \nQ 4069 175 3628 42 \nQ 3188 -91 2688 -91 \nQ 1594 -91 976 548 \nQ 359 1188 359 2328 \nQ 359 3472 976 4111 \nQ 1594 4750 2688 4750 \nQ 3144 4750 3555 4637 \nQ 3966 4525 4313 4306 \nL 4313 3634 \nQ 3963 3931 3569 4081 \nQ 3175 4231 2741 4231 \nQ 1884 4231 1454 3753 \nQ 1025 3275 1025 2328 \nQ 1025 1384 1454 906 \nQ 1884 428 2741 428 \nQ 3075 428 3337 486 \nQ 3600 544 3809 666 \nz\n\" id=\"DejaVuSans-47\" transform=\"scale(0.015625)\"/>\n       <path d=\"M 2631 2963 \nQ 2534 3019 2420 3045 \nQ 2306 3072 2169 3072 \nQ 1681 3072 1420 2755 \nQ 1159 2438 1159 1844 \nL 1159 0 \nL 581 0 \nL 581 3500 \nL 1159 3500 \nL 1159 2956 \nQ 1341 3275 1631 3429 \nQ 1922 3584 2338 3584 \nQ 2397 3584 2469 3576 \nQ 2541 3569 2628 3553 \nL 2631 2963 \nz\n\" id=\"DejaVuSans-72\" transform=\"scale(0.015625)\"/>\n       <path d=\"M 1959 3097 \nQ 1497 3097 1228 2736 \nQ 959 2375 959 1747 \nQ 959 1119 1226 758 \nQ 1494 397 1959 397 \nQ 2419 397 2687 759 \nQ 2956 1122 2956 1747 \nQ 2956 2369 2687 2733 \nQ 2419 3097 1959 3097 \nz\nM 1959 3584 \nQ 2709 3584 3137 3096 \nQ 3566 2609 3566 1747 \nQ 3566 888 3137 398 \nQ 2709 -91 1959 -91 \nQ 1206 -91 779 398 \nQ 353 888 353 1747 \nQ 353 2609 779 3096 \nQ 1206 3584 1959 3584 \nz\n\" id=\"DejaVuSans-6f\" transform=\"scale(0.015625)\"/>\n       <path d=\"M 544 1381 \nL 544 3500 \nL 1119 3500 \nL 1119 1403 \nQ 1119 906 1312 657 \nQ 1506 409 1894 409 \nQ 2359 409 2629 706 \nQ 2900 1003 2900 1516 \nL 2900 3500 \nL 3475 3500 \nL 3475 0 \nL 2900 0 \nL 2900 538 \nQ 2691 219 2414 64 \nQ 2138 -91 1772 -91 \nQ 1169 -91 856 284 \nQ 544 659 544 1381 \nz\nM 1991 3584 \nL 1991 3584 \nz\n\" id=\"DejaVuSans-75\" transform=\"scale(0.015625)\"/>\n       <path d=\"M 1159 525 \nL 1159 -1331 \nL 581 -1331 \nL 581 3500 \nL 1159 3500 \nL 1159 2969 \nQ 1341 3281 1617 3432 \nQ 1894 3584 2278 3584 \nQ 2916 3584 3314 3078 \nQ 3713 2572 3713 1747 \nQ 3713 922 3314 415 \nQ 2916 -91 2278 -91 \nQ 1894 -91 1617 61 \nQ 1341 213 1159 525 \nz\nM 3116 1747 \nQ 3116 2381 2855 2742 \nQ 2594 3103 2138 3103 \nQ 1681 3103 1420 2742 \nQ 1159 2381 1159 1747 \nQ 1159 1113 1420 752 \nQ 1681 391 2138 391 \nQ 2594 391 2855 752 \nQ 3116 1113 3116 1747 \nz\n\" id=\"DejaVuSans-70\" transform=\"scale(0.015625)\"/>\n       <path d=\"M 2834 3397 \nL 2834 2853 \nQ 2591 2978 2328 3040 \nQ 2066 3103 1784 3103 \nQ 1356 3103 1142 2972 \nQ 928 2841 928 2578 \nQ 928 2378 1081 2264 \nQ 1234 2150 1697 2047 \nL 1894 2003 \nQ 2506 1872 2764 1633 \nQ 3022 1394 3022 966 \nQ 3022 478 2636 193 \nQ 2250 -91 1575 -91 \nQ 1294 -91 989 -36 \nQ 684 19 347 128 \nL 347 722 \nQ 666 556 975 473 \nQ 1284 391 1588 391 \nQ 1994 391 2212 530 \nQ 2431 669 2431 922 \nQ 2431 1156 2273 1281 \nQ 2116 1406 1581 1522 \nL 1381 1569 \nQ 847 1681 609 1914 \nQ 372 2147 372 2553 \nQ 372 3047 722 3315 \nQ 1072 3584 1716 3584 \nQ 2034 3584 2315 3537 \nQ 2597 3491 2834 3397 \nz\n\" id=\"DejaVuSans-73\" transform=\"scale(0.015625)\"/>\n       <path id=\"DejaVuSans-20\" transform=\"scale(0.015625)\"/>\n       <path d=\"M 2375 4863 \nL 2375 4384 \nL 1825 4384 \nQ 1516 4384 1395 4259 \nQ 1275 4134 1275 3809 \nL 1275 3500 \nL 2222 3500 \nL 2222 3053 \nL 1275 3053 \nL 1275 0 \nL 697 0 \nL 697 3053 \nL 147 3053 \nL 147 3500 \nL 697 3500 \nL 697 3744 \nQ 697 4328 969 4595 \nQ 1241 4863 1831 4863 \nL 2375 4863 \nz\n\" id=\"DejaVuSans-66\" transform=\"scale(0.015625)\"/>\n       <path d=\"M 3597 1894 \nL 3597 1613 \nL 953 1613 \nQ 991 1019 1311 708 \nQ 1631 397 2203 397 \nQ 2534 397 2845 478 \nQ 3156 559 3463 722 \nL 3463 178 \nQ 3153 47 2828 -22 \nQ 2503 -91 2169 -91 \nQ 1331 -91 842 396 \nQ 353 884 353 1716 \nQ 353 2575 817 3079 \nQ 1281 3584 2069 3584 \nQ 2775 3584 3186 3129 \nQ 3597 2675 3597 1894 \nz\nM 3022 2063 \nQ 3016 2534 2758 2815 \nQ 2500 3097 2075 3097 \nQ 1594 3097 1305 2825 \nQ 1016 2553 972 2059 \nL 3022 2063 \nz\n\" id=\"DejaVuSans-65\" transform=\"scale(0.015625)\"/>\n       <path d=\"M 3513 3500 \nL 2247 1797 \nL 3578 0 \nL 2900 0 \nL 1881 1375 \nL 863 0 \nL 184 0 \nL 1544 1831 \nL 300 3500 \nL 978 3500 \nL 1906 2253 \nL 2834 3500 \nL 3513 3500 \nz\n\" id=\"DejaVuSans-78\" transform=\"scale(0.015625)\"/>\n       <path d=\"M 603 3500 \nL 1178 3500 \nL 1178 0 \nL 603 0 \nL 603 3500 \nz\nM 603 4863 \nL 1178 4863 \nL 1178 4134 \nL 603 4134 \nL 603 4863 \nz\n\" id=\"DejaVuSans-69\" transform=\"scale(0.015625)\"/>\n       <path d=\"M 3328 2828 \nQ 3544 3216 3844 3400 \nQ 4144 3584 4550 3584 \nQ 5097 3584 5394 3201 \nQ 5691 2819 5691 2113 \nL 5691 0 \nL 5113 0 \nL 5113 2094 \nQ 5113 2597 4934 2840 \nQ 4756 3084 4391 3084 \nQ 3944 3084 3684 2787 \nQ 3425 2491 3425 1978 \nL 3425 0 \nL 2847 0 \nL 2847 2094 \nQ 2847 2600 2669 2842 \nQ 2491 3084 2119 3084 \nQ 1678 3084 1418 2786 \nQ 1159 2488 1159 1978 \nL 1159 0 \nL 581 0 \nL 581 3500 \nL 1159 3500 \nL 1159 2956 \nQ 1356 3278 1631 3431 \nQ 1906 3584 2284 3584 \nQ 2666 3584 2933 3390 \nQ 3200 3197 3328 2828 \nz\n\" id=\"DejaVuSans-6d\" transform=\"scale(0.015625)\"/>\n       <path d=\"M 3513 2113 \nL 3513 0 \nL 2938 0 \nL 2938 2094 \nQ 2938 2591 2744 2837 \nQ 2550 3084 2163 3084 \nQ 1697 3084 1428 2787 \nQ 1159 2491 1159 1978 \nL 1159 0 \nL 581 0 \nL 581 3500 \nL 1159 3500 \nL 1159 2956 \nQ 1366 3272 1645 3428 \nQ 1925 3584 2291 3584 \nQ 2894 3584 3203 3211 \nQ 3513 2838 3513 2113 \nz\n\" id=\"DejaVuSans-6e\" transform=\"scale(0.015625)\"/>\n       <path d=\"M 1172 4494 \nL 1172 3500 \nL 2356 3500 \nL 2356 3053 \nL 1172 3053 \nL 1172 1153 \nQ 1172 725 1289 603 \nQ 1406 481 1766 481 \nL 2356 481 \nL 2356 0 \nL 1766 0 \nQ 1100 0 847 248 \nQ 594 497 594 1153 \nL 594 3053 \nL 172 3053 \nL 172 3500 \nL 594 3500 \nL 594 4494 \nL 1172 4494 \nz\n\" id=\"DejaVuSans-74\" transform=\"scale(0.015625)\"/>\n      </defs>\n      <use xlink:href=\"#DejaVuSans-47\"/>\n      <use x=\"77.490234\" xlink:href=\"#DejaVuSans-72\"/>\n      <use x=\"116.353516\" xlink:href=\"#DejaVuSans-6f\"/>\n      <use x=\"177.535156\" xlink:href=\"#DejaVuSans-75\"/>\n      <use x=\"240.914062\" xlink:href=\"#DejaVuSans-70\"/>\n      <use x=\"304.390625\" xlink:href=\"#DejaVuSans-73\"/>\n      <use x=\"356.490234\" xlink:href=\"#DejaVuSans-20\"/>\n      <use x=\"388.277344\" xlink:href=\"#DejaVuSans-6f\"/>\n      <use x=\"449.458984\" xlink:href=\"#DejaVuSans-66\"/>\n      <use x=\"484.664062\" xlink:href=\"#DejaVuSans-20\"/>\n      <use x=\"516.451172\" xlink:href=\"#DejaVuSans-65\"/>\n      <use x=\"576.224609\" xlink:href=\"#DejaVuSans-78\"/>\n      <use x=\"635.404297\" xlink:href=\"#DejaVuSans-70\"/>\n      <use x=\"698.880859\" xlink:href=\"#DejaVuSans-65\"/>\n      <use x=\"760.404297\" xlink:href=\"#DejaVuSans-72\"/>\n      <use x=\"801.517578\" xlink:href=\"#DejaVuSans-69\"/>\n      <use x=\"829.300781\" xlink:href=\"#DejaVuSans-6d\"/>\n      <use x=\"926.712891\" xlink:href=\"#DejaVuSans-65\"/>\n      <use x=\"988.236328\" xlink:href=\"#DejaVuSans-6e\"/>\n      <use x=\"1051.615234\" xlink:href=\"#DejaVuSans-74\"/>\n      <use x=\"1090.824219\" xlink:href=\"#DejaVuSans-73\"/>\n     </g>\n    </g>\n   </g>\n   <g id=\"matplotlib.axis_2\">\n    <g id=\"ytick_1\">\n     <g id=\"line2d_7\">\n      <defs>\n       <path d=\"M 0 0 \nL -3.5 0 \n\" id=\"m1160a19fe2\" style=\"stroke:#000000;stroke-width:0.8;\"/>\n      </defs>\n      <g>\n       <use style=\"stroke:#000000;stroke-width:0.8;\" x=\"50.14375\" xlink:href=\"#m1160a19fe2\" y=\"244.500121\"/>\n      </g>\n     </g>\n     <g id=\"text_8\">\n      <!-- 0.00 -->\n      <g transform=\"translate(20.878125 248.29934)scale(0.1 -0.1)\">\n       <defs>\n        <path d=\"M 684 794 \nL 1344 794 \nL 1344 0 \nL 684 0 \nL 684 794 \nz\n\" id=\"DejaVuSans-2e\" transform=\"scale(0.015625)\"/>\n       </defs>\n       <use xlink:href=\"#DejaVuSans-30\"/>\n       <use x=\"63.623047\" xlink:href=\"#DejaVuSans-2e\"/>\n       <use x=\"95.410156\" xlink:href=\"#DejaVuSans-30\"/>\n       <use x=\"159.033203\" xlink:href=\"#DejaVuSans-30\"/>\n      </g>\n     </g>\n    </g>\n    <g id=\"ytick_2\">\n     <g id=\"line2d_8\">\n      <g>\n       <use style=\"stroke:#000000;stroke-width:0.8;\" x=\"50.14375\" xlink:href=\"#m1160a19fe2\" y=\"211.142849\"/>\n      </g>\n     </g>\n     <g id=\"text_9\">\n      <!-- 0.05 -->\n      <g transform=\"translate(20.878125 214.942068)scale(0.1 -0.1)\">\n       <use xlink:href=\"#DejaVuSans-30\"/>\n       <use x=\"63.623047\" xlink:href=\"#DejaVuSans-2e\"/>\n       <use x=\"95.410156\" xlink:href=\"#DejaVuSans-30\"/>\n       <use x=\"159.033203\" xlink:href=\"#DejaVuSans-35\"/>\n      </g>\n     </g>\n    </g>\n    <g id=\"ytick_3\">\n     <g id=\"line2d_9\">\n      <g>\n       <use style=\"stroke:#000000;stroke-width:0.8;\" x=\"50.14375\" xlink:href=\"#m1160a19fe2\" y=\"177.785577\"/>\n      </g>\n     </g>\n     <g id=\"text_10\">\n      <!-- 0.10 -->\n      <g transform=\"translate(20.878125 181.584796)scale(0.1 -0.1)\">\n       <use xlink:href=\"#DejaVuSans-30\"/>\n       <use x=\"63.623047\" xlink:href=\"#DejaVuSans-2e\"/>\n       <use x=\"95.410156\" xlink:href=\"#DejaVuSans-31\"/>\n       <use x=\"159.033203\" xlink:href=\"#DejaVuSans-30\"/>\n      </g>\n     </g>\n    </g>\n    <g id=\"ytick_4\">\n     <g id=\"line2d_10\">\n      <g>\n       <use style=\"stroke:#000000;stroke-width:0.8;\" x=\"50.14375\" xlink:href=\"#m1160a19fe2\" y=\"144.428306\"/>\n      </g>\n     </g>\n     <g id=\"text_11\">\n      <!-- 0.15 -->\n      <g transform=\"translate(20.878125 148.227524)scale(0.1 -0.1)\">\n       <use xlink:href=\"#DejaVuSans-30\"/>\n       <use x=\"63.623047\" xlink:href=\"#DejaVuSans-2e\"/>\n       <use x=\"95.410156\" xlink:href=\"#DejaVuSans-31\"/>\n       <use x=\"159.033203\" xlink:href=\"#DejaVuSans-35\"/>\n      </g>\n     </g>\n    </g>\n    <g id=\"ytick_5\">\n     <g id=\"line2d_11\">\n      <g>\n       <use style=\"stroke:#000000;stroke-width:0.8;\" x=\"50.14375\" xlink:href=\"#m1160a19fe2\" y=\"111.071034\"/>\n      </g>\n     </g>\n     <g id=\"text_12\">\n      <!-- 0.20 -->\n      <g transform=\"translate(20.878125 114.870253)scale(0.1 -0.1)\">\n       <use xlink:href=\"#DejaVuSans-30\"/>\n       <use x=\"63.623047\" xlink:href=\"#DejaVuSans-2e\"/>\n       <use x=\"95.410156\" xlink:href=\"#DejaVuSans-32\"/>\n       <use x=\"159.033203\" xlink:href=\"#DejaVuSans-30\"/>\n      </g>\n     </g>\n    </g>\n    <g id=\"ytick_6\">\n     <g id=\"line2d_12\">\n      <g>\n       <use style=\"stroke:#000000;stroke-width:0.8;\" x=\"50.14375\" xlink:href=\"#m1160a19fe2\" y=\"77.713762\"/>\n      </g>\n     </g>\n     <g id=\"text_13\">\n      <!-- 0.25 -->\n      <g transform=\"translate(20.878125 81.512981)scale(0.1 -0.1)\">\n       <use xlink:href=\"#DejaVuSans-30\"/>\n       <use x=\"63.623047\" xlink:href=\"#DejaVuSans-2e\"/>\n       <use x=\"95.410156\" xlink:href=\"#DejaVuSans-32\"/>\n       <use x=\"159.033203\" xlink:href=\"#DejaVuSans-35\"/>\n      </g>\n     </g>\n    </g>\n    <g id=\"ytick_7\">\n     <g id=\"line2d_13\">\n      <g>\n       <use style=\"stroke:#000000;stroke-width:0.8;\" x=\"50.14375\" xlink:href=\"#m1160a19fe2\" y=\"44.35649\"/>\n      </g>\n     </g>\n     <g id=\"text_14\">\n      <!-- 0.30 -->\n      <g transform=\"translate(20.878125 48.155709)scale(0.1 -0.1)\">\n       <use xlink:href=\"#DejaVuSans-30\"/>\n       <use x=\"63.623047\" xlink:href=\"#DejaVuSans-2e\"/>\n       <use x=\"95.410156\" xlink:href=\"#DejaVuSans-33\"/>\n       <use x=\"159.033203\" xlink:href=\"#DejaVuSans-30\"/>\n      </g>\n     </g>\n    </g>\n    <g id=\"ytick_8\">\n     <g id=\"line2d_14\">\n      <g>\n       <use style=\"stroke:#000000;stroke-width:0.8;\" x=\"50.14375\" xlink:href=\"#m1160a19fe2\" y=\"10.999219\"/>\n      </g>\n     </g>\n     <g id=\"text_15\">\n      <!-- 0.35 -->\n      <g transform=\"translate(20.878125 14.798438)scale(0.1 -0.1)\">\n       <use xlink:href=\"#DejaVuSans-30\"/>\n       <use x=\"63.623047\" xlink:href=\"#DejaVuSans-2e\"/>\n       <use x=\"95.410156\" xlink:href=\"#DejaVuSans-33\"/>\n       <use x=\"159.033203\" xlink:href=\"#DejaVuSans-35\"/>\n      </g>\n     </g>\n    </g>\n    <g id=\"text_16\">\n     <!-- Estimated probablilities -->\n     <g transform=\"translate(14.798438 192.332649)rotate(-90)scale(0.1 -0.1)\">\n      <defs>\n       <path d=\"M 628 4666 \nL 3578 4666 \nL 3578 4134 \nL 1259 4134 \nL 1259 2753 \nL 3481 2753 \nL 3481 2222 \nL 1259 2222 \nL 1259 531 \nL 3634 531 \nL 3634 0 \nL 628 0 \nL 628 4666 \nz\n\" id=\"DejaVuSans-45\" transform=\"scale(0.015625)\"/>\n       <path d=\"M 2194 1759 \nQ 1497 1759 1228 1600 \nQ 959 1441 959 1056 \nQ 959 750 1161 570 \nQ 1363 391 1709 391 \nQ 2188 391 2477 730 \nQ 2766 1069 2766 1631 \nL 2766 1759 \nL 2194 1759 \nz\nM 3341 1997 \nL 3341 0 \nL 2766 0 \nL 2766 531 \nQ 2569 213 2275 61 \nQ 1981 -91 1556 -91 \nQ 1019 -91 701 211 \nQ 384 513 384 1019 \nQ 384 1609 779 1909 \nQ 1175 2209 1959 2209 \nL 2766 2209 \nL 2766 2266 \nQ 2766 2663 2505 2880 \nQ 2244 3097 1772 3097 \nQ 1472 3097 1187 3025 \nQ 903 2953 641 2809 \nL 641 3341 \nQ 956 3463 1253 3523 \nQ 1550 3584 1831 3584 \nQ 2591 3584 2966 3190 \nQ 3341 2797 3341 1997 \nz\n\" id=\"DejaVuSans-61\" transform=\"scale(0.015625)\"/>\n       <path d=\"M 2906 2969 \nL 2906 4863 \nL 3481 4863 \nL 3481 0 \nL 2906 0 \nL 2906 525 \nQ 2725 213 2448 61 \nQ 2172 -91 1784 -91 \nQ 1150 -91 751 415 \nQ 353 922 353 1747 \nQ 353 2572 751 3078 \nQ 1150 3584 1784 3584 \nQ 2172 3584 2448 3432 \nQ 2725 3281 2906 2969 \nz\nM 947 1747 \nQ 947 1113 1208 752 \nQ 1469 391 1925 391 \nQ 2381 391 2643 752 \nQ 2906 1113 2906 1747 \nQ 2906 2381 2643 2742 \nQ 2381 3103 1925 3103 \nQ 1469 3103 1208 2742 \nQ 947 2381 947 1747 \nz\n\" id=\"DejaVuSans-64\" transform=\"scale(0.015625)\"/>\n       <path d=\"M 3116 1747 \nQ 3116 2381 2855 2742 \nQ 2594 3103 2138 3103 \nQ 1681 3103 1420 2742 \nQ 1159 2381 1159 1747 \nQ 1159 1113 1420 752 \nQ 1681 391 2138 391 \nQ 2594 391 2855 752 \nQ 3116 1113 3116 1747 \nz\nM 1159 2969 \nQ 1341 3281 1617 3432 \nQ 1894 3584 2278 3584 \nQ 2916 3584 3314 3078 \nQ 3713 2572 3713 1747 \nQ 3713 922 3314 415 \nQ 2916 -91 2278 -91 \nQ 1894 -91 1617 61 \nQ 1341 213 1159 525 \nL 1159 0 \nL 581 0 \nL 581 4863 \nL 1159 4863 \nL 1159 2969 \nz\n\" id=\"DejaVuSans-62\" transform=\"scale(0.015625)\"/>\n       <path d=\"M 603 4863 \nL 1178 4863 \nL 1178 0 \nL 603 0 \nL 603 4863 \nz\n\" id=\"DejaVuSans-6c\" transform=\"scale(0.015625)\"/>\n      </defs>\n      <use xlink:href=\"#DejaVuSans-45\"/>\n      <use x=\"63.183594\" xlink:href=\"#DejaVuSans-73\"/>\n      <use x=\"115.283203\" xlink:href=\"#DejaVuSans-74\"/>\n      <use x=\"154.492188\" xlink:href=\"#DejaVuSans-69\"/>\n      <use x=\"182.275391\" xlink:href=\"#DejaVuSans-6d\"/>\n      <use x=\"279.6875\" xlink:href=\"#DejaVuSans-61\"/>\n      <use x=\"340.966797\" xlink:href=\"#DejaVuSans-74\"/>\n      <use x=\"380.175781\" xlink:href=\"#DejaVuSans-65\"/>\n      <use x=\"441.699219\" xlink:href=\"#DejaVuSans-64\"/>\n      <use x=\"505.175781\" xlink:href=\"#DejaVuSans-20\"/>\n      <use x=\"536.962891\" xlink:href=\"#DejaVuSans-70\"/>\n      <use x=\"600.439453\" xlink:href=\"#DejaVuSans-72\"/>\n      <use x=\"639.302734\" xlink:href=\"#DejaVuSans-6f\"/>\n      <use x=\"700.484375\" xlink:href=\"#DejaVuSans-62\"/>\n      <use x=\"763.960938\" xlink:href=\"#DejaVuSans-61\"/>\n      <use x=\"825.240234\" xlink:href=\"#DejaVuSans-62\"/>\n      <use x=\"888.716797\" xlink:href=\"#DejaVuSans-6c\"/>\n      <use x=\"916.5\" xlink:href=\"#DejaVuSans-69\"/>\n      <use x=\"944.283203\" xlink:href=\"#DejaVuSans-6c\"/>\n      <use x=\"972.066406\" xlink:href=\"#DejaVuSans-69\"/>\n      <use x=\"999.849609\" xlink:href=\"#DejaVuSans-74\"/>\n      <use x=\"1039.058594\" xlink:href=\"#DejaVuSans-69\"/>\n      <use x=\"1066.841797\" xlink:href=\"#DejaVuSans-65\"/>\n      <use x=\"1128.365234\" xlink:href=\"#DejaVuSans-73\"/>\n     </g>\n    </g>\n   </g>\n   <g id=\"line2d_15\">\n    <path clip-path=\"url(#pc002ec21ab)\" d=\"M 65.361932 177.785576 \nL 67.191773 177.785576 \nL 67.80172 164.442671 \nL 68.411668 177.785576 \nL 69.021615 187.316225 \nL 69.631562 186.124896 \nL 70.241509 192.61103 \nL 70.851456 184.457029 \nL 71.461403 183.850534 \nL 72.071351 172.226031 \nL 72.681298 172.653689 \nL 73.901192 164.442671 \nL 74.511139 156.937287 \nL 75.731034 159.253755 \nL 76.340981 160.22912 \nL 77.560875 155.547392 \nL 78.170822 159.590703 \nL 78.780769 154.580516 \nL 80.000664 156.436924 \nL 80.610611 154.692077 \nL 81.220558 155.547392 \nL 81.830505 153.95895 \nL 82.440452 154.780564 \nL 83.0504 153.323576 \nL 84.880241 155.547392 \nL 85.490188 158.163648 \nL 86.100135 158.724274 \nL 86.710083 157.400578 \nL 87.32003 157.951522 \nL 87.929977 160.22912 \nL 88.539924 158.96865 \nL 89.149871 156.103356 \nL 90.369766 153.95895 \nL 90.979713 156.064565 \nL 91.58966 156.558227 \nL 92.199607 158.512486 \nL 93.419502 153.654788 \nL 94.029449 149.987852 \nL 95.249343 153.768337 \nL 95.85929 151.623007 \nL 96.469237 152.126133 \nL 97.079185 153.869042 \nL 97.689132 154.311944 \nL 98.909026 152.767622 \nL 100.738868 154.039723 \nL 101.348815 155.547392 \nL 101.958762 155.911957 \nL 102.568709 155.188712 \nL 103.178656 156.606353 \nL 103.788603 155.894868 \nL 104.398551 156.231647 \nL 105.008498 157.569052 \nL 105.618445 157.870789 \nL 106.838339 156.514277 \nL 107.448286 156.818151 \nL 108.058234 155.234183 \nL 108.668181 155.547392 \nL 109.278128 154.938133 \nL 109.888075 155.246878 \nL 110.498022 153.768337 \nL 111.107969 153.206537 \nL 112.327864 153.836762 \nL 112.937811 153.295432 \nL 114.767652 154.191406 \nL 115.3776 155.279465 \nL 115.987547 155.547392 \nL 117.207441 154.513065 \nL 117.817388 153.246899 \nL 119.037283 155.297528 \nL 119.64723 154.064854 \nL 120.867124 154.580516 \nL 121.477071 152.677952 \nL 122.087018 153.654788 \nL 122.696966 152.504278 \nL 123.306913 152.072679 \nL 123.91686 152.337762 \nL 124.526807 153.278194 \nL 125.746701 153.768337 \nL 126.356649 153.345595 \nL 126.966596 152.277071 \nL 127.576543 151.877016 \nL 130.016332 152.845561 \nL 131.236226 152.079051 \nL 133.676015 152.989023 \nL 134.285962 152.621316 \nL 135.505856 149.604438 \nL 136.115803 149.275084 \nL 136.72575 147.820571 \nL 137.335698 147.511747 \nL 138.555592 148.012149 \nL 139.775486 146.326691 \nL 140.385433 147.118412 \nL 142.215275 146.266895 \nL 142.825222 146.513139 \nL 143.435169 145.72122 \nL 145.874958 146.68556 \nL 146.484905 145.921914 \nL 147.094852 146.652128 \nL 147.704799 145.899953 \nL 148.314747 146.132688 \nL 149.534641 145.62821 \nL 150.144588 145.857902 \nL 150.754535 145.138037 \nL 151.97443 145.594648 \nL 152.584377 144.891603 \nL 153.194324 145.118453 \nL 153.804271 144.885251 \nL 154.414218 144.201383 \nL 155.024165 144.879077 \nL 155.634113 145.099932 \nL 156.24406 144.873073 \nL 156.854007 145.091035 \nL 158.073901 143.774238 \nL 158.683848 142.695464 \nL 159.293796 142.49143 \nL 159.903743 143.145335 \nL 160.51369 142.091175 \nL 161.123637 141.894846 \nL 161.733584 142.540162 \nL 162.343531 142.76044 \nL 162.953479 142.563613 \nL 163.563426 141.54558 \nL 164.173373 141.767906 \nL 164.78332 141.173937 \nL 165.393267 141.395825 \nL 166.003214 142.016934 \nL 166.613162 142.231118 \nL 167.223109 141.648532 \nL 169.662897 140.937425 \nL 170.272845 141.536057 \nL 170.882792 141.744385 \nL 171.492739 141.569111 \nL 172.102686 141.774885 \nL 172.712633 141.60142 \nL 173.32258 141.804699 \nL 173.932528 141.633003 \nL 174.542475 140.721938 \nL 175.762369 141.129231 \nL 176.372316 141.694102 \nL 178.202158 142.276222 \nL 181.251894 141.45933 \nL 181.861841 141.648532 \nL 183.081735 140.64552 \nL 183.691682 141.178112 \nL 184.911577 141.549756 \nL 185.521524 141.058887 \nL 186.131471 140.908188 \nL 187.351365 141.275129 \nL 187.961312 141.125603 \nL 188.57126 140.64891 \nL 189.791154 141.011219 \nL 191.011048 142.011109 \nL 192.230943 142.353455 \nL 193.450837 141.424565 \nL 194.060784 141.281392 \nL 194.670731 140.826351 \nL 195.280678 140.999051 \nL 197.720467 140.449916 \nL 198.940361 140.78933 \nL 199.550309 140.654855 \nL 200.160256 140.822116 \nL 200.770203 140.688705 \nL 201.38015 139.960817 \nL 202.600044 140.295549 \nL 203.209992 140.1668 \nL 203.819939 140.331794 \nL 204.429886 139.330035 \nL 206.259727 139.827306 \nL 206.869675 139.703886 \nL 207.479622 140.151729 \nL 208.089569 139.744098 \nL 208.699516 139.622596 \nL 209.309463 140.065121 \nL 209.91941 140.223604 \nL 211.139305 141.092578 \nL 211.749252 140.968004 \nL 212.359199 141.120145 \nL 214.189041 140.7522 \nL 215.408935 141.052067 \nL 216.018882 141.469192 \nL 216.628829 141.61504 \nL 217.238776 142.026577 \nL 217.848724 141.105869 \nL 218.458671 141.251419 \nL 219.068618 140.868442 \nL 219.678565 141.013783 \nL 220.288512 140.896357 \nL 220.898459 140.519246 \nL 221.508407 140.664259 \nL 222.118354 140.549557 \nL 222.728301 140.693318 \nL 223.338248 140.322798 \nL 224.558142 140.608767 \nL 225.16809 139.98913 \nL 225.778037 140.132294 \nL 226.387984 140.526136 \nL 226.997931 140.666208 \nL 227.607878 140.555363 \nL 229.43772 140.969038 \nL 230.047667 140.612525 \nL 230.657614 140.749197 \nL 231.267561 141.129231 \nL 232.487456 140.910633 \nL 233.097403 141.285955 \nL 233.70735 141.176879 \nL 234.927244 140.004578 \nL 235.537191 139.901249 \nL 236.147139 139.323812 \nL 236.757086 139.223624 \nL 237.367033 138.181186 \nL 237.97698 137.615907 \nL 239.196874 137.430274 \nL 239.806822 137.105981 \nL 240.416769 137.247226 \nL 241.636663 137.986904 \nL 242.24661 137.894411 \nL 242.856557 138.031023 \nL 243.466505 138.394395 \nL 245.906293 138.92492 \nL 246.51624 139.279196 \nL 247.126188 138.961732 \nL 250.175923 138.503004 \nL 250.785871 138.631792 \nL 252.005765 139.321496 \nL 252.615712 138.579949 \nL 253.225659 138.706829 \nL 253.835606 138.18727 \nL 254.445554 138.314597 \nL 255.055501 138.013447 \nL 256.275395 137.841841 \nL 256.885342 137.545056 \nL 257.495289 137.883525 \nL 258.715184 137.295302 \nL 259.325131 137.631365 \nL 260.545025 137.881547 \nL 261.76492 137.715538 \nL 263.594761 138.084288 \nL 264.204708 138.409715 \nL 264.814655 138.326368 \nL 265.424603 138.64908 \nL 266.03455 138.565514 \nL 266.644497 138.684004 \nL 267.254444 138.600835 \nL 267.864391 138.7185 \nL 268.474338 138.43598 \nL 269.084286 138.354293 \nL 269.694233 138.074536 \nL 271.524074 138.425969 \nL 272.134021 138.737945 \nL 272.743969 138.069884 \nL 273.353916 138.186007 \nL 273.963863 137.912454 \nL 274.57381 138.222303 \nL 277.013599 138.677055 \nL 277.623546 138.406792 \nL 278.233493 138.519307 \nL 278.84344 138.441099 \nL 280.063335 138.664022 \nL 280.673282 138.20915 \nL 281.283229 138.320631 \nL 281.893176 138.618889 \nL 282.503123 138.7286 \nL 283.11307 138.464998 \nL 283.723018 138.388689 \nL 284.942912 137.867738 \nL 285.552859 137.793706 \nL 286.162806 137.536307 \nL 286.772753 137.646884 \nL 287.382701 137.391294 \nL 287.992648 137.501662 \nL 288.602595 137.247862 \nL 289.212542 137.5393 \nL 289.822489 137.467574 \nL 290.432436 137.215921 \nL 291.042384 137.505102 \nL 291.652331 137.434042 \nL 292.262278 137.005644 \nL 292.872225 136.757918 \nL 294.092119 136.621286 \nL 294.702067 136.199588 \nL 295.312014 136.133111 \nL 295.921961 135.890952 \nL 297.141855 136.461082 \nL 297.751802 136.04533 \nL 298.36175 136.154306 \nL 299.581644 136.024006 \nL 300.191591 136.132196 \nL 300.801538 135.550276 \nL 302.021433 135.767422 \nL 302.63138 136.046225 \nL 303.241327 135.811721 \nL 303.851274 135.918798 \nL 304.461221 136.195085 \nL 305.681116 136.40567 \nL 306.90101 136.278044 \nL 307.510957 136.047079 \nL 308.730851 136.255776 \nL 310.560693 135.571659 \nL 311.780587 135.450675 \nL 312.390534 135.554938 \nL 313.000482 135.166952 \nL 313.610429 135.107891 \nL 314.830323 135.31608 \nL 315.44027 135.257089 \nL 317.270112 135.565267 \nL 317.880059 135.827756 \nL 318.490006 135.607875 \nL 319.099953 135.549033 \nL 319.7099 135.330873 \nL 320.319848 135.591413 \nL 320.929795 135.374187 \nL 321.539742 135.474931 \nL 322.149689 135.417103 \nL 322.759636 135.517261 \nL 323.979531 134.774322 \nL 324.589478 134.875285 \nL 325.199425 135.132018 \nL 326.419319 135.330873 \nL 327.029266 135.584752 \nL 327.639214 135.682663 \nL 328.249161 135.316826 \nL 328.859108 135.260837 \nL 329.469055 135.358817 \nL 330.079002 135.609715 \nL 330.688949 135.553437 \nL 331.298897 135.650076 \nL 333.128738 135.482496 \nL 334.348632 135.673905 \nL 335.568527 136.164118 \nL 336.178474 135.508045 \nL 336.788421 135.303673 \nL 337.398368 135.398712 \nL 338.618263 135.290342 \nL 339.22821 135.384774 \nL 339.838157 135.330873 \nL 340.448104 135.424797 \nL 341.667998 135.905297 \nL 342.277946 135.85072 \nL 343.49784 136.034245 \nL 344.717734 135.925468 \nL 345.327681 135.726405 \nL 345.937629 135.817646 \nL 346.547576 135.475269 \nL 347.76747 135.370081 \nL 350.207259 135.732608 \nL 352.0371 135.575527 \nL 353.256995 135.754002 \nL 353.866942 135.983426 \nL 354.476889 136.071435 \nL 355.086836 136.018906 \nL 355.696783 136.106468 \nL 356.916678 136.559053 \nL 357.526625 136.22798 \nL 358.136572 136.45307 \nL 359.966414 136.29575 \nL 360.576361 136.518851 \nL 361.186308 136.46649 \nL 361.796255 136.551329 \nL 362.406202 136.499118 \nL 363.016149 136.310691 \nL 363.626097 136.259176 \nL 364.236044 136.072002 \nL 367.895727 136.575586 \nL 368.505674 136.524378 \nL 369.115621 136.60706 \nL 369.725568 136.822844 \nL 369.725568 136.822844 \n\" style=\"fill:none;stroke:#1f77b4;stroke-linecap:square;stroke-width:1.5;\"/>\n   </g>\n   <g id=\"line2d_16\">\n    <path clip-path=\"url(#pc002ec21ab)\" d=\"M 65.361932 244.500121 \nL 65.971879 44.356483 \nL 66.581826 22.118303 \nL 67.191773 44.356483 \nL 67.80172 84.38522 \nL 68.411668 88.832852 \nL 69.021615 82.479086 \nL 69.631562 94.392402 \nL 70.241509 111.071032 \nL 70.851456 117.74249 \nL 71.461403 117.135995 \nL 72.071351 127.749672 \nL 72.681298 105.939144 \nL 73.291245 111.071032 \nL 73.901192 111.071032 \nL 74.511139 115.240697 \nL 75.121086 122.844186 \nL 76.340981 128.627493 \nL 76.950928 124.413938 \nL 77.560875 130.132329 \nL 78.780769 128.474826 \nL 79.390717 133.309212 \nL 80.000664 129.751102 \nL 80.610611 134.164526 \nL 81.220558 133.309212 \nL 81.830505 134.897653 \nL 82.440452 131.775547 \nL 83.0504 133.309212 \nL 84.270294 127.749672 \nL 85.490188 130.692955 \nL 87.32003 129.101989 \nL 87.929977 126.87185 \nL 88.539924 128.177324 \nL 89.149871 126.08181 \nL 89.759819 125.715694 \nL 90.369766 126.955446 \nL 91.58966 126.233434 \nL 92.199607 127.379032 \nL 93.419502 126.685074 \nL 94.029449 124.969902 \nL 94.639396 126.047771 \nL 95.249343 125.748231 \nL 95.85929 126.768571 \nL 96.469237 126.466695 \nL 97.689132 128.367401 \nL 98.299079 128.052919 \nL 98.909026 130.132329 \nL 99.518973 128.627493 \nL 101.348815 131.085396 \nL 101.958762 130.757295 \nL 102.568709 131.515812 \nL 103.178656 131.19129 \nL 103.788603 131.919327 \nL 104.398551 130.572209 \nL 105.618445 131.981559 \nL 106.838339 135.242972 \nL 108.058234 134.562067 \nL 108.668181 133.309212 \nL 109.278128 133.004582 \nL 109.888075 130.905091 \nL 110.498022 130.640635 \nL 111.107969 129.505315 \nL 111.717917 130.132329 \nL 112.327864 129.887953 \nL 113.547758 131.085396 \nL 114.157705 132.48558 \nL 114.767652 133.038015 \nL 115.3776 132.773359 \nL 115.987547 131.72077 \nL 116.597494 129.123203 \nL 118.427335 128.507791 \nL 119.037283 126.81267 \nL 120.257177 126.466695 \nL 120.867124 125.5742 \nL 121.477071 126.135612 \nL 124.526807 125.367005 \nL 125.136754 123.874834 \nL 125.746701 124.413938 \nL 126.356649 124.281839 \nL 126.966596 123.49825 \nL 127.576543 123.377603 \nL 128.796437 121.87244 \nL 129.406384 121.770532 \nL 130.016332 121.047038 \nL 130.626279 121.572393 \nL 131.236226 120.86399 \nL 131.846173 120.774966 \nL 132.45612 120.086515 \nL 133.066067 120.60168 \nL 133.676015 120.517339 \nL 134.285962 121.01969 \nL 134.895909 120.933181 \nL 135.505856 121.998415 \nL 136.115803 122.475227 \nL 137.335698 122.28356 \nL 137.945645 122.746076 \nL 138.555592 122.649586 \nL 140.385433 123.983522 \nL 141.605328 125.896485 \nL 142.215275 125.25444 \nL 142.825222 125.143635 \nL 143.435169 126.068876 \nL 144.045116 125.953508 \nL 144.655064 126.34917 \nL 145.265011 125.222608 \nL 145.874958 124.614592 \nL 146.484905 125.011387 \nL 147.094852 123.919759 \nL 147.704799 123.825287 \nL 148.314747 122.758254 \nL 149.534641 123.550014 \nL 150.144588 122.984348 \nL 150.754535 123.846164 \nL 151.364482 124.226019 \nL 153.194324 123.953847 \nL 153.804271 123.40866 \nL 154.414218 123.778563 \nL 155.024165 122.340384 \nL 155.634113 121.816997 \nL 156.854007 121.674668 \nL 158.073901 122.408143 \nL 158.683848 123.200947 \nL 160.51369 122.969167 \nL 161.123637 123.738351 \nL 161.733584 123.239092 \nL 162.343531 123.996972 \nL 162.953479 123.916687 \nL 163.563426 124.661037 \nL 164.78332 124.495297 \nL 165.393267 124.009608 \nL 166.003214 124.735458 \nL 166.613162 124.653631 \nL 167.223109 124.969902 \nL 167.833056 124.492891 \nL 168.443003 124.806378 \nL 169.05295 124.726053 \nL 169.662897 125.03454 \nL 170.882792 124.874038 \nL 171.492739 124.413938 \nL 172.102686 124.717195 \nL 172.712633 125.393926 \nL 173.32258 125.313461 \nL 173.932528 125.606609 \nL 174.542475 125.525856 \nL 175.762369 126.100132 \nL 176.982263 125.936777 \nL 177.592211 125.495803 \nL 178.202158 124.342202 \nL 178.812105 123.91448 \nL 179.422052 123.846164 \nL 180.641946 124.413938 \nL 181.251894 123.994795 \nL 181.861841 124.622426 \nL 182.471788 124.206544 \nL 184.301629 125.026627 \nL 184.911577 124.955785 \nL 185.521524 125.222608 \nL 186.131471 125.151489 \nL 186.741418 124.747516 \nL 187.351365 125.011387 \nL 187.961312 125.60291 \nL 188.57126 125.859971 \nL 189.181207 126.441544 \nL 190.401101 126.292316 \nL 191.011048 126.86337 \nL 191.620995 127.108183 \nL 192.230943 127.031447 \nL 194.060784 127.749672 \nL 194.670731 127.671365 \nL 195.280678 127.905541 \nL 195.890626 127.827243 \nL 196.500573 128.058536 \nL 197.720467 129.126802 \nL 198.330414 129.044359 \nL 198.940361 128.659415 \nL 199.550309 128.881701 \nL 200.160256 128.200447 \nL 200.770203 128.422803 \nL 201.38015 128.941 \nL 201.990097 128.565072 \nL 202.600044 128.782855 \nL 203.209992 128.410933 \nL 203.819939 128.920104 \nL 204.429886 129.133483 \nL 205.039833 129.054957 \nL 205.64978 128.399491 \nL 206.259727 128.037232 \nL 206.869675 127.964413 \nL 208.089569 128.95621 \nL 208.699516 128.880428 \nL 209.309463 129.086779 \nL 209.91941 129.011076 \nL 210.529358 129.4943 \nL 211.139305 129.417534 \nL 212.359199 130.368632 \nL 212.969146 130.563759 \nL 213.579093 131.030709 \nL 214.189041 131.221551 \nL 215.408935 131.058385 \nL 216.018882 130.708782 \nL 216.628829 130.629918 \nL 217.238776 130.818543 \nL 218.458671 131.72077 \nL 219.068618 131.639153 \nL 219.678565 131.820829 \nL 220.288512 132.262717 \nL 220.898459 132.440536 \nL 221.508407 132.876569 \nL 222.728301 132.708184 \nL 223.338248 133.138153 \nL 223.948195 133.309212 \nL 224.558142 132.969699 \nL 225.16809 133.393772 \nL 225.778037 133.561918 \nL 226.997931 132.891202 \nL 227.607878 132.809485 \nL 228.827773 131.655814 \nL 229.43772 131.826674 \nL 230.657614 132.655148 \nL 231.267561 132.820461 \nL 231.877508 132.74109 \nL 232.487456 132.419689 \nL 234.927244 134.026572 \nL 235.537191 134.182858 \nL 236.147139 134.100614 \nL 236.757086 133.782365 \nL 237.367033 134.173593 \nL 237.97698 134.327155 \nL 238.586927 134.71373 \nL 239.196874 134.86433 \nL 239.806822 134.78143 \nL 240.416769 134.467456 \nL 241.026716 134.386494 \nL 241.636663 134.7662 \nL 242.856557 134.603899 \nL 243.466505 134.068196 \nL 244.076452 133.763059 \nL 245.296346 134.511277 \nL 246.51624 134.353967 \nL 247.126188 134.499218 \nL 247.736135 134.42112 \nL 248.346082 134.565188 \nL 249.565976 133.969758 \nL 250.785871 134.694544 \nL 251.395818 134.61734 \nL 252.005765 134.323338 \nL 252.615712 134.247844 \nL 253.225659 133.74102 \nL 254.445554 134.024265 \nL 255.055501 134.378363 \nL 255.665448 134.517043 \nL 256.275395 134.2299 \nL 256.885342 134.156385 \nL 257.495289 134.505571 \nL 258.105237 134.642104 \nL 258.715184 134.987572 \nL 259.325131 134.703461 \nL 259.935078 134.212642 \nL 261.154972 134.068902 \nL 261.76492 133.791153 \nL 262.374867 133.309212 \nL 262.984814 133.03551 \nL 264.204708 132.901174 \nL 265.424603 132.362905 \nL 266.03455 132.500551 \nL 266.644497 132.838921 \nL 267.254444 132.974301 \nL 267.864391 132.708184 \nL 269.084286 133.375599 \nL 270.30418 133.639162 \nL 270.914127 133.967153 \nL 271.524074 134.096409 \nL 272.134021 133.636249 \nL 273.353916 133.894433 \nL 273.963863 133.827886 \nL 274.57381 133.567803 \nL 275.183757 133.695966 \nL 275.793704 133.630572 \nL 276.403652 133.75782 \nL 277.013599 133.692636 \nL 278.233493 133.182143 \nL 279.453387 133.056505 \nL 280.063335 132.427245 \nL 280.673282 132.555377 \nL 281.893176 132.434681 \nL 282.503123 132.56171 \nL 283.11307 132.501685 \nL 283.723018 132.256156 \nL 284.332965 132.382628 \nL 284.942912 131.953982 \nL 287.382701 131.725125 \nL 287.992648 131.486416 \nL 288.602595 131.794355 \nL 289.212542 131.738038 \nL 290.432436 131.986947 \nL 291.042384 132.290215 \nL 292.262278 132.534163 \nL 293.482172 131.708065 \nL 294.092119 131.830611 \nL 294.702067 131.775547 \nL 295.312014 132.073764 \nL 295.921961 132.194371 \nL 297.751802 131.504548 \nL 298.36175 131.451194 \nL 298.971697 131.571861 \nL 300.191591 131.465638 \nL 300.801538 131.585321 \nL 302.021433 131.479854 \nL 302.63138 131.769651 \nL 303.241327 131.887336 \nL 303.851274 131.664046 \nL 306.291063 131.456035 \nL 306.90101 131.236642 \nL 307.510957 131.52122 \nL 308.120904 131.637174 \nL 308.730851 131.25218 \nL 309.340799 131.368224 \nL 309.950746 131.649651 \nL 311.17064 131.878041 \nL 311.780587 131.661938 \nL 313.000482 132.216431 \nL 313.610429 132.001084 \nL 314.220376 131.949916 \nL 314.830323 132.224424 \nL 315.44027 132.010637 \nL 316.050217 131.959808 \nL 316.660165 132.232307 \nL 317.270112 132.181189 \nL 317.880059 132.29108 \nL 318.490006 132.560815 \nL 319.099953 132.669264 \nL 319.7099 132.457993 \nL 320.319848 132.088507 \nL 320.929795 132.038463 \nL 321.539742 131.830194 \nL 322.149689 131.93909 \nL 323.369583 131.840652 \nL 323.979531 131.948763 \nL 324.589478 131.899752 \nL 325.199425 131.538498 \nL 325.809372 131.646549 \nL 327.639214 131.03896 \nL 328.249161 131.147171 \nL 328.859108 131.100805 \nL 329.469055 131.36209 \nL 330.688949 131.575042 \nL 331.298897 131.833454 \nL 331.908844 131.786055 \nL 332.518791 131.890835 \nL 333.128738 132.146763 \nL 333.738685 132.098975 \nL 334.95858 132.305236 \nL 335.568527 132.257409 \nL 336.178474 132.509638 \nL 336.788421 132.1624 \nL 337.398368 132.264467 \nL 338.618263 131.872891 \nL 341.667998 131.643805 \nL 344.107787 132.046783 \nL 344.717734 132.001084 \nL 345.327681 132.100615 \nL 345.937629 132.055005 \nL 346.547576 132.15399 \nL 347.157523 131.820262 \nL 347.76747 131.919327 \nL 348.377417 131.874492 \nL 348.987365 132.116183 \nL 349.597312 132.07112 \nL 350.207259 131.74114 \nL 351.427153 131.65318 \nL 352.0371 131.751131 \nL 352.647048 131.565965 \nL 353.256995 131.522641 \nL 353.866942 131.338738 \nL 355.086836 131.533895 \nL 355.696783 131.490998 \nL 356.306731 131.727421 \nL 356.916678 131.823573 \nL 357.526625 131.780338 \nL 358.746519 131.97123 \nL 359.356466 131.927966 \nL 359.966414 132.022706 \nL 360.576361 131.704397 \nL 361.186308 131.799217 \nL 361.796255 131.619658 \nL 362.406202 131.577557 \nL 363.626097 132.038463 \nL 364.236044 132.131632 \nL 364.845991 132.360022 \nL 366.065885 132.273831 \nL 366.675832 132.500551 \nL 367.28578 132.591852 \nL 367.895727 132.548558 \nL 368.505674 132.773359 \nL 369.115621 132.729866 \nL 369.725568 132.553121 \nL 369.725568 132.553121 \n\" style=\"fill:none;stroke:#ff7f0e;stroke-linecap:square;stroke-width:1.5;\"/>\n   </g>\n   <g id=\"line2d_17\">\n    <path clip-path=\"url(#pc002ec21ab)\" d=\"M 65.361932 44.356483 \nL 65.971879 144.428302 \nL 66.581826 155.547392 \nL 67.191773 127.749672 \nL 67.80172 137.756854 \nL 69.021615 82.479086 \nL 69.631562 77.713762 \nL 70.241509 66.594662 \nL 70.851456 64.370846 \nL 71.461403 74.681286 \nL 72.071351 77.713762 \nL 72.681298 85.411594 \nL 73.291245 87.244411 \nL 73.901192 84.38522 \nL 75.121086 95.373493 \nL 75.731034 96.245579 \nL 76.340981 93.514571 \nL 76.950928 97.728126 \nL 77.560875 95.186618 \nL 78.170822 98.941117 \nL 78.780769 105.269771 \nL 80.000664 105.733868 \nL 80.610611 108.505088 \nL 81.830505 118.219023 \nL 82.440452 122.573546 \nL 83.0504 117.74249 \nL 83.660347 119.679362 \nL 84.270294 117.325524 \nL 86.100135 122.507814 \nL 87.32003 125.495803 \nL 87.929977 128.627493 \nL 89.149871 127.749672 \nL 89.759819 128.970059 \nL 90.369766 128.543888 \nL 91.58966 130.782148 \nL 92.809554 135.726405 \nL 93.419502 136.621286 \nL 95.249343 135.088267 \nL 95.85929 132.001084 \nL 96.469237 130.315616 \nL 98.299079 129.26591 \nL 98.909026 127.749672 \nL 99.518973 128.627493 \nL 100.12892 128.324793 \nL 100.738868 124.640091 \nL 101.348815 123.30203 \nL 102.568709 125.059572 \nL 103.178656 126.955446 \nL 104.398551 124.413938 \nL 105.008498 126.233434 \nL 106.228392 121.863095 \nL 106.838339 121.706689 \nL 107.448286 120.60168 \nL 108.058234 121.40709 \nL 108.668181 121.263539 \nL 109.278128 122.95171 \nL 109.888075 123.692701 \nL 110.498022 122.634893 \nL 111.107969 123.360554 \nL 111.717917 122.334528 \nL 113.547758 124.413938 \nL 114.157705 122.601938 \nL 114.767652 121.647728 \nL 115.3776 121.520301 \nL 115.987547 122.190122 \nL 116.597494 123.629067 \nL 117.817388 123.340373 \nL 119.037283 121.565454 \nL 119.64723 122.931401 \nL 120.257177 123.534188 \nL 120.867124 123.398718 \nL 122.696966 127.222975 \nL 123.91686 126.889943 \nL 124.526807 126.047771 \nL 125.746701 127.082525 \nL 127.576543 126.616171 \nL 128.18649 125.825216 \nL 128.796437 125.684697 \nL 129.406384 124.917452 \nL 130.016332 124.788047 \nL 130.626279 125.278756 \nL 132.45612 124.894766 \nL 133.066067 124.175676 \nL 133.676015 124.059702 \nL 134.285962 124.530986 \nL 134.895909 123.833817 \nL 135.505856 124.874038 \nL 136.115803 125.326275 \nL 136.72575 125.205469 \nL 137.335698 124.526065 \nL 137.945645 124.969902 \nL 138.555592 124.855031 \nL 139.165539 124.195211 \nL 139.775486 124.630905 \nL 140.385433 123.445502 \nL 140.995381 122.812792 \nL 141.605328 123.249083 \nL 142.215275 122.102569 \nL 143.435169 122.965877 \nL 144.045116 120.82162 \nL 145.265011 122.695535 \nL 145.874958 122.608131 \nL 146.484905 123.019907 \nL 148.314747 125.680054 \nL 148.924694 126.057633 \nL 149.534641 125.469857 \nL 153.804271 127.978141 \nL 154.414218 128.770806 \nL 155.024165 128.200447 \nL 158.683848 130.132329 \nL 159.293796 130.009356 \nL 159.903743 129.460301 \nL 160.51369 129.768102 \nL 161.123637 129.227527 \nL 161.733584 128.274152 \nL 162.343531 129.000568 \nL 163.563426 128.779217 \nL 164.173373 129.48916 \nL 164.78332 129.376854 \nL 165.393267 128.45725 \nL 166.003214 127.950614 \nL 166.613162 128.24903 \nL 167.223109 127.749672 \nL 167.833056 127.650975 \nL 168.443003 128.338332 \nL 169.05295 128.627493 \nL 169.662897 129.301172 \nL 170.272845 129.195794 \nL 170.882792 128.708216 \nL 172.102686 129.26591 \nL 172.712633 128.786195 \nL 174.542475 129.602848 \nL 175.152422 129.500464 \nL 176.372316 128.569934 \nL 176.982263 128.837403 \nL 178.202158 128.646372 \nL 178.812105 129.26591 \nL 180.031999 129.073368 \nL 181.251894 130.282024 \nL 182.471788 129.391607 \nL 185.521524 130.613674 \nL 186.131471 130.515474 \nL 186.741418 130.751827 \nL 187.351365 131.317733 \nL 187.961312 129.896423 \nL 188.57126 130.132329 \nL 189.181207 130.038891 \nL 189.791154 130.271805 \nL 190.401101 129.85474 \nL 191.011048 129.763996 \nL 191.620995 129.353383 \nL 192.230943 129.904327 \nL 192.84089 129.496954 \nL 193.450837 129.725812 \nL 194.670731 130.803502 \nL 195.280678 131.023044 \nL 195.890626 130.930243 \nL 196.500573 131.456035 \nL 197.11052 131.669533 \nL 198.330414 130.872156 \nL 200.160256 130.604568 \nL 201.38015 129.834499 \nL 201.990097 130.344127 \nL 203.209992 129.586525 \nL 205.64978 129.26591 \nL 206.259727 129.475044 \nL 207.479622 128.747534 \nL 209.309463 128.523786 \nL 209.91941 128.730763 \nL 210.529358 128.37774 \nL 211.139305 127.749672 \nL 211.749252 127.680461 \nL 212.359199 127.060465 \nL 212.969146 126.994674 \nL 213.579093 127.202834 \nL 214.189041 127.136983 \nL 214.798988 126.800482 \nL 215.408935 127.006892 \nL 216.018882 126.942642 \nL 216.628829 127.414761 \nL 217.238776 126.815662 \nL 217.848724 126.487144 \nL 218.458671 126.690711 \nL 219.068618 126.628976 \nL 219.678565 126.30506 \nL 220.898459 126.186044 \nL 221.508407 125.867646 \nL 222.728301 126.268556 \nL 223.948195 126.152094 \nL 224.558142 126.34917 \nL 225.16809 126.798414 \nL 225.778037 126.738846 \nL 226.387984 127.18323 \nL 226.997931 127.373455 \nL 227.607878 127.062533 \nL 228.217825 127.251804 \nL 228.827773 127.19165 \nL 229.43772 127.379032 \nL 230.047667 127.318858 \nL 230.657614 127.504392 \nL 231.267561 127.444197 \nL 231.877508 127.627931 \nL 232.487456 127.567717 \nL 233.097403 127.749672 \nL 233.70735 127.689458 \nL 234.317297 127.389699 \nL 234.927244 126.613845 \nL 235.537191 126.558343 \nL 236.147139 126.978062 \nL 237.367033 126.865647 \nL 238.586927 127.222975 \nL 239.196874 127.166499 \nL 241.636663 127.864692 \nL 242.856557 127.292723 \nL 243.466505 127.23736 \nL 244.076452 127.636212 \nL 244.686399 127.806208 \nL 245.296346 127.524284 \nL 245.906293 127.693514 \nL 246.51624 127.413857 \nL 247.126188 127.582321 \nL 247.736135 126.860139 \nL 248.346082 127.029329 \nL 248.956029 126.976492 \nL 249.565976 127.144171 \nL 250.785871 126.163835 \nL 251.395818 126.114507 \nL 252.005765 125.848201 \nL 253.225659 126.616171 \nL 253.835606 126.781236 \nL 254.445554 126.730714 \nL 255.055501 126.466695 \nL 256.275395 126.368635 \nL 256.885342 126.53186 \nL 257.495289 126.482939 \nL 258.105237 126.644772 \nL 258.715184 126.386012 \nL 259.325131 126.547139 \nL 259.935078 126.498775 \nL 260.545025 126.658541 \nL 261.76492 126.562031 \nL 262.984814 127.287802 \nL 263.594761 127.442696 \nL 264.204708 127.188618 \nL 264.814655 127.342876 \nL 266.03455 127.244259 \nL 266.644497 126.993839 \nL 267.254444 126.543988 \nL 267.864391 126.697869 \nL 268.474338 126.651075 \nL 269.084286 126.007121 \nL 269.694233 126.359787 \nL 270.30418 126.116455 \nL 270.914127 126.071938 \nL 271.524074 125.634086 \nL 272.134021 125.9837 \nL 272.743969 125.939968 \nL 273.353916 125.701418 \nL 273.963863 126.047771 \nL 275.183757 126.347698 \nL 275.793704 126.303549 \nL 276.403652 126.644166 \nL 277.013599 126.407714 \nL 277.623546 126.363763 \nL 278.84344 126.656771 \nL 279.453387 126.612493 \nL 280.063335 126.37947 \nL 280.673282 126.524682 \nL 281.283229 126.29323 \nL 281.893176 126.437865 \nL 282.503123 126.021069 \nL 283.11307 125.979316 \nL 283.723018 125.751949 \nL 286.162806 126.325321 \nL 286.772753 126.283418 \nL 287.382701 126.424514 \nL 287.992648 126.747127 \nL 288.602595 126.70441 \nL 289.212542 126.843219 \nL 289.822489 126.800482 \nL 290.432436 126.938278 \nL 291.042384 126.715683 \nL 291.652331 126.673632 \nL 292.872225 126.946956 \nL 293.482172 127.260433 \nL 294.702067 126.820623 \nL 295.312014 126.955446 \nL 295.921961 126.913534 \nL 296.531908 127.222975 \nL 297.141855 127.35569 \nL 297.751802 127.313052 \nL 298.36175 127.444834 \nL 298.971697 127.402196 \nL 299.581644 127.706348 \nL 300.191591 127.836091 \nL 300.801538 128.137549 \nL 301.411485 127.921616 \nL 302.021433 128.221304 \nL 302.63138 127.835206 \nL 303.241327 127.962951 \nL 303.851274 127.919856 \nL 304.461221 127.537476 \nL 305.681116 127.116305 \nL 307.510957 126.99536 \nL 308.730851 127.249309 \nL 309.340799 126.876224 \nL 311.17064 126.758858 \nL 311.780587 127.04958 \nL 312.390534 126.681585 \nL 313.000482 126.47931 \nL 314.220376 126.403966 \nL 316.050217 126.778094 \nL 316.660165 127.06314 \nL 317.270112 127.024508 \nL 320.319848 127.630248 \nL 320.929795 127.590821 \nL 321.539742 127.868519 \nL 322.149689 127.670629 \nL 322.759636 127.789099 \nL 323.979531 128.338332 \nL 324.589478 128.141188 \nL 325.199425 128.413687 \nL 325.809372 128.529045 \nL 326.419319 128.799377 \nL 327.029266 128.758141 \nL 327.639214 128.871899 \nL 328.249161 128.830692 \nL 328.859108 129.097823 \nL 329.469055 129.21001 \nL 330.079002 128.86158 \nL 330.688949 128.973787 \nL 331.298897 128.627493 \nL 331.908844 128.58741 \nL 332.518791 128.85145 \nL 333.128738 128.962662 \nL 333.738685 128.922092 \nL 334.348632 128.730763 \nL 334.95858 128.690899 \nL 335.568527 128.500961 \nL 336.788421 129.021137 \nL 337.398368 129.130232 \nL 338.008315 129.08992 \nL 338.618263 129.198369 \nL 339.838157 128.822133 \nL 340.448104 128.340062 \nL 341.058051 128.596487 \nL 342.277946 128.519452 \nL 342.887893 128.334883 \nL 343.49784 128.443093 \nL 344.717734 128.367401 \nL 345.327681 128.18476 \nL 345.937629 128.292354 \nL 347.157523 128.794337 \nL 347.76747 128.756143 \nL 348.987365 128.393904 \nL 352.0371 128.918235 \nL 352.647048 128.880428 \nL 353.256995 128.560678 \nL 353.866942 128.383038 \nL 354.476889 128.487044 \nL 355.086836 128.45045 \nL 355.696783 128.274152 \nL 356.916678 128.202326 \nL 357.526625 128.305626 \nL 358.136572 128.547188 \nL 359.356466 128.474826 \nL 359.966414 128.576714 \nL 362.406202 128.433222 \nL 363.016149 128.534145 \nL 363.626097 128.498506 \nL 364.236044 128.598892 \nL 364.845991 128.83446 \nL 365.455938 128.933753 \nL 366.065885 128.762545 \nL 368.505674 128.620445 \nL 369.115621 128.718973 \nL 369.725568 128.683671 \nL 369.725568 128.683671 \n\" style=\"fill:none;stroke:#2ca02c;stroke-linecap:square;stroke-width:1.5;\"/>\n   </g>\n   <g id=\"line2d_18\">\n    <path clip-path=\"url(#pc002ec21ab)\" d=\"M 65.361932 111.071032 \nL 65.971879 144.428302 \nL 66.581826 111.071032 \nL 67.191773 127.749672 \nL 67.80172 111.071032 \nL 68.411668 133.309212 \nL 69.021615 139.662977 \nL 69.631562 136.088992 \nL 70.241509 133.309212 \nL 70.851456 137.756854 \nL 72.071351 122.190122 \nL 72.681298 131.598583 \nL 73.291245 130.132329 \nL 73.901192 137.756854 \nL 74.511139 136.088992 \nL 75.121086 138.541725 \nL 75.731034 137.015575 \nL 76.950928 141.092578 \nL 77.560875 142.83986 \nL 78.170822 141.395825 \nL 78.780769 142.977994 \nL 79.390717 133.309212 \nL 80.610611 131.598583 \nL 82.440452 129.475044 \nL 83.0504 133.309212 \nL 84.880241 137.352524 \nL 85.490188 138.541725 \nL 86.100135 135.85072 \nL 86.710083 138.868762 \nL 87.929977 140.917015 \nL 88.539924 136.73047 \nL 89.149871 136.088992 \nL 90.369766 138.074536 \nL 90.979713 137.446548 \nL 91.58966 135.330873 \nL 92.199607 130.344127 \nL 93.419502 135.201825 \nL 95.249343 137.756854 \nL 95.85929 137.233596 \nL 96.469237 135.447503 \nL 97.079185 132.470042 \nL 97.689132 130.838306 \nL 98.299079 131.691891 \nL 98.909026 131.323667 \nL 100.738868 137.078394 \nL 101.958762 140.600427 \nL 102.568709 141.200182 \nL 103.178656 139.662977 \nL 104.398551 138.783227 \nL 105.008498 137.352524 \nL 107.448286 135.85072 \nL 108.058234 136.441349 \nL 108.668181 136.088992 \nL 109.278128 136.660176 \nL 109.888075 135.412828 \nL 111.107969 136.527898 \nL 111.717917 137.93014 \nL 112.937811 137.250159 \nL 113.547758 136.088992 \nL 114.157705 137.427401 \nL 114.767652 137.919572 \nL 115.3776 137.596094 \nL 116.597494 138.541725 \nL 117.817388 137.910217 \nL 118.427335 138.363349 \nL 119.037283 138.056692 \nL 119.64723 139.239401 \nL 120.257177 138.929851 \nL 120.867124 139.352194 \nL 121.477071 139.048102 \nL 122.087018 138.040746 \nL 122.696966 138.459113 \nL 124.526807 141.705266 \nL 126.966596 143.120173 \nL 128.18649 142.503846 \nL 128.796437 142.83986 \nL 130.016332 142.24605 \nL 130.626279 142.575125 \nL 131.846173 142.002321 \nL 133.066067 142.641314 \nL 133.676015 143.542716 \nL 134.285962 143.843091 \nL 134.895909 144.718367 \nL 135.505856 145.003432 \nL 136.115803 143.572987 \nL 137.335698 144.147989 \nL 137.945645 143.316394 \nL 138.555592 143.60127 \nL 139.165539 144.428302 \nL 139.775486 144.157105 \nL 140.385433 144.966322 \nL 140.995381 144.695164 \nL 141.605328 143.369341 \nL 142.215275 144.165654 \nL 143.435169 142.61822 \nL 144.045116 143.401928 \nL 145.265011 141.901238 \nL 145.874958 142.171043 \nL 146.484905 142.9347 \nL 147.094852 142.204486 \nL 147.704799 142.466109 \nL 148.314747 143.210887 \nL 148.924694 142.011109 \nL 149.534641 142.748441 \nL 150.144588 142.045645 \nL 150.754535 142.77227 \nL 151.364482 142.549019 \nL 151.97443 142.795433 \nL 152.584377 142.575125 \nL 153.194324 141.437658 \nL 153.804271 141.686617 \nL 154.414218 141.0245 \nL 155.024165 141.272892 \nL 155.634113 140.174693 \nL 157.463954 139.600278 \nL 158.073901 140.285896 \nL 158.683848 140.096197 \nL 160.51369 142.091175 \nL 161.733584 142.540162 \nL 162.343531 142.343474 \nL 162.953479 141.734861 \nL 163.563426 141.54558 \nL 164.173373 140.949324 \nL 164.78332 141.173937 \nL 166.003214 140.811251 \nL 166.613162 139.834186 \nL 167.833056 140.283321 \nL 168.443003 139.719046 \nL 169.05295 140.331794 \nL 169.662897 140.16168 \nL 170.882792 140.594134 \nL 171.492739 141.187884 \nL 172.712633 141.60142 \nL 173.32258 141.429904 \nL 173.932528 141.633003 \nL 174.542475 141.463217 \nL 175.152422 140.926718 \nL 175.762369 141.129231 \nL 176.372316 141.694102 \nL 176.982263 141.527676 \nL 177.592211 141.002421 \nL 178.202158 141.558862 \nL 180.031999 141.074932 \nL 180.641946 140.565881 \nL 181.861841 140.953589 \nL 182.471788 141.490098 \nL 183.691682 140.493856 \nL 184.301629 139.322599 \nL 184.911577 139.517845 \nL 185.521524 139.037236 \nL 186.131471 138.896697 \nL 186.741418 138.424001 \nL 187.351365 138.619823 \nL 187.961312 139.143985 \nL 188.57126 139.005692 \nL 189.181207 139.195789 \nL 190.401101 138.922733 \nL 191.620995 137.371959 \nL 192.230943 137.246122 \nL 192.84089 137.439161 \nL 193.450837 137.3142 \nL 194.060784 137.505102 \nL 194.670731 137.067777 \nL 195.890626 137.446548 \nL 196.500573 137.32444 \nL 197.11052 136.588579 \nL 197.720467 136.471521 \nL 198.330414 136.660176 \nL 198.940361 136.543863 \nL 200.160256 136.915407 \nL 200.770203 137.397846 \nL 201.38015 136.982491 \nL 202.600044 137.343576 \nL 203.209992 137.22784 \nL 203.819939 136.527898 \nL 204.429886 136.999391 \nL 205.039833 136.596601 \nL 205.64978 136.774908 \nL 206.259727 136.664112 \nL 206.869675 136.840599 \nL 207.479622 135.304946 \nL 208.089569 135.769609 \nL 208.699516 135.664958 \nL 209.309463 134.998189 \nL 209.91941 134.897653 \nL 210.529358 133.960542 \nL 211.749252 133.216937 \nL 212.359199 133.401109 \nL 212.969146 133.309212 \nL 213.579093 133.491494 \nL 214.189041 133.399985 \nL 214.798988 133.851606 \nL 216.018882 134.205912 \nL 216.628829 133.577148 \nL 217.238776 133.48712 \nL 218.458671 133.838692 \nL 219.068618 134.276097 \nL 219.678565 134.447394 \nL 220.288512 134.355716 \nL 220.898459 134.525364 \nL 221.508407 134.434103 \nL 222.118354 134.084967 \nL 222.728301 134.511277 \nL 223.338248 134.42112 \nL 223.948195 134.076049 \nL 224.558142 134.242883 \nL 225.16809 133.901103 \nL 226.387984 134.232306 \nL 226.997931 134.14524 \nL 227.607878 134.308684 \nL 228.217825 134.221977 \nL 228.827773 134.38392 \nL 229.43772 134.29758 \nL 230.047667 134.458052 \nL 230.657614 134.37207 \nL 231.267561 134.042339 \nL 231.877508 133.471542 \nL 232.487456 133.63268 \nL 233.097403 133.0675 \nL 233.70735 132.747243 \nL 234.317297 132.909246 \nL 234.927244 133.309212 \nL 236.147139 133.150937 \nL 236.757086 133.309212 \nL 237.367033 133.702119 \nL 237.97698 133.62243 \nL 238.586927 133.309212 \nL 239.196874 133.697994 \nL 240.416769 134.004154 \nL 241.636663 133.385899 \nL 242.24661 133.309212 \nL 242.856557 133.690001 \nL 244.076452 133.082293 \nL 244.686399 133.007684 \nL 245.296346 133.15896 \nL 245.906293 132.859957 \nL 246.51624 132.786839 \nL 247.126188 132.93734 \nL 247.736135 133.309212 \nL 248.346082 133.456978 \nL 249.565976 134.189936 \nL 250.175923 134.333339 \nL 250.785871 134.257069 \nL 251.395818 134.399319 \nL 252.005765 134.106022 \nL 252.615712 134.464444 \nL 253.225659 134.172837 \nL 253.835606 134.098308 \nL 254.445554 133.809753 \nL 255.055501 133.736874 \nL 255.665448 133.451312 \nL 256.885342 133.309212 \nL 257.495289 133.027716 \nL 259.325131 132.821226 \nL 259.935078 132.961746 \nL 260.545025 132.893549 \nL 261.154972 133.032965 \nL 262.984814 132.830243 \nL 263.594761 132.558847 \nL 264.204708 132.697159 \nL 264.814655 133.038015 \nL 265.424603 133.174031 \nL 267.254444 132.974301 \nL 267.864391 133.108876 \nL 269.694233 132.912109 \nL 270.30418 133.243222 \nL 270.914127 132.980246 \nL 271.524074 133.112415 \nL 272.134021 133.047588 \nL 272.743969 133.178783 \nL 273.353916 133.504289 \nL 274.57381 133.37386 \nL 275.183757 133.115835 \nL 275.793704 133.437762 \nL 276.403652 133.373303 \nL 277.013599 133.692636 \nL 277.623546 133.818969 \nL 278.233493 133.56337 \nL 278.84344 133.499288 \nL 280.063335 133.750195 \nL 280.673282 133.497678 \nL 281.283229 133.434501 \nL 281.893176 133.18428 \nL 282.503123 133.122336 \nL 283.723018 133.371156 \nL 284.332965 132.938582 \nL 286.162806 133.309212 \nL 286.772753 133.248123 \nL 287.382701 132.821803 \nL 288.602595 133.066834 \nL 289.212542 132.825779 \nL 289.822489 132.766818 \nL 290.432436 132.347566 \nL 291.042384 132.290215 \nL 292.262278 132.534163 \nL 292.872225 132.833533 \nL 293.482172 132.597598 \nL 294.702067 132.837321 \nL 297.141855 131.908381 \nL 298.36175 132.147955 \nL 298.971697 132.09306 \nL 299.581644 132.211748 \nL 300.191591 131.984144 \nL 300.801538 132.102494 \nL 301.411485 132.392172 \nL 302.021433 132.16586 \nL 302.63138 132.282838 \nL 303.241327 132.228589 \nL 303.851274 132.344802 \nL 304.461221 132.290672 \nL 305.071168 132.575469 \nL 305.681116 132.689922 \nL 306.291063 132.466861 \nL 307.510957 132.359346 \nL 308.120904 132.13878 \nL 309.340799 132.366454 \nL 310.560693 132.260769 \nL 311.17064 132.373453 \nL 311.780587 132.320854 \nL 312.390534 132.104194 \nL 313.000482 132.216431 \nL 313.610429 132.164607 \nL 314.220376 132.276148 \nL 314.830323 132.061705 \nL 315.44027 132.010637 \nL 316.050217 132.12174 \nL 316.660165 131.747701 \nL 317.270112 131.858894 \nL 317.880059 131.80881 \nL 318.490006 131.919327 \nL 319.099953 131.549363 \nL 319.7099 131.819576 \nL 320.319848 131.61083 \nL 320.929795 131.72077 \nL 321.539742 131.354794 \nL 322.149689 131.306728 \nL 322.759636 131.574326 \nL 323.369583 131.525962 \nL 323.979531 131.320864 \nL 324.589478 131.429929 \nL 325.199425 131.694734 \nL 325.809372 131.646549 \nL 326.419319 131.13205 \nL 327.639214 130.72938 \nL 328.249161 130.992733 \nL 329.469055 130.593493 \nL 330.079002 130.548609 \nL 330.688949 130.656958 \nL 331.298897 130.612133 \nL 332.518791 131.130986 \nL 333.128738 131.085396 \nL 333.738685 130.888728 \nL 334.95858 131.100457 \nL 335.568527 131.055343 \nL 336.178474 131.310277 \nL 337.398368 131.518218 \nL 338.008315 131.323667 \nL 338.618263 131.575728 \nL 339.22821 131.678411 \nL 339.838157 131.484795 \nL 340.448104 131.58723 \nL 341.058051 131.247398 \nL 341.667998 131.202951 \nL 342.277946 131.451959 \nL 342.887893 131.407263 \nL 343.49784 131.070802 \nL 344.107787 131.172799 \nL 344.717734 131.128998 \nL 345.327681 131.230429 \nL 346.547576 131.143154 \nL 347.157523 131.387987 \nL 347.76747 131.487986 \nL 348.377417 131.73102 \nL 348.987365 131.400354 \nL 349.597312 131.356831 \nL 350.817206 131.554821 \nL 351.427153 131.511239 \nL 352.0371 131.326193 \nL 353.256995 131.804734 \nL 353.866942 131.901731 \nL 355.086836 131.814208 \nL 355.696783 131.910588 \nL 356.306731 131.727421 \nL 356.916678 131.823573 \nL 357.526625 131.780338 \nL 358.136572 131.459882 \nL 358.746519 131.27917 \nL 359.356466 131.237338 \nL 359.966414 131.057829 \nL 360.576361 131.154179 \nL 361.186308 131.112854 \nL 361.796255 131.208687 \nL 362.406202 131.030709 \nL 363.016149 130.9899 \nL 363.626097 130.67694 \nL 364.236044 130.90876 \nL 365.455938 130.557635 \nL 366.065885 130.65324 \nL 367.28578 130.574277 \nL 367.895727 130.803502 \nL 368.505674 130.763876 \nL 369.725568 130.951964 \nL 369.725568 130.951964 \n\" style=\"fill:none;stroke:#d62728;stroke-linecap:square;stroke-width:1.5;\"/>\n   </g>\n   <g id=\"line2d_19\">\n    <path clip-path=\"url(#pc002ec21ab)\" d=\"M 65.361932 111.071032 \nL 65.971879 177.785576 \nL 67.80172 177.785576 \nL 68.411668 155.547392 \nL 69.021615 158.724274 \nL 69.631562 169.446261 \nL 70.241509 162.960123 \nL 70.851456 151.09976 \nL 71.461403 153.525741 \nL 72.071351 149.987852 \nL 72.681298 152.126133 \nL 73.901192 137.756854 \nL 74.511139 136.088992 \nL 75.121086 122.844186 \nL 75.731034 125.896485 \nL 76.950928 117.74249 \nL 77.560875 120.60168 \nL 78.780769 113.971668 \nL 79.390717 116.630582 \nL 80.610611 116.20292 \nL 81.220558 118.483759 \nL 82.440452 113.371535 \nL 83.660347 113.223112 \nL 84.270294 115.240697 \nL 84.880241 111.071032 \nL 85.490188 109.10884 \nL 86.100135 111.071032 \nL 87.32003 107.464847 \nL 87.929977 107.559746 \nL 89.149871 114.406766 \nL 89.759819 114.325407 \nL 90.369766 117.424798 \nL 90.979713 115.725541 \nL 91.58966 118.652233 \nL 93.419502 118.168323 \nL 94.029449 120.800237 \nL 94.639396 117.878645 \nL 95.249343 116.408196 \nL 96.469237 121.334807 \nL 97.079185 121.141152 \nL 98.299079 118.348985 \nL 98.909026 118.219023 \nL 99.518973 116.923182 \nL 100.12892 114.521786 \nL 100.738868 116.724805 \nL 101.348815 115.518674 \nL 101.958762 112.164718 \nL 102.568709 111.071032 \nL 103.178656 111.071032 \nL 103.788603 112.113451 \nL 104.398551 114.150163 \nL 105.008498 112.081857 \nL 105.618445 112.066777 \nL 106.228392 114.014325 \nL 106.838339 114.938543 \nL 107.448286 114.883289 \nL 108.058234 113.889961 \nL 108.668181 113.850802 \nL 109.278128 111.98493 \nL 109.888075 112.874135 \nL 111.107969 116.337971 \nL 112.327864 117.913549 \nL 112.937811 116.982452 \nL 113.547758 116.908559 \nL 114.157705 116.012853 \nL 114.767652 116.76618 \nL 115.3776 116.697566 \nL 115.987547 115.836356 \nL 119.037283 119.316656 \nL 119.64723 118.483759 \nL 120.257177 118.4023 \nL 120.867124 119.772929 \nL 121.477071 119.679362 \nL 122.087018 120.297518 \nL 122.696966 120.200392 \nL 123.306913 120.800237 \nL 123.91686 119.32438 \nL 124.526807 119.240158 \nL 125.136754 119.831532 \nL 126.356649 118.336976 \nL 128.18649 120.05184 \nL 128.796437 119.966306 \nL 129.406384 121.141152 \nL 130.016332 121.670543 \nL 130.626279 121.572393 \nL 132.45612 123.091673 \nL 133.066067 122.984348 \nL 133.676015 122.28852 \nL 134.285962 122.190122 \nL 134.895909 122.673564 \nL 135.505856 122.573546 \nL 136.72575 124.640091 \nL 137.335698 125.086692 \nL 137.945645 123.857984 \nL 138.555592 123.752308 \nL 139.165539 124.742049 \nL 139.775486 124.630905 \nL 140.385433 123.983522 \nL 141.605328 124.837524 \nL 142.215275 125.779755 \nL 143.435169 126.58604 \nL 144.045116 127.493078 \nL 144.655064 126.858449 \nL 145.265011 127.749672 \nL 145.874958 127.624263 \nL 146.484905 127.002866 \nL 147.094852 126.884853 \nL 147.704799 126.27803 \nL 148.314747 125.193093 \nL 149.534641 124.989894 \nL 150.144588 125.367005 \nL 150.754535 123.846164 \nL 151.364482 124.226019 \nL 151.97443 123.66749 \nL 153.194324 124.413938 \nL 153.804271 125.236446 \nL 154.414218 125.593923 \nL 155.024165 126.397345 \nL 155.634113 126.742236 \nL 156.24406 127.527286 \nL 156.854007 127.860129 \nL 157.463954 127.310756 \nL 158.073901 126.332528 \nL 158.683848 126.666643 \nL 159.903743 125.61138 \nL 161.123637 125.427328 \nL 161.733584 126.176212 \nL 162.343531 124.830913 \nL 163.563426 125.484669 \nL 164.173373 125.396242 \nL 164.78332 125.715694 \nL 165.393267 126.435599 \nL 166.003214 126.74493 \nL 166.613162 126.651075 \nL 167.223109 126.955446 \nL 167.833056 126.861462 \nL 168.443003 127.161011 \nL 169.05295 126.676773 \nL 169.662897 126.58604 \nL 170.272845 126.110729 \nL 172.102686 125.854374 \nL 172.712633 126.14777 \nL 173.32258 126.063071 \nL 173.932528 125.233901 \nL 174.542475 125.525856 \nL 175.152422 126.183171 \nL 175.762369 126.100132 \nL 176.372316 125.653452 \nL 176.982263 125.5742 \nL 177.592211 126.217041 \nL 178.202158 126.494292 \nL 178.812105 126.411809 \nL 179.422052 126.685074 \nL 180.031999 126.602462 \nL 180.641946 126.87185 \nL 181.861841 126.012311 \nL 182.471788 126.626242 \nL 183.081735 126.546056 \nL 183.691682 126.124567 \nL 184.911577 125.97174 \nL 185.521524 126.233434 \nL 186.131471 126.827731 \nL 186.741418 126.748957 \nL 187.351365 126.339039 \nL 187.961312 126.923992 \nL 189.181207 126.114507 \nL 191.011048 125.896485 \nL 191.620995 126.466695 \nL 192.230943 126.39303 \nL 192.84089 126.637764 \nL 193.450837 126.247799 \nL 195.280678 126.035046 \nL 195.890626 126.275744 \nL 196.500573 126.20535 \nL 197.11052 126.443045 \nL 197.720467 126.984594 \nL 198.330414 126.911933 \nL 198.940361 127.143177 \nL 199.550309 126.768571 \nL 200.160256 127.298896 \nL 200.770203 126.926955 \nL 201.38015 127.451832 \nL 201.990097 127.082525 \nL 202.600044 126.421283 \nL 203.209992 126.941459 \nL 203.819939 127.164451 \nL 204.429886 127.094176 \nL 205.039833 127.314573 \nL 206.259727 127.174541 \nL 206.869675 127.391757 \nL 207.479622 127.892219 \nL 208.089569 127.820642 \nL 208.699516 128.032361 \nL 209.309463 128.523786 \nL 209.91941 128.170137 \nL 211.139305 128.583603 \nL 211.749252 128.234109 \nL 212.969146 128.641938 \nL 213.579093 128.29651 \nL 214.189041 128.770806 \nL 214.798988 128.970059 \nL 215.408935 128.627493 \nL 216.018882 128.556702 \nL 216.628829 128.21855 \nL 217.238776 128.149956 \nL 217.848724 128.613506 \nL 218.458671 128.279152 \nL 219.068618 128.738517 \nL 219.678565 128.406311 \nL 220.288512 128.599956 \nL 220.898459 128.531481 \nL 221.508407 128.723128 \nL 222.118354 128.654713 \nL 223.338248 129.032639 \nL 225.16809 128.82776 \nL 225.778037 128.002378 \nL 226.387984 127.434982 \nL 226.997931 127.373455 \nL 227.607878 127.812133 \nL 228.827773 128.183687 \nL 229.43772 127.626122 \nL 230.047667 127.565033 \nL 230.657614 127.749672 \nL 231.267561 127.688573 \nL 232.487456 128.052919 \nL 233.097403 127.749672 \nL 234.317297 128.109644 \nL 234.927244 128.526808 \nL 235.537191 128.464467 \nL 236.147139 128.63999 \nL 236.757086 128.577688 \nL 237.97698 128.92422 \nL 238.586927 128.86158 \nL 239.196874 128.332835 \nL 241.026716 128.153654 \nL 241.636663 127.864692 \nL 242.24661 128.036248 \nL 242.856557 127.978141 \nL 244.076452 128.316969 \nL 244.686399 127.580054 \nL 245.296346 127.298896 \nL 245.906293 127.468881 \nL 246.51624 127.86161 \nL 247.736135 128.194433 \nL 248.346082 127.915899 \nL 248.956029 127.860129 \nL 249.565976 128.024895 \nL 251.395818 127.858678 \nL 252.005765 128.021306 \nL 252.615712 127.749672 \nL 253.225659 127.911595 \nL 254.445554 127.803295 \nL 255.055501 127.963498 \nL 255.665448 127.909527 \nL 256.885342 128.226205 \nL 257.495289 127.960794 \nL 258.715184 128.274152 \nL 259.325131 128.220231 \nL 260.545025 128.529045 \nL 261.154972 128.474826 \nL 261.76492 128.834043 \nL 262.984814 128.314175 \nL 263.594761 128.261288 \nL 264.204708 128.004694 \nL 264.814655 128.359865 \nL 266.03455 128.255085 \nL 266.644497 128.001613 \nL 267.254444 128.151566 \nL 267.864391 127.899924 \nL 268.474338 127.849542 \nL 269.084286 127.9986 \nL 270.30418 127.502214 \nL 271.524074 127.405277 \nL 272.134021 127.161011 \nL 272.743969 127.309474 \nL 273.353916 127.066917 \nL 273.963863 127.409294 \nL 274.57381 127.167861 \nL 275.183757 127.314573 \nL 275.793704 126.88199 \nL 276.403652 126.83643 \nL 277.013599 126.59942 \nL 277.623546 126.746084 \nL 278.84344 126.656771 \nL 279.453387 126.422963 \nL 280.673282 127.09006 \nL 281.283229 127.232866 \nL 281.893176 127.187465 \nL 283.11307 127.470144 \nL 284.332965 128.120311 \nL 284.942912 128.257888 \nL 286.162806 127.79562 \nL 286.772753 127.749672 \nL 287.992648 128.387651 \nL 288.602595 128.522245 \nL 289.212542 128.474826 \nL 290.432436 129.101989 \nL 291.042384 128.873569 \nL 291.652331 128.825712 \nL 292.262278 128.59925 \nL 292.872225 128.552387 \nL 294.092119 128.814259 \nL 294.702067 129.121126 \nL 295.312014 129.073368 \nL 295.921961 129.201898 \nL 296.531908 128.978618 \nL 297.141855 128.931616 \nL 297.751802 129.234158 \nL 298.36175 129.186728 \nL 299.581644 128.746053 \nL 300.191591 128.873102 \nL 300.801538 128.827104 \nL 302.021433 128.392801 \nL 303.241327 128.304204 \nL 304.461221 128.556016 \nL 305.071168 128.511638 \nL 305.681116 128.298587 \nL 306.291063 128.423559 \nL 307.510957 129.006851 \nL 308.730851 129.25075 \nL 309.340799 129.538151 \nL 311.17064 129.896423 \nL 311.780587 129.849938 \nL 312.390534 129.96801 \nL 313.610429 130.529442 \nL 314.830323 130.109086 \nL 316.050217 130.340528 \nL 316.660165 129.970794 \nL 317.270112 130.086291 \nL 317.880059 129.879712 \nL 318.490006 129.834499 \nL 319.099953 129.94949 \nL 320.319848 129.859382 \nL 322.149689 130.200088 \nL 322.759636 129.997148 \nL 323.369583 129.952512 \nL 323.979531 130.065057 \nL 324.589478 130.02047 \nL 325.199425 130.132329 \nL 325.809372 129.931923 \nL 327.029266 130.154498 \nL 328.249161 130.06615 \nL 328.859108 130.330428 \nL 329.469055 130.439772 \nL 330.079002 130.395245 \nL 330.688949 130.197911 \nL 331.298897 130.306808 \nL 331.908844 130.262887 \nL 333.128738 129.872405 \nL 333.738685 129.981053 \nL 334.95858 129.895678 \nL 336.178474 130.110916 \nL 336.788421 130.068228 \nL 337.398368 129.876471 \nL 338.008315 130.132329 \nL 338.618263 130.08988 \nL 339.838157 130.597241 \nL 340.448104 130.701644 \nL 341.058051 130.952849 \nL 341.667998 131.056009 \nL 342.277946 131.012089 \nL 342.887893 131.114653 \nL 344.107787 131.02713 \nL 344.717734 131.274349 \nL 345.327681 131.230429 \nL 345.937629 131.331412 \nL 346.547576 131.143154 \nL 347.157523 130.811624 \nL 347.76747 131.056636 \nL 350.817206 131.554821 \nL 351.427153 131.795131 \nL 352.0371 131.609478 \nL 353.866942 131.479486 \nL 355.086836 131.674056 \nL 355.696783 131.490998 \nL 356.306731 131.448281 \nL 356.916678 131.266456 \nL 357.526625 131.502361 \nL 358.136572 131.459882 \nL 359.356466 131.651709 \nL 361.186308 131.524669 \nL 363.016149 131.808482 \nL 364.236044 131.724011 \nL 364.845991 131.410832 \nL 365.455938 131.369576 \nL 366.675832 131.557118 \nL 367.28578 131.381307 \nL 367.895727 131.608912 \nL 368.505674 131.567675 \nL 369.115621 131.793988 \nL 369.725568 131.619111 \nL 369.725568 131.619111 \n\" style=\"fill:none;stroke:#9467bd;stroke-linecap:square;stroke-width:1.5;\"/>\n   </g>\n   <g id=\"line2d_20\">\n    <path clip-path=\"url(#pc002ec21ab)\" d=\"M 65.361932 111.071032 \nL 65.971879 111.071032 \nL 66.581826 155.547392 \nL 67.191773 144.428302 \nL 67.80172 124.413938 \nL 68.411668 133.309212 \nL 69.021615 149.193626 \nL 69.631562 136.088992 \nL 70.241509 133.309212 \nL 70.851456 144.428302 \nL 71.461403 141.395825 \nL 72.071351 149.987852 \nL 72.681298 152.126133 \nL 73.901192 164.442671 \nL 74.511139 165.276602 \nL 75.121086 162.088038 \nL 75.731034 155.547392 \nL 76.340981 156.717824 \nL 76.950928 161.106942 \nL 77.560875 155.547392 \nL 78.170822 153.525741 \nL 79.390717 155.547392 \nL 80.000664 159.105501 \nL 80.610611 154.692077 \nL 81.220558 148.134665 \nL 81.830505 146.810969 \nL 83.0504 148.875944 \nL 83.660347 147.656432 \nL 84.270294 148.597967 \nL 84.880241 147.460788 \nL 85.490188 142.466109 \nL 87.32003 139.920565 \nL 87.929977 135.650076 \nL 88.539924 136.73047 \nL 89.149871 139.424716 \nL 89.759819 138.733163 \nL 90.369766 134.897653 \nL 90.979713 134.343548 \nL 91.58966 132.298386 \nL 92.199607 131.826674 \nL 92.809554 129.925144 \nL 93.419502 129.523995 \nL 94.029449 131.919327 \nL 95.249343 131.085396 \nL 95.85929 133.309212 \nL 97.079185 134.987572 \nL 98.299079 138.969844 \nL 98.909026 139.662977 \nL 100.12892 138.677055 \nL 101.348815 135.533038 \nL 101.958762 136.225694 \nL 102.568709 135.819982 \nL 103.178656 134.368173 \nL 104.398551 135.704097 \nL 105.008498 135.330873 \nL 105.618445 136.960262 \nL 106.228392 136.579532 \nL 106.838339 135.242972 \nL 108.668181 139.795355 \nL 109.278128 140.315769 \nL 109.888075 141.723658 \nL 110.498022 142.204486 \nL 111.107969 140.917015 \nL 111.717917 138.796558 \nL 112.327864 137.585785 \nL 112.937811 138.094647 \nL 114.157705 137.427401 \nL 114.767652 136.29239 \nL 115.3776 135.988516 \nL 117.207441 137.446548 \nL 117.817388 138.677055 \nL 118.427335 137.60523 \nL 119.037283 138.806291 \nL 120.257177 138.196724 \nL 120.867124 137.176723 \nL 121.477071 137.613382 \nL 122.087018 135.911551 \nL 122.696966 135.650076 \nL 123.306913 134.699097 \nL 123.91686 135.143291 \nL 124.526807 134.216897 \nL 125.136754 133.983099 \nL 125.746701 133.086836 \nL 126.966596 135.271404 \nL 127.576543 135.684164 \nL 128.18649 136.73047 \nL 128.796437 137.121479 \nL 129.406384 136.875712 \nL 130.016332 137.258052 \nL 130.626279 136.397856 \nL 131.236226 137.389614 \nL 133.676015 136.457981 \nL 134.285962 135.650076 \nL 134.895909 136.596601 \nL 135.505856 135.801421 \nL 136.115803 135.590051 \nL 137.335698 136.299219 \nL 137.945645 137.2009 \nL 138.555592 136.984946 \nL 139.165539 136.225694 \nL 139.775486 136.563587 \nL 141.605328 135.956614 \nL 142.215275 136.285977 \nL 143.435169 135.895048 \nL 144.045116 136.217283 \nL 145.265011 135.836285 \nL 145.874958 136.151691 \nL 146.484905 135.964517 \nL 148.314747 136.880315 \nL 148.924694 137.660165 \nL 149.534641 137.468876 \nL 150.754535 138.040746 \nL 151.364482 136.911172 \nL 151.97443 136.73047 \nL 153.194324 137.296753 \nL 153.804271 136.660176 \nL 154.414218 136.486095 \nL 155.024165 136.765145 \nL 155.634113 137.488202 \nL 156.854007 136.254672 \nL 157.463954 136.966813 \nL 158.073901 137.233596 \nL 158.683848 137.063711 \nL 159.293796 137.326438 \nL 159.903743 137.158133 \nL 160.51369 137.416903 \nL 162.343531 136.922923 \nL 162.953479 137.591103 \nL 163.563426 137.839217 \nL 164.173373 137.674998 \nL 164.78332 137.919572 \nL 165.393267 138.565514 \nL 166.003214 137.596094 \nL 166.613162 138.23624 \nL 167.223109 138.471649 \nL 167.833056 139.099041 \nL 168.443003 138.541725 \nL 169.05295 138.381084 \nL 169.662897 137.834425 \nL 170.272845 137.67973 \nL 170.882792 137.910217 \nL 171.492739 137.756854 \nL 172.102686 136.847111 \nL 172.712633 136.324559 \nL 173.32258 136.182688 \nL 173.932528 136.415104 \nL 174.542475 137.015575 \nL 175.152422 136.503651 \nL 176.982263 136.088992 \nL 180.031999 137.192072 \nL 180.641946 136.70346 \nL 181.251894 136.918549 \nL 181.861841 136.783934 \nL 182.471788 136.996379 \nL 183.081735 137.550513 \nL 183.691682 137.414726 \nL 184.301629 137.961077 \nL 184.911577 137.485925 \nL 185.521524 137.689462 \nL 186.131471 137.555703 \nL 186.741418 138.090422 \nL 187.351365 137.29217 \nL 187.961312 137.162367 \nL 188.57126 137.691122 \nL 189.181207 137.233596 \nL 189.791154 137.105981 \nL 190.401101 137.303454 \nL 191.011048 137.176723 \nL 191.620995 137.371959 \nL 192.230943 136.926909 \nL 192.84089 137.121479 \nL 193.450837 137.630381 \nL 194.060784 136.875712 \nL 194.670731 137.380995 \nL 195.280678 136.634547 \nL 195.890626 136.51565 \nL 196.500573 136.088992 \nL 197.11052 135.973693 \nL 197.720467 135.553437 \nL 199.550309 136.126719 \nL 200.160256 136.013856 \nL 200.770203 136.201179 \nL 201.38015 136.684651 \nL 201.990097 136.570814 \nL 203.209992 137.521733 \nL 203.819939 137.405719 \nL 204.429886 137.873385 \nL 205.039833 138.046919 \nL 205.64978 138.507755 \nL 206.869675 138.844903 \nL 207.479622 139.296414 \nL 208.089569 138.892422 \nL 208.699516 139.057218 \nL 209.309463 138.65764 \nL 210.529358 138.985064 \nL 211.749252 139.860709 \nL 212.359199 139.466071 \nL 212.969146 139.349212 \nL 214.798988 138.190769 \nL 216.018882 137.972062 \nL 216.628829 138.399883 \nL 217.848724 138.713718 \nL 218.458671 138.074536 \nL 219.068618 137.704115 \nL 219.678565 137.861913 \nL 220.288512 137.49523 \nL 220.898459 137.65261 \nL 221.508407 137.289586 \nL 222.118354 137.705139 \nL 222.728301 136.829545 \nL 223.338248 136.73047 \nL 223.948195 136.88777 \nL 224.558142 136.789233 \nL 225.16809 136.945112 \nL 225.778037 137.352524 \nL 226.387984 137.25335 \nL 226.997931 137.405719 \nL 227.607878 137.307092 \nL 229.43772 137.756854 \nL 230.047667 137.658376 \nL 230.657614 136.824813 \nL 231.267561 136.73047 \nL 231.877508 137.123795 \nL 232.487456 137.271652 \nL 233.70735 137.08248 \nL 236.147139 137.661885 \nL 236.757086 138.040746 \nL 237.97698 138.320631 \nL 238.586927 138.225027 \nL 239.806822 138.500707 \nL 241.026716 138.310879 \nL 241.636663 137.986904 \nL 242.24661 138.352931 \nL 242.856557 138.259493 \nL 243.466505 138.62209 \nL 244.076452 138.528384 \nL 244.686399 138.661457 \nL 245.906293 138.475665 \nL 247.126188 137.846106 \nL 247.736135 138.201615 \nL 248.346082 138.111478 \nL 248.956029 138.242851 \nL 249.565976 137.932993 \nL 250.785871 138.194328 \nL 251.395818 137.887661 \nL 252.615712 138.579949 \nL 253.225659 138.706829 \nL 253.835606 139.048102 \nL 255.055501 139.296414 \nL 256.275395 139.966503 \nL 256.885342 140.086564 \nL 258.105237 139.903506 \nL 258.715184 140.022632 \nL 259.325131 139.931868 \nL 259.935078 140.050159 \nL 260.545025 139.752051 \nL 261.76492 139.987559 \nL 262.374867 140.310122 \nL 264.204708 140.65394 \nL 264.814655 140.156948 \nL 265.424603 140.06854 \nL 266.644497 140.296433 \nL 267.254444 140.610308 \nL 268.474338 140.832912 \nL 269.084286 141.142363 \nL 269.694233 141.251419 \nL 270.914127 141.072844 \nL 272.134021 141.288798 \nL 272.743969 141.591469 \nL 273.353916 141.502226 \nL 273.963863 141.21901 \nL 274.57381 141.325302 \nL 275.183757 141.044233 \nL 275.793704 141.150426 \nL 276.403652 140.679221 \nL 277.013599 140.785841 \nL 278.233493 141.378498 \nL 279.453387 141.585355 \nL 280.063335 141.876902 \nL 281.283229 142.079206 \nL 281.893176 141.992101 \nL 284.332965 142.38981 \nL 284.942912 142.672659 \nL 285.552859 142.769655 \nL 286.162806 143.049909 \nL 286.772753 143.145335 \nL 287.382701 143.423014 \nL 287.992648 142.787788 \nL 288.602595 142.519583 \nL 289.212542 142.434118 \nL 289.822489 142.168329 \nL 290.432436 142.26459 \nL 291.652331 142.096882 \nL 293.482172 142.91611 \nL 294.092119 142.83141 \nL 294.702067 143.101096 \nL 295.312014 143.016357 \nL 295.921961 143.284124 \nL 297.141855 143.465234 \nL 297.751802 143.729721 \nL 298.36175 143.470264 \nL 298.971697 143.733359 \nL 300.191591 143.564129 \nL 302.021433 143.82805 \nL 302.63138 143.572987 \nL 303.241327 143.66049 \nL 303.851274 143.577351 \nL 304.461221 143.664397 \nL 305.071168 143.581676 \nL 306.291063 144.091363 \nL 306.90101 144.176232 \nL 308.120904 143.675889 \nL 308.730851 143.594371 \nL 309.340799 143.679637 \nL 309.950746 143.598526 \nL 310.560693 143.683355 \nL 311.17064 143.437498 \nL 312.390534 143.606698 \nL 313.000482 143.52676 \nL 314.220376 143.69428 \nL 314.830323 143.61471 \nL 315.44027 143.697859 \nL 316.050217 143.294801 \nL 316.660165 143.378318 \nL 318.490006 142.664218 \nL 319.7099 142.832265 \nL 320.319848 143.074911 \nL 322.149689 143.321663 \nL 322.759636 143.087705 \nL 323.369583 143.326882 \nL 324.589478 143.488665 \nL 325.199425 142.944025 \nL 325.809372 142.869555 \nL 326.419319 143.106455 \nL 327.029266 143.187108 \nL 327.639214 143.422169 \nL 328.249161 143.501718 \nL 328.859108 143.272742 \nL 329.469055 142.891107 \nL 330.079002 142.971323 \nL 331.908844 142.752825 \nL 332.518791 142.376718 \nL 333.128738 142.305568 \nL 333.738685 142.386023 \nL 334.348632 142.315171 \nL 334.95858 141.943449 \nL 335.568527 141.87392 \nL 336.178474 141.654775 \nL 336.788421 141.885372 \nL 337.398368 141.667191 \nL 338.008315 141.896725 \nL 338.618263 141.828071 \nL 339.22821 141.611471 \nL 340.448104 142.06673 \nL 341.058051 141.703765 \nL 342.277946 141.275864 \nL 342.887893 141.209626 \nL 343.49784 141.289653 \nL 344.717734 141.157981 \nL 345.327681 141.382643 \nL 345.937629 141.172177 \nL 347.157523 141.618509 \nL 347.76747 141.265118 \nL 348.377417 141.05671 \nL 348.987365 141.135524 \nL 349.597312 140.928289 \nL 350.207259 140.864496 \nL 351.427153 140.453823 \nL 352.0371 140.674727 \nL 352.647048 140.612008 \nL 353.866942 140.768861 \nL 354.476889 140.425431 \nL 355.086836 140.363765 \nL 355.696783 140.582075 \nL 356.916678 140.1803 \nL 357.526625 140.258647 \nL 358.136572 140.059265 \nL 361.186308 140.447401 \nL 361.796255 140.387078 \nL 362.406202 140.600427 \nL 363.016149 140.4036 \nL 363.626097 140.616044 \nL 364.236044 140.420003 \nL 364.845991 140.360346 \nL 365.455938 140.436257 \nL 366.065885 140.376818 \nL 366.675832 140.048061 \nL 367.28578 140.124142 \nL 367.895727 139.662977 \nL 368.505674 139.605567 \nL 369.115621 139.147295 \nL 369.725568 139.224569 \nL 369.725568 139.224569 \n\" style=\"fill:none;stroke:#8c564b;stroke-linecap:square;stroke-width:1.5;\"/>\n   </g>\n   <g id=\"line2d_21\">\n    <path clip-path=\"url(#pc002ec21ab)\" d=\"M 50.14375 133.309215 \nL 384.94375 133.309215 \n\" style=\"fill:none;stroke:#000000;stroke-dasharray:5.55,2.4;stroke-dashoffset:0;stroke-width:1.5;\"/>\n   </g>\n   <g id=\"patch_3\">\n    <path d=\"M 50.14375 255.619212 \nL 50.14375 10.999212 \n\" style=\"fill:none;stroke:#000000;stroke-linecap:square;stroke-linejoin:miter;stroke-width:0.8;\"/>\n   </g>\n   <g id=\"patch_4\">\n    <path d=\"M 384.94375 255.619212 \nL 384.94375 10.999212 \n\" style=\"fill:none;stroke:#000000;stroke-linecap:square;stroke-linejoin:miter;stroke-width:0.8;\"/>\n   </g>\n   <g id=\"patch_5\">\n    <path d=\"M 50.14375 255.619212 \nL 384.94375 255.619212 \n\" style=\"fill:none;stroke:#000000;stroke-linecap:square;stroke-linejoin:miter;stroke-width:0.8;\"/>\n   </g>\n   <g id=\"patch_6\">\n    <path d=\"M 50.14375 10.999212 \nL 384.94375 10.999212 \n\" style=\"fill:none;stroke:#000000;stroke-linecap:square;stroke-linejoin:miter;stroke-width:0.8;\"/>\n   </g>\n   <g id=\"legend_1\">\n    <g id=\"patch_7\">\n     <path d=\"M 302.089063 107.067962 \nL 377.94375 107.067962 \nQ 379.94375 107.067962 379.94375 105.067962 \nL 379.94375 17.999212 \nQ 379.94375 15.999212 377.94375 15.999212 \nL 302.089063 15.999212 \nQ 300.089063 15.999212 300.089063 17.999212 \nL 300.089063 105.067962 \nQ 300.089063 107.067962 302.089063 107.067962 \nz\n\" style=\"fill:#ffffff;opacity:0.8;stroke:#cccccc;stroke-linejoin:miter;\"/>\n    </g>\n    <g id=\"line2d_22\">\n     <path d=\"M 304.089063 24.097649 \nL 324.089063 24.097649 \n\" style=\"fill:none;stroke:#1f77b4;stroke-linecap:square;stroke-width:1.5;\"/>\n    </g>\n    <g id=\"line2d_23\"/>\n    <g id=\"text_17\">\n     <!-- P(die=1) -->\n     <g transform=\"translate(332.089063 27.597649)scale(0.1 -0.1)\">\n      <defs>\n       <path d=\"M 1259 4147 \nL 1259 2394 \nL 2053 2394 \nQ 2494 2394 2734 2622 \nQ 2975 2850 2975 3272 \nQ 2975 3691 2734 3919 \nQ 2494 4147 2053 4147 \nL 1259 4147 \nz\nM 628 4666 \nL 2053 4666 \nQ 2838 4666 3239 4311 \nQ 3641 3956 3641 3272 \nQ 3641 2581 3239 2228 \nQ 2838 1875 2053 1875 \nL 1259 1875 \nL 1259 0 \nL 628 0 \nL 628 4666 \nz\n\" id=\"DejaVuSans-50\" transform=\"scale(0.015625)\"/>\n       <path d=\"M 1984 4856 \nQ 1566 4138 1362 3434 \nQ 1159 2731 1159 2009 \nQ 1159 1288 1364 580 \nQ 1569 -128 1984 -844 \nL 1484 -844 \nQ 1016 -109 783 600 \nQ 550 1309 550 2009 \nQ 550 2706 781 3412 \nQ 1013 4119 1484 4856 \nL 1984 4856 \nz\n\" id=\"DejaVuSans-28\" transform=\"scale(0.015625)\"/>\n       <path d=\"M 678 2906 \nL 4684 2906 \nL 4684 2381 \nL 678 2381 \nL 678 2906 \nz\nM 678 1631 \nL 4684 1631 \nL 4684 1100 \nL 678 1100 \nL 678 1631 \nz\n\" id=\"DejaVuSans-3d\" transform=\"scale(0.015625)\"/>\n       <path d=\"M 513 4856 \nL 1013 4856 \nQ 1481 4119 1714 3412 \nQ 1947 2706 1947 2009 \nQ 1947 1309 1714 600 \nQ 1481 -109 1013 -844 \nL 513 -844 \nQ 928 -128 1133 580 \nQ 1338 1288 1338 2009 \nQ 1338 2731 1133 3434 \nQ 928 4138 513 4856 \nz\n\" id=\"DejaVuSans-29\" transform=\"scale(0.015625)\"/>\n      </defs>\n      <use xlink:href=\"#DejaVuSans-50\"/>\n      <use x=\"60.302734\" xlink:href=\"#DejaVuSans-28\"/>\n      <use x=\"99.316406\" xlink:href=\"#DejaVuSans-64\"/>\n      <use x=\"162.792969\" xlink:href=\"#DejaVuSans-69\"/>\n      <use x=\"190.576172\" xlink:href=\"#DejaVuSans-65\"/>\n      <use x=\"252.099609\" xlink:href=\"#DejaVuSans-3d\"/>\n      <use x=\"335.888672\" xlink:href=\"#DejaVuSans-31\"/>\n      <use x=\"399.511719\" xlink:href=\"#DejaVuSans-29\"/>\n     </g>\n    </g>\n    <g id=\"line2d_24\">\n     <path d=\"M 304.089063 38.775774 \nL 324.089063 38.775774 \n\" style=\"fill:none;stroke:#ff7f0e;stroke-linecap:square;stroke-width:1.5;\"/>\n    </g>\n    <g id=\"line2d_25\"/>\n    <g id=\"text_18\">\n     <!-- P(die=2) -->\n     <g transform=\"translate(332.089063 42.275774)scale(0.1 -0.1)\">\n      <use xlink:href=\"#DejaVuSans-50\"/>\n      <use x=\"60.302734\" xlink:href=\"#DejaVuSans-28\"/>\n      <use x=\"99.316406\" xlink:href=\"#DejaVuSans-64\"/>\n      <use x=\"162.792969\" xlink:href=\"#DejaVuSans-69\"/>\n      <use x=\"190.576172\" xlink:href=\"#DejaVuSans-65\"/>\n      <use x=\"252.099609\" xlink:href=\"#DejaVuSans-3d\"/>\n      <use x=\"335.888672\" xlink:href=\"#DejaVuSans-32\"/>\n      <use x=\"399.511719\" xlink:href=\"#DejaVuSans-29\"/>\n     </g>\n    </g>\n    <g id=\"line2d_26\">\n     <path d=\"M 304.089063 53.453899 \nL 324.089063 53.453899 \n\" style=\"fill:none;stroke:#2ca02c;stroke-linecap:square;stroke-width:1.5;\"/>\n    </g>\n    <g id=\"line2d_27\"/>\n    <g id=\"text_19\">\n     <!-- P(die=3) -->\n     <g transform=\"translate(332.089063 56.953899)scale(0.1 -0.1)\">\n      <use xlink:href=\"#DejaVuSans-50\"/>\n      <use x=\"60.302734\" xlink:href=\"#DejaVuSans-28\"/>\n      <use x=\"99.316406\" xlink:href=\"#DejaVuSans-64\"/>\n      <use x=\"162.792969\" xlink:href=\"#DejaVuSans-69\"/>\n      <use x=\"190.576172\" xlink:href=\"#DejaVuSans-65\"/>\n      <use x=\"252.099609\" xlink:href=\"#DejaVuSans-3d\"/>\n      <use x=\"335.888672\" xlink:href=\"#DejaVuSans-33\"/>\n      <use x=\"399.511719\" xlink:href=\"#DejaVuSans-29\"/>\n     </g>\n    </g>\n    <g id=\"line2d_28\">\n     <path d=\"M 304.089063 68.132024 \nL 324.089063 68.132024 \n\" style=\"fill:none;stroke:#d62728;stroke-linecap:square;stroke-width:1.5;\"/>\n    </g>\n    <g id=\"line2d_29\"/>\n    <g id=\"text_20\">\n     <!-- P(die=4) -->\n     <g transform=\"translate(332.089063 71.632024)scale(0.1 -0.1)\">\n      <use xlink:href=\"#DejaVuSans-50\"/>\n      <use x=\"60.302734\" xlink:href=\"#DejaVuSans-28\"/>\n      <use x=\"99.316406\" xlink:href=\"#DejaVuSans-64\"/>\n      <use x=\"162.792969\" xlink:href=\"#DejaVuSans-69\"/>\n      <use x=\"190.576172\" xlink:href=\"#DejaVuSans-65\"/>\n      <use x=\"252.099609\" xlink:href=\"#DejaVuSans-3d\"/>\n      <use x=\"335.888672\" xlink:href=\"#DejaVuSans-34\"/>\n      <use x=\"399.511719\" xlink:href=\"#DejaVuSans-29\"/>\n     </g>\n    </g>\n    <g id=\"line2d_30\">\n     <path d=\"M 304.089063 82.810149 \nL 324.089063 82.810149 \n\" style=\"fill:none;stroke:#9467bd;stroke-linecap:square;stroke-width:1.5;\"/>\n    </g>\n    <g id=\"line2d_31\"/>\n    <g id=\"text_21\">\n     <!-- P(die=5) -->\n     <g transform=\"translate(332.089063 86.310149)scale(0.1 -0.1)\">\n      <use xlink:href=\"#DejaVuSans-50\"/>\n      <use x=\"60.302734\" xlink:href=\"#DejaVuSans-28\"/>\n      <use x=\"99.316406\" xlink:href=\"#DejaVuSans-64\"/>\n      <use x=\"162.792969\" xlink:href=\"#DejaVuSans-69\"/>\n      <use x=\"190.576172\" xlink:href=\"#DejaVuSans-65\"/>\n      <use x=\"252.099609\" xlink:href=\"#DejaVuSans-3d\"/>\n      <use x=\"335.888672\" xlink:href=\"#DejaVuSans-35\"/>\n      <use x=\"399.511719\" xlink:href=\"#DejaVuSans-29\"/>\n     </g>\n    </g>\n    <g id=\"line2d_32\">\n     <path d=\"M 304.089063 97.488274 \nL 324.089063 97.488274 \n\" style=\"fill:none;stroke:#8c564b;stroke-linecap:square;stroke-width:1.5;\"/>\n    </g>\n    <g id=\"line2d_33\"/>\n    <g id=\"text_22\">\n     <!-- P(die=6) -->\n     <g transform=\"translate(332.089063 100.988274)scale(0.1 -0.1)\">\n      <defs>\n       <path d=\"M 2113 2584 \nQ 1688 2584 1439 2293 \nQ 1191 2003 1191 1497 \nQ 1191 994 1439 701 \nQ 1688 409 2113 409 \nQ 2538 409 2786 701 \nQ 3034 994 3034 1497 \nQ 3034 2003 2786 2293 \nQ 2538 2584 2113 2584 \nz\nM 3366 4563 \nL 3366 3988 \nQ 3128 4100 2886 4159 \nQ 2644 4219 2406 4219 \nQ 1781 4219 1451 3797 \nQ 1122 3375 1075 2522 \nQ 1259 2794 1537 2939 \nQ 1816 3084 2150 3084 \nQ 2853 3084 3261 2657 \nQ 3669 2231 3669 1497 \nQ 3669 778 3244 343 \nQ 2819 -91 2113 -91 \nQ 1303 -91 875 529 \nQ 447 1150 447 2328 \nQ 447 3434 972 4092 \nQ 1497 4750 2381 4750 \nQ 2619 4750 2861 4703 \nQ 3103 4656 3366 4563 \nz\n\" id=\"DejaVuSans-36\" transform=\"scale(0.015625)\"/>\n      </defs>\n      <use xlink:href=\"#DejaVuSans-50\"/>\n      <use x=\"60.302734\" xlink:href=\"#DejaVuSans-28\"/>\n      <use x=\"99.316406\" xlink:href=\"#DejaVuSans-64\"/>\n      <use x=\"162.792969\" xlink:href=\"#DejaVuSans-69\"/>\n      <use x=\"190.576172\" xlink:href=\"#DejaVuSans-65\"/>\n      <use x=\"252.099609\" xlink:href=\"#DejaVuSans-3d\"/>\n      <use x=\"335.888672\" xlink:href=\"#DejaVuSans-36\"/>\n      <use x=\"399.511719\" xlink:href=\"#DejaVuSans-29\"/>\n     </g>\n    </g>\n   </g>\n  </g>\n </g>\n <defs>\n  <clipPath id=\"pc002ec21ab\">\n   <rect height=\"244.62\" width=\"334.8\" x=\"50.14375\" y=\"10.999212\"/>\n  </clipPath>\n </defs>\n</svg>\n"
     },
     "metadata": {
      "needs_background": "light"
     }
    }
   ],
   "source": [
    "# 500 experiments with 10 samples each. Illustrate the probablility change from 10 samples to 500 * 10 samples using cumsum.\n",
    "counts = multinomial.Multinomial(10, fair_probs).sample((500,))\n",
    "cum_counts = counts.cumsum(dim=0)\n",
    "# keep dim \n",
    "estimates = cum_counts / cum_counts.sum(dim=1, keepdim=True)\n",
    "\n",
    "d2l.set_figsize((6, 4.5))\n",
    "for i in range(6):\n",
    "    d2l.plt.plot(estimates[:, i].numpy(), label=(\"P(die=\" + str(i+1) + \")\"))\n",
    "d2l.plt.axhline(y=1./6, color='black', linestyle='dashed')\n",
    "d2l.plt.gca().set_xlabel('Groups of experiments')\n",
    "d2l.plt.gca().set_ylabel('Estimated probablilities')\n",
    "d2l.plt.legend();"
   ]
  },
  {
   "cell_type": "code",
   "execution_count": null,
   "metadata": {},
   "outputs": [],
   "source": []
  }
 ]
}