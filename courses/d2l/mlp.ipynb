{
 "metadata": {
  "language_info": {
   "codemirror_mode": {
    "name": "ipython",
    "version": 3
   },
   "file_extension": ".py",
   "mimetype": "text/x-python",
   "name": "python",
   "nbconvert_exporter": "python",
   "pygments_lexer": "ipython3",
   "version": "3.9.2"
  },
  "orig_nbformat": 2,
  "kernelspec": {
   "name": "python392jvsc74a57bd0aee8b7b246df8f9039afb4144a1f6fd8d2ca17a180786b69acc140d282b71a49",
   "display_name": "Python 3.9.2 64-bit"
  },
  "metadata": {
   "interpreter": {
    "hash": "aee8b7b246df8f9039afb4144a1f6fd8d2ca17a180786b69acc140d282b71a49"
   }
  }
 },
 "nbformat": 4,
 "nbformat_minor": 2,
 "cells": [
  {
   "cell_type": "code",
   "execution_count": 1,
   "metadata": {},
   "outputs": [],
   "source": [
    "import math\n",
    "import numpy as np\n",
    "import torch\n",
    "from torch import nn\n",
    "from d2l import torch as d2l"
   ]
  },
  {
   "cell_type": "code",
   "execution_count": 2,
   "metadata": {},
   "outputs": [],
   "source": [
    "max_degree = 20\n",
    "n_train, n_test = 100, 100\n",
    "true_w = np.zeros(max_degree)\n",
    "true_w[0:4] = np.array([5, 1.2, -3.4, 5.6])"
   ]
  },
  {
   "cell_type": "code",
   "execution_count": 13,
   "metadata": {},
   "outputs": [],
   "source": [
    "features = np.random.normal(size=(n_train + n_test, 1))\n",
    "np.random.shuffle(features)\n",
    "poly_features = np.power(features, np.arange(max_degree).reshape(1, -1))\n",
    "for i in range(max_degree):\n",
    "    poly_features[:, i] /= math.gamma(i+1)\n",
    "labels = np.dot(poly_features, true_w)\n",
    "labels += np.random.normal(scale=.1, size=labels.shape)"
   ]
  },
  {
   "cell_type": "code",
   "execution_count": 14,
   "metadata": {},
   "outputs": [
    {
     "output_type": "execute_result",
     "data": {
      "text/plain": [
       "(tensor([[-0.5660],\n",
       "         [ 0.4185]]),\n",
       " tensor([[ 1.0000e+00, -5.6600e-01,  1.6018e-01, -3.0220e-02,  4.2762e-03,\n",
       "          -4.8406e-04,  4.5663e-05, -3.6922e-06,  2.6122e-07, -1.6428e-08,\n",
       "           9.2983e-10, -4.7844e-11,  2.2566e-12, -9.8250e-14,  3.9721e-15,\n",
       "          -1.4988e-16,  5.3021e-18, -1.7653e-19,  5.5508e-21, -1.6536e-22],\n",
       "         [ 1.0000e+00,  4.1847e-01,  8.7557e-02,  1.2213e-02,  1.2777e-03,\n",
       "           1.0693e-04,  7.4581e-06,  4.4585e-07,  2.3322e-08,  1.0844e-09,\n",
       "           4.5377e-11,  1.7263e-12,  6.0198e-14,  1.9378e-15,  5.7921e-17,\n",
       "           1.6159e-18,  4.2261e-20,  1.0403e-21,  2.4185e-23,  5.3266e-25]]),\n",
       " tensor([3.6224, 5.4129]))"
      ]
     },
     "metadata": {},
     "execution_count": 14
    }
   ],
   "source": [
    "true_w, features, poly_features, labels = [ torch.tensor(x, dtype=torch.float32) for x in [true_w, features, poly_features, labels]]\n",
    "features[:2], poly_features[:2, :], labels[:2]"
   ]
  },
  {
   "cell_type": "code",
   "execution_count": null,
   "metadata": {},
   "outputs": [],
   "source": []
  },
  {
   "cell_type": "code",
   "execution_count": 2,
   "metadata": {},
   "outputs": [],
   "source": [
    "%matplotlib inline\n",
    "import numpy as np\n",
    "import pandas as pd\n",
    "import torch\n",
    "from torch import nn\n",
    "from d2l import torch as d2l"
   ]
  },
  {
   "cell_type": "code",
   "execution_count": 4,
   "metadata": {},
   "outputs": [],
   "source": [
    "import hashlib\n",
    "import os\n",
    "import tarfile\n",
    "import zipfile\n",
    "import requests\n",
    "\n",
    "#@save\n",
    "DATA_HUB = dict()\n",
    "DATA_URL = 'http://d2l-data.s3-accelerate.amazonaws.com/'"
   ]
  },
  {
   "cell_type": "code",
   "execution_count": 5,
   "metadata": {},
   "outputs": [],
   "source": [
    "def download(name, cache_dir=os.path.join('..', 'data')):  #@save\n",
    "    \"\"\"下载一个DATA_HUB中的文件，返回本地文件名。\"\"\"\n",
    "    assert name in DATA_HUB, f\"{name} 不存在于 {DATA_HUB}.\"\n",
    "    url, sha1_hash = DATA_HUB[name]\n",
    "    os.makedirs(cache_dir, exist_ok=True)\n",
    "    fname = os.path.join(cache_dir, url.split('/')[-1])\n",
    "    if os.path.exists(fname):\n",
    "        sha1 = hashlib.sha1()\n",
    "        with open(fname, 'rb') as f:\n",
    "            while True:\n",
    "                data = f.read(1048576)\n",
    "                if not data:\n",
    "                    break\n",
    "                sha1.update(data)\n",
    "        if sha1.hexdigest() == sha1_hash:\n",
    "            return fname  # Hit cache\n",
    "    print(f'正在从{url}下载{fname}...')\n",
    "    r = requests.get(url, stream=True, verify=True)\n",
    "    with open(fname, 'wb') as f:\n",
    "        f.write(r.content)\n",
    "    return fname"
   ]
  },
  {
   "cell_type": "code",
   "execution_count": 6,
   "metadata": {},
   "outputs": [],
   "source": [
    "def download_extract(name, folder=None):  #@save\n",
    "    \"\"\"下载并解压zip/tar文件。\"\"\"\n",
    "    fname = download(name)\n",
    "    base_dir = os.path.dirname(fname)\n",
    "    data_dir, ext = os.path.splitext(fname)\n",
    "    if ext == '.zip':\n",
    "        fp = zipfile.ZipFile(fname, 'r')\n",
    "    elif ext in ('.tar', '.gz'):\n",
    "        fp = tarfile.open(fname, 'r')\n",
    "    else:\n",
    "        assert False, '只有zip/tar文件可以被解压缩。'\n",
    "    fp.extractall(base_dir)\n",
    "    return os.path.join(base_dir, folder) if folder else data_dir\n",
    "\n",
    "def download_all():  #@save\n",
    "    \"\"\"下载DATA_HUB中的所有文件。\"\"\"\n",
    "    for name in DATA_HUB:\n",
    "        download(name)"
   ]
  },
  {
   "cell_type": "code",
   "execution_count": 7,
   "metadata": {},
   "outputs": [],
   "source": [
    "DATA_HUB['kaggle_house_train'] = (  #@save\n",
    "    DATA_URL + 'kaggle_house_pred_train.csv',\n",
    "    '585e9cc93e70b39160e7921475f9bcd7d31219ce')\n",
    "\n",
    "DATA_HUB['kaggle_house_test'] = (  #@save\n",
    "    DATA_URL + 'kaggle_house_pred_test.csv',\n",
    "    'fa19780a7b011d9b009e8bff8e99922a8ee2eb90')"
   ]
  },
  {
   "cell_type": "code",
   "execution_count": 8,
   "metadata": {},
   "outputs": [
    {
     "output_type": "stream",
     "name": "stdout",
     "text": [
      "正在从http://d2l-data.s3-accelerate.amazonaws.com/kaggle_house_pred_train.csv下载../data/kaggle_house_pred_train.csv...\n",
      "正在从http://d2l-data.s3-accelerate.amazonaws.com/kaggle_house_pred_test.csv下载../data/kaggle_house_pred_test.csv...\n"
     ]
    }
   ],
   "source": [
    "train_data = pd.read_csv(download('kaggle_house_train'))\n",
    "test_data = pd.read_csv(download('kaggle_house_test'))"
   ]
  },
  {
   "cell_type": "code",
   "execution_count": 9,
   "metadata": {},
   "outputs": [
    {
     "output_type": "stream",
     "name": "stdout",
     "text": [
      "(1460, 81)\n(1459, 80)\n"
     ]
    }
   ],
   "source": [
    "print(train_data.shape)\n",
    "print(test_data.shape)"
   ]
  },
  {
   "cell_type": "code",
   "execution_count": 10,
   "metadata": {},
   "outputs": [
    {
     "output_type": "stream",
     "name": "stdout",
     "text": [
      "   Id  MSSubClass MSZoning  LotFrontage SaleType SaleCondition  SalePrice\n0   1          60       RL         65.0       WD        Normal     208500\n1   2          20       RL         80.0       WD        Normal     181500\n2   3          60       RL         68.0       WD        Normal     223500\n3   4          70       RL         60.0       WD       Abnorml     140000\n"
     ]
    }
   ],
   "source": [
    "print(train_data.iloc[0:4, [0, 1, 2, 3, -3, -2, -1]])"
   ]
  },
  {
   "cell_type": "code",
   "execution_count": 12,
   "metadata": {},
   "outputs": [
    {
     "output_type": "execute_result",
     "data": {
      "text/plain": [
       "      MSSubClass MSZoning  LotFrontage  LotArea Street Alley LotShape  \\\n",
       "0             60       RL         65.0     8450   Pave   NaN      Reg   \n",
       "1             20       RL         80.0     9600   Pave   NaN      Reg   \n",
       "2             60       RL         68.0    11250   Pave   NaN      IR1   \n",
       "3             70       RL         60.0     9550   Pave   NaN      IR1   \n",
       "4             60       RL         84.0    14260   Pave   NaN      IR1   \n",
       "...          ...      ...          ...      ...    ...   ...      ...   \n",
       "1454         160       RM         21.0     1936   Pave   NaN      Reg   \n",
       "1455         160       RM         21.0     1894   Pave   NaN      Reg   \n",
       "1456          20       RL        160.0    20000   Pave   NaN      Reg   \n",
       "1457          85       RL         62.0    10441   Pave   NaN      Reg   \n",
       "1458          60       RL         74.0     9627   Pave   NaN      Reg   \n",
       "\n",
       "     LandContour Utilities LotConfig  ... ScreenPorch PoolArea PoolQC  Fence  \\\n",
       "0            Lvl    AllPub    Inside  ...           0        0    NaN    NaN   \n",
       "1            Lvl    AllPub       FR2  ...           0        0    NaN    NaN   \n",
       "2            Lvl    AllPub    Inside  ...           0        0    NaN    NaN   \n",
       "3            Lvl    AllPub    Corner  ...           0        0    NaN    NaN   \n",
       "4            Lvl    AllPub       FR2  ...           0        0    NaN    NaN   \n",
       "...          ...       ...       ...  ...         ...      ...    ...    ...   \n",
       "1454         Lvl    AllPub    Inside  ...           0        0    NaN    NaN   \n",
       "1455         Lvl    AllPub    Inside  ...           0        0    NaN    NaN   \n",
       "1456         Lvl    AllPub    Inside  ...           0        0    NaN    NaN   \n",
       "1457         Lvl    AllPub    Inside  ...           0        0    NaN  MnPrv   \n",
       "1458         Lvl    AllPub    Inside  ...           0        0    NaN    NaN   \n",
       "\n",
       "     MiscFeature MiscVal  MoSold  YrSold  SaleType  SaleCondition  \n",
       "0            NaN       0       2    2008        WD         Normal  \n",
       "1            NaN       0       5    2007        WD         Normal  \n",
       "2            NaN       0       9    2008        WD         Normal  \n",
       "3            NaN       0       2    2006        WD        Abnorml  \n",
       "4            NaN       0      12    2008        WD         Normal  \n",
       "...          ...     ...     ...     ...       ...            ...  \n",
       "1454         NaN       0       6    2006        WD         Normal  \n",
       "1455         NaN       0       4    2006        WD        Abnorml  \n",
       "1456         NaN       0       9    2006        WD        Abnorml  \n",
       "1457        Shed     700       7    2006        WD         Normal  \n",
       "1458         NaN       0      11    2006        WD         Normal  \n",
       "\n",
       "[2919 rows x 79 columns]"
      ],
      "text/html": "<div>\n<style scoped>\n    .dataframe tbody tr th:only-of-type {\n        vertical-align: middle;\n    }\n\n    .dataframe tbody tr th {\n        vertical-align: top;\n    }\n\n    .dataframe thead th {\n        text-align: right;\n    }\n</style>\n<table border=\"1\" class=\"dataframe\">\n  <thead>\n    <tr style=\"text-align: right;\">\n      <th></th>\n      <th>MSSubClass</th>\n      <th>MSZoning</th>\n      <th>LotFrontage</th>\n      <th>LotArea</th>\n      <th>Street</th>\n      <th>Alley</th>\n      <th>LotShape</th>\n      <th>LandContour</th>\n      <th>Utilities</th>\n      <th>LotConfig</th>\n      <th>...</th>\n      <th>ScreenPorch</th>\n      <th>PoolArea</th>\n      <th>PoolQC</th>\n      <th>Fence</th>\n      <th>MiscFeature</th>\n      <th>MiscVal</th>\n      <th>MoSold</th>\n      <th>YrSold</th>\n      <th>SaleType</th>\n      <th>SaleCondition</th>\n    </tr>\n  </thead>\n  <tbody>\n    <tr>\n      <th>0</th>\n      <td>60</td>\n      <td>RL</td>\n      <td>65.0</td>\n      <td>8450</td>\n      <td>Pave</td>\n      <td>NaN</td>\n      <td>Reg</td>\n      <td>Lvl</td>\n      <td>AllPub</td>\n      <td>Inside</td>\n      <td>...</td>\n      <td>0</td>\n      <td>0</td>\n      <td>NaN</td>\n      <td>NaN</td>\n      <td>NaN</td>\n      <td>0</td>\n      <td>2</td>\n      <td>2008</td>\n      <td>WD</td>\n      <td>Normal</td>\n    </tr>\n    <tr>\n      <th>1</th>\n      <td>20</td>\n      <td>RL</td>\n      <td>80.0</td>\n      <td>9600</td>\n      <td>Pave</td>\n      <td>NaN</td>\n      <td>Reg</td>\n      <td>Lvl</td>\n      <td>AllPub</td>\n      <td>FR2</td>\n      <td>...</td>\n      <td>0</td>\n      <td>0</td>\n      <td>NaN</td>\n      <td>NaN</td>\n      <td>NaN</td>\n      <td>0</td>\n      <td>5</td>\n      <td>2007</td>\n      <td>WD</td>\n      <td>Normal</td>\n    </tr>\n    <tr>\n      <th>2</th>\n      <td>60</td>\n      <td>RL</td>\n      <td>68.0</td>\n      <td>11250</td>\n      <td>Pave</td>\n      <td>NaN</td>\n      <td>IR1</td>\n      <td>Lvl</td>\n      <td>AllPub</td>\n      <td>Inside</td>\n      <td>...</td>\n      <td>0</td>\n      <td>0</td>\n      <td>NaN</td>\n      <td>NaN</td>\n      <td>NaN</td>\n      <td>0</td>\n      <td>9</td>\n      <td>2008</td>\n      <td>WD</td>\n      <td>Normal</td>\n    </tr>\n    <tr>\n      <th>3</th>\n      <td>70</td>\n      <td>RL</td>\n      <td>60.0</td>\n      <td>9550</td>\n      <td>Pave</td>\n      <td>NaN</td>\n      <td>IR1</td>\n      <td>Lvl</td>\n      <td>AllPub</td>\n      <td>Corner</td>\n      <td>...</td>\n      <td>0</td>\n      <td>0</td>\n      <td>NaN</td>\n      <td>NaN</td>\n      <td>NaN</td>\n      <td>0</td>\n      <td>2</td>\n      <td>2006</td>\n      <td>WD</td>\n      <td>Abnorml</td>\n    </tr>\n    <tr>\n      <th>4</th>\n      <td>60</td>\n      <td>RL</td>\n      <td>84.0</td>\n      <td>14260</td>\n      <td>Pave</td>\n      <td>NaN</td>\n      <td>IR1</td>\n      <td>Lvl</td>\n      <td>AllPub</td>\n      <td>FR2</td>\n      <td>...</td>\n      <td>0</td>\n      <td>0</td>\n      <td>NaN</td>\n      <td>NaN</td>\n      <td>NaN</td>\n      <td>0</td>\n      <td>12</td>\n      <td>2008</td>\n      <td>WD</td>\n      <td>Normal</td>\n    </tr>\n    <tr>\n      <th>...</th>\n      <td>...</td>\n      <td>...</td>\n      <td>...</td>\n      <td>...</td>\n      <td>...</td>\n      <td>...</td>\n      <td>...</td>\n      <td>...</td>\n      <td>...</td>\n      <td>...</td>\n      <td>...</td>\n      <td>...</td>\n      <td>...</td>\n      <td>...</td>\n      <td>...</td>\n      <td>...</td>\n      <td>...</td>\n      <td>...</td>\n      <td>...</td>\n      <td>...</td>\n      <td>...</td>\n    </tr>\n    <tr>\n      <th>1454</th>\n      <td>160</td>\n      <td>RM</td>\n      <td>21.0</td>\n      <td>1936</td>\n      <td>Pave</td>\n      <td>NaN</td>\n      <td>Reg</td>\n      <td>Lvl</td>\n      <td>AllPub</td>\n      <td>Inside</td>\n      <td>...</td>\n      <td>0</td>\n      <td>0</td>\n      <td>NaN</td>\n      <td>NaN</td>\n      <td>NaN</td>\n      <td>0</td>\n      <td>6</td>\n      <td>2006</td>\n      <td>WD</td>\n      <td>Normal</td>\n    </tr>\n    <tr>\n      <th>1455</th>\n      <td>160</td>\n      <td>RM</td>\n      <td>21.0</td>\n      <td>1894</td>\n      <td>Pave</td>\n      <td>NaN</td>\n      <td>Reg</td>\n      <td>Lvl</td>\n      <td>AllPub</td>\n      <td>Inside</td>\n      <td>...</td>\n      <td>0</td>\n      <td>0</td>\n      <td>NaN</td>\n      <td>NaN</td>\n      <td>NaN</td>\n      <td>0</td>\n      <td>4</td>\n      <td>2006</td>\n      <td>WD</td>\n      <td>Abnorml</td>\n    </tr>\n    <tr>\n      <th>1456</th>\n      <td>20</td>\n      <td>RL</td>\n      <td>160.0</td>\n      <td>20000</td>\n      <td>Pave</td>\n      <td>NaN</td>\n      <td>Reg</td>\n      <td>Lvl</td>\n      <td>AllPub</td>\n      <td>Inside</td>\n      <td>...</td>\n      <td>0</td>\n      <td>0</td>\n      <td>NaN</td>\n      <td>NaN</td>\n      <td>NaN</td>\n      <td>0</td>\n      <td>9</td>\n      <td>2006</td>\n      <td>WD</td>\n      <td>Abnorml</td>\n    </tr>\n    <tr>\n      <th>1457</th>\n      <td>85</td>\n      <td>RL</td>\n      <td>62.0</td>\n      <td>10441</td>\n      <td>Pave</td>\n      <td>NaN</td>\n      <td>Reg</td>\n      <td>Lvl</td>\n      <td>AllPub</td>\n      <td>Inside</td>\n      <td>...</td>\n      <td>0</td>\n      <td>0</td>\n      <td>NaN</td>\n      <td>MnPrv</td>\n      <td>Shed</td>\n      <td>700</td>\n      <td>7</td>\n      <td>2006</td>\n      <td>WD</td>\n      <td>Normal</td>\n    </tr>\n    <tr>\n      <th>1458</th>\n      <td>60</td>\n      <td>RL</td>\n      <td>74.0</td>\n      <td>9627</td>\n      <td>Pave</td>\n      <td>NaN</td>\n      <td>Reg</td>\n      <td>Lvl</td>\n      <td>AllPub</td>\n      <td>Inside</td>\n      <td>...</td>\n      <td>0</td>\n      <td>0</td>\n      <td>NaN</td>\n      <td>NaN</td>\n      <td>NaN</td>\n      <td>0</td>\n      <td>11</td>\n      <td>2006</td>\n      <td>WD</td>\n      <td>Normal</td>\n    </tr>\n  </tbody>\n</table>\n<p>2919 rows × 79 columns</p>\n</div>"
     },
     "metadata": {},
     "execution_count": 12
    }
   ],
   "source": [
    "all_features = pd.concat((train_data.iloc[:, 1:-1], test_data.iloc[:, 1:]))\n",
    "all_features"
   ]
  },
  {
   "cell_type": "code",
   "execution_count": 20,
   "metadata": {},
   "outputs": [
    {
     "output_type": "execute_result",
     "data": {
      "text/plain": [
       "      MSSubClass  LotFrontage   LotArea  OverallQual  OverallCond  YearBuilt  \\\n",
       "0       0.067320    -0.202033 -0.217841     0.646073    -0.507197   1.046078   \n",
       "1      -0.873466     0.501785 -0.072032    -0.063174     2.187904   0.154737   \n",
       "2       0.067320    -0.061269  0.137173     0.646073    -0.507197   0.980053   \n",
       "3       0.302516    -0.436639 -0.078371     0.646073    -0.507197  -1.859033   \n",
       "4       0.067320     0.689469  0.518814     1.355319    -0.507197   0.947040   \n",
       "...          ...          ...       ...          ...          ...        ...   \n",
       "1454    2.419286    -2.266564 -1.043758    -1.481667     1.289537  -0.043338   \n",
       "1455    2.419286    -2.266564 -1.049083    -1.481667    -0.507197  -0.043338   \n",
       "1456   -0.873466     4.255477  1.246594    -0.772420     1.289537  -0.373465   \n",
       "1457    0.655311    -0.342796  0.034599    -0.772420    -0.507197   0.682939   \n",
       "1458    0.067320     0.220258 -0.068608     0.646073    -0.507197   0.715952   \n",
       "\n",
       "      YearRemodAdd  MasVnrArea  BsmtFinSF1  BsmtFinSF2  ...  SaleType_Oth  \\\n",
       "0         0.896679    0.525112    0.580807    -0.29308  ...     -0.049021   \n",
       "1        -0.395536   -0.572152    1.177910    -0.29308  ...     -0.049021   \n",
       "2         0.848819    0.334770    0.097856    -0.29308  ...     -0.049021   \n",
       "3        -0.682695   -0.572152   -0.494856    -0.29308  ...     -0.049021   \n",
       "4         0.753100    1.387248    0.468851    -0.29308  ...     -0.049021   \n",
       "...            ...         ...         ...         ...  ...           ...   \n",
       "1454     -0.682695   -0.572152   -0.969026    -0.29308  ...     -0.049021   \n",
       "1455     -0.682695   -0.572152   -0.415828    -0.29308  ...     -0.049021   \n",
       "1456      0.561660   -0.572152    1.717937    -0.29308  ...     -0.049021   \n",
       "1457      0.370221   -0.572152   -0.229233    -0.29308  ...     -0.049021   \n",
       "1458      0.465941   -0.045913    0.694959    -0.29308  ...     -0.049021   \n",
       "\n",
       "      SaleType_WD  SaleType_nan  SaleCondition_Abnorml  SaleCondition_AdjLand  \\\n",
       "0        0.394951     -0.018509              -0.263816              -0.064238   \n",
       "1        0.394951     -0.018509              -0.263816              -0.064238   \n",
       "2        0.394951     -0.018509              -0.263816              -0.064238   \n",
       "3        0.394951     -0.018509               3.789226              -0.064238   \n",
       "4        0.394951     -0.018509              -0.263816              -0.064238   \n",
       "...           ...           ...                    ...                    ...   \n",
       "1454     0.394951     -0.018509              -0.263816              -0.064238   \n",
       "1455     0.394951     -0.018509               3.789226              -0.064238   \n",
       "1456     0.394951     -0.018509               3.789226              -0.064238   \n",
       "1457     0.394951     -0.018509              -0.263816              -0.064238   \n",
       "1458     0.394951     -0.018509              -0.263816              -0.064238   \n",
       "\n",
       "      SaleCondition_Alloca  SaleCondition_Family  SaleCondition_Normal  \\\n",
       "0                -0.091035             -0.126513              0.463857   \n",
       "1                -0.091035             -0.126513              0.463857   \n",
       "2                -0.091035             -0.126513              0.463857   \n",
       "3                -0.091035             -0.126513             -2.155097   \n",
       "4                -0.091035             -0.126513              0.463857   \n",
       "...                    ...                   ...                   ...   \n",
       "1454             -0.091035             -0.126513              0.463857   \n",
       "1455             -0.091035             -0.126513             -2.155097   \n",
       "1456             -0.091035             -0.126513             -2.155097   \n",
       "1457             -0.091035             -0.126513              0.463857   \n",
       "1458             -0.091035             -0.126513              0.463857   \n",
       "\n",
       "      SaleCondition_Partial  SaleCondition_nan  \n",
       "0                 -0.302641                0.0  \n",
       "1                 -0.302641                0.0  \n",
       "2                 -0.302641                0.0  \n",
       "3                 -0.302641                0.0  \n",
       "4                 -0.302641                0.0  \n",
       "...                     ...                ...  \n",
       "1454              -0.302641                0.0  \n",
       "1455              -0.302641                0.0  \n",
       "1456              -0.302641                0.0  \n",
       "1457              -0.302641                0.0  \n",
       "1458              -0.302641                0.0  \n",
       "\n",
       "[2919 rows x 331 columns]"
      ],
      "text/html": "<div>\n<style scoped>\n    .dataframe tbody tr th:only-of-type {\n        vertical-align: middle;\n    }\n\n    .dataframe tbody tr th {\n        vertical-align: top;\n    }\n\n    .dataframe thead th {\n        text-align: right;\n    }\n</style>\n<table border=\"1\" class=\"dataframe\">\n  <thead>\n    <tr style=\"text-align: right;\">\n      <th></th>\n      <th>MSSubClass</th>\n      <th>LotFrontage</th>\n      <th>LotArea</th>\n      <th>OverallQual</th>\n      <th>OverallCond</th>\n      <th>YearBuilt</th>\n      <th>YearRemodAdd</th>\n      <th>MasVnrArea</th>\n      <th>BsmtFinSF1</th>\n      <th>BsmtFinSF2</th>\n      <th>...</th>\n      <th>SaleType_Oth</th>\n      <th>SaleType_WD</th>\n      <th>SaleType_nan</th>\n      <th>SaleCondition_Abnorml</th>\n      <th>SaleCondition_AdjLand</th>\n      <th>SaleCondition_Alloca</th>\n      <th>SaleCondition_Family</th>\n      <th>SaleCondition_Normal</th>\n      <th>SaleCondition_Partial</th>\n      <th>SaleCondition_nan</th>\n    </tr>\n  </thead>\n  <tbody>\n    <tr>\n      <th>0</th>\n      <td>0.067320</td>\n      <td>-0.202033</td>\n      <td>-0.217841</td>\n      <td>0.646073</td>\n      <td>-0.507197</td>\n      <td>1.046078</td>\n      <td>0.896679</td>\n      <td>0.525112</td>\n      <td>0.580807</td>\n      <td>-0.29308</td>\n      <td>...</td>\n      <td>-0.049021</td>\n      <td>0.394951</td>\n      <td>-0.018509</td>\n      <td>-0.263816</td>\n      <td>-0.064238</td>\n      <td>-0.091035</td>\n      <td>-0.126513</td>\n      <td>0.463857</td>\n      <td>-0.302641</td>\n      <td>0.0</td>\n    </tr>\n    <tr>\n      <th>1</th>\n      <td>-0.873466</td>\n      <td>0.501785</td>\n      <td>-0.072032</td>\n      <td>-0.063174</td>\n      <td>2.187904</td>\n      <td>0.154737</td>\n      <td>-0.395536</td>\n      <td>-0.572152</td>\n      <td>1.177910</td>\n      <td>-0.29308</td>\n      <td>...</td>\n      <td>-0.049021</td>\n      <td>0.394951</td>\n      <td>-0.018509</td>\n      <td>-0.263816</td>\n      <td>-0.064238</td>\n      <td>-0.091035</td>\n      <td>-0.126513</td>\n      <td>0.463857</td>\n      <td>-0.302641</td>\n      <td>0.0</td>\n    </tr>\n    <tr>\n      <th>2</th>\n      <td>0.067320</td>\n      <td>-0.061269</td>\n      <td>0.137173</td>\n      <td>0.646073</td>\n      <td>-0.507197</td>\n      <td>0.980053</td>\n      <td>0.848819</td>\n      <td>0.334770</td>\n      <td>0.097856</td>\n      <td>-0.29308</td>\n      <td>...</td>\n      <td>-0.049021</td>\n      <td>0.394951</td>\n      <td>-0.018509</td>\n      <td>-0.263816</td>\n      <td>-0.064238</td>\n      <td>-0.091035</td>\n      <td>-0.126513</td>\n      <td>0.463857</td>\n      <td>-0.302641</td>\n      <td>0.0</td>\n    </tr>\n    <tr>\n      <th>3</th>\n      <td>0.302516</td>\n      <td>-0.436639</td>\n      <td>-0.078371</td>\n      <td>0.646073</td>\n      <td>-0.507197</td>\n      <td>-1.859033</td>\n      <td>-0.682695</td>\n      <td>-0.572152</td>\n      <td>-0.494856</td>\n      <td>-0.29308</td>\n      <td>...</td>\n      <td>-0.049021</td>\n      <td>0.394951</td>\n      <td>-0.018509</td>\n      <td>3.789226</td>\n      <td>-0.064238</td>\n      <td>-0.091035</td>\n      <td>-0.126513</td>\n      <td>-2.155097</td>\n      <td>-0.302641</td>\n      <td>0.0</td>\n    </tr>\n    <tr>\n      <th>4</th>\n      <td>0.067320</td>\n      <td>0.689469</td>\n      <td>0.518814</td>\n      <td>1.355319</td>\n      <td>-0.507197</td>\n      <td>0.947040</td>\n      <td>0.753100</td>\n      <td>1.387248</td>\n      <td>0.468851</td>\n      <td>-0.29308</td>\n      <td>...</td>\n      <td>-0.049021</td>\n      <td>0.394951</td>\n      <td>-0.018509</td>\n      <td>-0.263816</td>\n      <td>-0.064238</td>\n      <td>-0.091035</td>\n      <td>-0.126513</td>\n      <td>0.463857</td>\n      <td>-0.302641</td>\n      <td>0.0</td>\n    </tr>\n    <tr>\n      <th>...</th>\n      <td>...</td>\n      <td>...</td>\n      <td>...</td>\n      <td>...</td>\n      <td>...</td>\n      <td>...</td>\n      <td>...</td>\n      <td>...</td>\n      <td>...</td>\n      <td>...</td>\n      <td>...</td>\n      <td>...</td>\n      <td>...</td>\n      <td>...</td>\n      <td>...</td>\n      <td>...</td>\n      <td>...</td>\n      <td>...</td>\n      <td>...</td>\n      <td>...</td>\n      <td>...</td>\n    </tr>\n    <tr>\n      <th>1454</th>\n      <td>2.419286</td>\n      <td>-2.266564</td>\n      <td>-1.043758</td>\n      <td>-1.481667</td>\n      <td>1.289537</td>\n      <td>-0.043338</td>\n      <td>-0.682695</td>\n      <td>-0.572152</td>\n      <td>-0.969026</td>\n      <td>-0.29308</td>\n      <td>...</td>\n      <td>-0.049021</td>\n      <td>0.394951</td>\n      <td>-0.018509</td>\n      <td>-0.263816</td>\n      <td>-0.064238</td>\n      <td>-0.091035</td>\n      <td>-0.126513</td>\n      <td>0.463857</td>\n      <td>-0.302641</td>\n      <td>0.0</td>\n    </tr>\n    <tr>\n      <th>1455</th>\n      <td>2.419286</td>\n      <td>-2.266564</td>\n      <td>-1.049083</td>\n      <td>-1.481667</td>\n      <td>-0.507197</td>\n      <td>-0.043338</td>\n      <td>-0.682695</td>\n      <td>-0.572152</td>\n      <td>-0.415828</td>\n      <td>-0.29308</td>\n      <td>...</td>\n      <td>-0.049021</td>\n      <td>0.394951</td>\n      <td>-0.018509</td>\n      <td>3.789226</td>\n      <td>-0.064238</td>\n      <td>-0.091035</td>\n      <td>-0.126513</td>\n      <td>-2.155097</td>\n      <td>-0.302641</td>\n      <td>0.0</td>\n    </tr>\n    <tr>\n      <th>1456</th>\n      <td>-0.873466</td>\n      <td>4.255477</td>\n      <td>1.246594</td>\n      <td>-0.772420</td>\n      <td>1.289537</td>\n      <td>-0.373465</td>\n      <td>0.561660</td>\n      <td>-0.572152</td>\n      <td>1.717937</td>\n      <td>-0.29308</td>\n      <td>...</td>\n      <td>-0.049021</td>\n      <td>0.394951</td>\n      <td>-0.018509</td>\n      <td>3.789226</td>\n      <td>-0.064238</td>\n      <td>-0.091035</td>\n      <td>-0.126513</td>\n      <td>-2.155097</td>\n      <td>-0.302641</td>\n      <td>0.0</td>\n    </tr>\n    <tr>\n      <th>1457</th>\n      <td>0.655311</td>\n      <td>-0.342796</td>\n      <td>0.034599</td>\n      <td>-0.772420</td>\n      <td>-0.507197</td>\n      <td>0.682939</td>\n      <td>0.370221</td>\n      <td>-0.572152</td>\n      <td>-0.229233</td>\n      <td>-0.29308</td>\n      <td>...</td>\n      <td>-0.049021</td>\n      <td>0.394951</td>\n      <td>-0.018509</td>\n      <td>-0.263816</td>\n      <td>-0.064238</td>\n      <td>-0.091035</td>\n      <td>-0.126513</td>\n      <td>0.463857</td>\n      <td>-0.302641</td>\n      <td>0.0</td>\n    </tr>\n    <tr>\n      <th>1458</th>\n      <td>0.067320</td>\n      <td>0.220258</td>\n      <td>-0.068608</td>\n      <td>0.646073</td>\n      <td>-0.507197</td>\n      <td>0.715952</td>\n      <td>0.465941</td>\n      <td>-0.045913</td>\n      <td>0.694959</td>\n      <td>-0.29308</td>\n      <td>...</td>\n      <td>-0.049021</td>\n      <td>0.394951</td>\n      <td>-0.018509</td>\n      <td>-0.263816</td>\n      <td>-0.064238</td>\n      <td>-0.091035</td>\n      <td>-0.126513</td>\n      <td>0.463857</td>\n      <td>-0.302641</td>\n      <td>0.0</td>\n    </tr>\n  </tbody>\n</table>\n<p>2919 rows × 331 columns</p>\n</div>"
     },
     "metadata": {},
     "execution_count": 20
    }
   ],
   "source": [
    "numeric_features = all_features.dtypes[all_features.dtypes != 'object'].index\n",
    "all_features[numeric_features] = all_features[numeric_features].apply(\n",
    "    lambda x: (x - x.mean()) / (x.std()))\n",
    "# 在标准化数据之后，所有数据都意味着消失，因此我们可以将缺失值设置为0\n",
    "all_features[numeric_features] = all_features[numeric_features].fillna(0)\n",
    "all_features"
   ]
  },
  {
   "cell_type": "code",
   "execution_count": 17,
   "metadata": {},
   "outputs": [
    {
     "output_type": "execute_result",
     "data": {
      "text/plain": [
       "(2919, 331)"
      ]
     },
     "metadata": {},
     "execution_count": 17
    }
   ],
   "source": [
    "# `Dummy_na=True` 将“na”（缺失值）视为有效的特征值，并为其创建指示符特征。\n",
    "all_features = pd.get_dummies(all_features, dummy_na=True)\n",
    "all_features.shape"
   ]
  },
  {
   "cell_type": "code",
   "execution_count": 19,
   "metadata": {},
   "outputs": [
    {
     "output_type": "execute_result",
     "data": {
      "text/plain": [
       "tensor([[ 0.0673, -0.2020, -0.2178,  ...,  0.4639, -0.3026,  0.0000],\n",
       "        [-0.8735,  0.5018, -0.0720,  ...,  0.4639, -0.3026,  0.0000],\n",
       "        [ 0.0673, -0.0613,  0.1372,  ...,  0.4639, -0.3026,  0.0000],\n",
       "        ...,\n",
       "        [ 0.3025, -0.1551, -0.1428,  ...,  0.4639, -0.3026,  0.0000],\n",
       "        [-0.8735, -0.0613, -0.0572,  ...,  0.4639, -0.3026,  0.0000],\n",
       "        [-0.8735,  0.2672, -0.0293,  ...,  0.4639, -0.3026,  0.0000]])"
      ]
     },
     "metadata": {},
     "execution_count": 19
    }
   ],
   "source": [
    "n_train = train_data.shape[0]\n",
    "train_features = torch.tensor(all_features[:n_train].values,\n",
    "                              dtype=torch.float32)\n",
    "test_features = torch.tensor(all_features[n_train:].values,\n",
    "                             dtype=torch.float32)\n",
    "train_labels = torch.tensor(train_data.SalePrice.values.reshape(-1, 1),\n",
    "                            dtype=torch.float32)\n",
    "train_features"
   ]
  },
  {
   "cell_type": "code",
   "execution_count": null,
   "metadata": {},
   "outputs": [],
   "source": []
  }
 ]
}